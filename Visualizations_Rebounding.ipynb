{
 "cells": [
  {
   "cell_type": "code",
   "execution_count": 24,
   "metadata": {},
   "outputs": [
    {
     "name": "stdout",
     "output_type": "stream",
     "text": [
      "MySQL Database connection successful\n"
     ]
    }
   ],
   "source": [
    "import pandas as pd\n",
    "from sql_functions import create_db_connection, execute_query, read_query\n",
    "import plotly.express as px \n",
    "import plotly.graph_objects as go\n",
    "\n",
    "#connect to database\n",
    "pw = \"Queens2021!\"\n",
    "connection = create_db_connection(\"localhost\", \"root\", pw, \"usports\")"
   ]
  },
  {
   "cell_type": "code",
   "execution_count": 76,
   "metadata": {},
   "outputs": [],
   "source": [
    "#for placing text in multiple positions on scatter plot to reduce overlap\n",
    "def improve_text_position(x):\n",
    "    \"\"\" it is more efficient if the x values are sorted \"\"\"\n",
    "    # fix indentation \n",
    "    positions = ['top center', 'bottom center']  # you can add more: left center ...\n",
    "    return [positions[i % len(positions)] for i in range(len(x))]"
   ]
  },
  {
   "attachments": {},
   "cell_type": "markdown",
   "metadata": {},
   "source": [
    "#### Look at top 20 rebounding averages"
   ]
  },
  {
   "cell_type": "code",
   "execution_count": 77,
   "metadata": {},
   "outputs": [
    {
     "data": {
      "text/html": [
       "<div>\n",
       "<style scoped>\n",
       "    .dataframe tbody tr th:only-of-type {\n",
       "        vertical-align: middle;\n",
       "    }\n",
       "\n",
       "    .dataframe tbody tr th {\n",
       "        vertical-align: top;\n",
       "    }\n",
       "\n",
       "    .dataframe thead th {\n",
       "        text-align: right;\n",
       "    }\n",
       "</style>\n",
       "<table border=\"1\" class=\"dataframe\">\n",
       "  <thead>\n",
       "    <tr style=\"text-align: right;\">\n",
       "      <th></th>\n",
       "      <th>Season</th>\n",
       "      <th>mpg</th>\n",
       "      <th>reb</th>\n",
       "      <th>multiplier</th>\n",
       "      <th>Player</th>\n",
       "      <th>Team</th>\n",
       "      <th>adjusted reb</th>\n",
       "    </tr>\n",
       "  </thead>\n",
       "  <tbody>\n",
       "    <tr>\n",
       "      <th>0</th>\n",
       "      <td>2023</td>\n",
       "      <td>33.3</td>\n",
       "      <td>16.6</td>\n",
       "      <td>1.201201</td>\n",
       "      <td>Kiyara Letlow</td>\n",
       "      <td>capebreton</td>\n",
       "      <td>19.939940</td>\n",
       "    </tr>\n",
       "    <tr>\n",
       "      <th>1</th>\n",
       "      <td>2022</td>\n",
       "      <td>33.8</td>\n",
       "      <td>15.7</td>\n",
       "      <td>1.183432</td>\n",
       "      <td>Kiyara Letlow</td>\n",
       "      <td>capebreton</td>\n",
       "      <td>18.579882</td>\n",
       "    </tr>\n",
       "    <tr>\n",
       "      <th>2</th>\n",
       "      <td>2015</td>\n",
       "      <td>33.3</td>\n",
       "      <td>15.3</td>\n",
       "      <td>1.201201</td>\n",
       "      <td>Sarah Wierks</td>\n",
       "      <td>ufv</td>\n",
       "      <td>18.378379</td>\n",
       "    </tr>\n",
       "    <tr>\n",
       "      <th>3</th>\n",
       "      <td>2022</td>\n",
       "      <td>30.2</td>\n",
       "      <td>15.0</td>\n",
       "      <td>1.324503</td>\n",
       "      <td>Carolina De Santo</td>\n",
       "      <td>upei</td>\n",
       "      <td>19.867549</td>\n",
       "    </tr>\n",
       "    <tr>\n",
       "      <th>4</th>\n",
       "      <td>2018</td>\n",
       "      <td>26.1</td>\n",
       "      <td>14.1</td>\n",
       "      <td>1.532567</td>\n",
       "      <td>Leashja Grant</td>\n",
       "      <td>lakehead</td>\n",
       "      <td>21.609195</td>\n",
       "    </tr>\n",
       "    <tr>\n",
       "      <th>5</th>\n",
       "      <td>2019</td>\n",
       "      <td>28.9</td>\n",
       "      <td>13.3</td>\n",
       "      <td>1.384083</td>\n",
       "      <td>Carolina De Santo</td>\n",
       "      <td>upei</td>\n",
       "      <td>18.408305</td>\n",
       "    </tr>\n",
       "    <tr>\n",
       "      <th>6</th>\n",
       "      <td>2019</td>\n",
       "      <td>34.6</td>\n",
       "      <td>12.7</td>\n",
       "      <td>1.156069</td>\n",
       "      <td>Vasiliki Louka</td>\n",
       "      <td>unbc</td>\n",
       "      <td>14.682082</td>\n",
       "    </tr>\n",
       "    <tr>\n",
       "      <th>7</th>\n",
       "      <td>2023</td>\n",
       "      <td>28.6</td>\n",
       "      <td>12.6</td>\n",
       "      <td>1.398601</td>\n",
       "      <td>Claire Signatovich</td>\n",
       "      <td>alberta</td>\n",
       "      <td>17.622377</td>\n",
       "    </tr>\n",
       "    <tr>\n",
       "      <th>8</th>\n",
       "      <td>2019</td>\n",
       "      <td>32.4</td>\n",
       "      <td>12.6</td>\n",
       "      <td>1.234568</td>\n",
       "      <td>Hannah Brown</td>\n",
       "      <td>capebreton</td>\n",
       "      <td>15.555555</td>\n",
       "    </tr>\n",
       "    <tr>\n",
       "      <th>9</th>\n",
       "      <td>2019</td>\n",
       "      <td>25.7</td>\n",
       "      <td>12.5</td>\n",
       "      <td>1.556420</td>\n",
       "      <td>Leashja Grant</td>\n",
       "      <td>lakehead</td>\n",
       "      <td>19.455252</td>\n",
       "    </tr>\n",
       "    <tr>\n",
       "      <th>10</th>\n",
       "      <td>2018</td>\n",
       "      <td>28.3</td>\n",
       "      <td>12.5</td>\n",
       "      <td>1.413428</td>\n",
       "      <td>Carolina De Santo</td>\n",
       "      <td>upei</td>\n",
       "      <td>17.667845</td>\n",
       "    </tr>\n",
       "    <tr>\n",
       "      <th>11</th>\n",
       "      <td>2018</td>\n",
       "      <td>27.9</td>\n",
       "      <td>12.3</td>\n",
       "      <td>1.433692</td>\n",
       "      <td>Lindsay Shotbolt</td>\n",
       "      <td>york</td>\n",
       "      <td>17.634409</td>\n",
       "    </tr>\n",
       "    <tr>\n",
       "      <th>12</th>\n",
       "      <td>2018</td>\n",
       "      <td>28.5</td>\n",
       "      <td>12.3</td>\n",
       "      <td>1.403509</td>\n",
       "      <td>Elle Hendershot</td>\n",
       "      <td>alberta</td>\n",
       "      <td>17.263158</td>\n",
       "    </tr>\n",
       "    <tr>\n",
       "      <th>13</th>\n",
       "      <td>2018</td>\n",
       "      <td>35.6</td>\n",
       "      <td>12.2</td>\n",
       "      <td>1.123596</td>\n",
       "      <td>Vasiliki Louka</td>\n",
       "      <td>unbc</td>\n",
       "      <td>13.707866</td>\n",
       "    </tr>\n",
       "    <tr>\n",
       "      <th>14</th>\n",
       "      <td>2022</td>\n",
       "      <td>32.2</td>\n",
       "      <td>12.1</td>\n",
       "      <td>1.242236</td>\n",
       "      <td>Svetlana Boykova</td>\n",
       "      <td>unbc</td>\n",
       "      <td>15.031056</td>\n",
       "    </tr>\n",
       "    <tr>\n",
       "      <th>15</th>\n",
       "      <td>2022</td>\n",
       "      <td>29.0</td>\n",
       "      <td>12.1</td>\n",
       "      <td>1.379310</td>\n",
       "      <td>Sophie d Goede</td>\n",
       "      <td>queens</td>\n",
       "      <td>16.689655</td>\n",
       "    </tr>\n",
       "    <tr>\n",
       "      <th>16</th>\n",
       "      <td>2023</td>\n",
       "      <td>27.9</td>\n",
       "      <td>12.0</td>\n",
       "      <td>1.433692</td>\n",
       "      <td>Julia Chadwick</td>\n",
       "      <td>queens</td>\n",
       "      <td>17.204301</td>\n",
       "    </tr>\n",
       "    <tr>\n",
       "      <th>17</th>\n",
       "      <td>2020</td>\n",
       "      <td>26.1</td>\n",
       "      <td>12.0</td>\n",
       "      <td>1.532567</td>\n",
       "      <td>Carolina De Santo</td>\n",
       "      <td>upei</td>\n",
       "      <td>18.390804</td>\n",
       "    </tr>\n",
       "    <tr>\n",
       "      <th>18</th>\n",
       "      <td>2018</td>\n",
       "      <td>33.0</td>\n",
       "      <td>12.0</td>\n",
       "      <td>1.212121</td>\n",
       "      <td>Alison Keough</td>\n",
       "      <td>capebreton</td>\n",
       "      <td>14.545455</td>\n",
       "    </tr>\n",
       "    <tr>\n",
       "      <th>19</th>\n",
       "      <td>2018</td>\n",
       "      <td>32.3</td>\n",
       "      <td>11.8</td>\n",
       "      <td>1.238390</td>\n",
       "      <td>Alex Kiss-Rusk</td>\n",
       "      <td>mcgill</td>\n",
       "      <td>14.613003</td>\n",
       "    </tr>\n",
       "  </tbody>\n",
       "</table>\n",
       "</div>"
      ],
      "text/plain": [
       "    Season   mpg   reb  multiplier              Player        Team  \\\n",
       "0     2023  33.3  16.6    1.201201       Kiyara Letlow  capebreton   \n",
       "1     2022  33.8  15.7    1.183432       Kiyara Letlow  capebreton   \n",
       "2     2015  33.3  15.3    1.201201        Sarah Wierks         ufv   \n",
       "3     2022  30.2  15.0    1.324503   Carolina De Santo        upei   \n",
       "4     2018  26.1  14.1    1.532567       Leashja Grant    lakehead   \n",
       "5     2019  28.9  13.3    1.384083   Carolina De Santo        upei   \n",
       "6     2019  34.6  12.7    1.156069      Vasiliki Louka        unbc   \n",
       "7     2023  28.6  12.6    1.398601  Claire Signatovich     alberta   \n",
       "8     2019  32.4  12.6    1.234568        Hannah Brown  capebreton   \n",
       "9     2019  25.7  12.5    1.556420       Leashja Grant    lakehead   \n",
       "10    2018  28.3  12.5    1.413428   Carolina De Santo        upei   \n",
       "11    2018  27.9  12.3    1.433692    Lindsay Shotbolt        york   \n",
       "12    2018  28.5  12.3    1.403509     Elle Hendershot     alberta   \n",
       "13    2018  35.6  12.2    1.123596      Vasiliki Louka        unbc   \n",
       "14    2022  32.2  12.1    1.242236    Svetlana Boykova        unbc   \n",
       "15    2022  29.0  12.1    1.379310      Sophie d Goede      queens   \n",
       "16    2023  27.9  12.0    1.433692      Julia Chadwick      queens   \n",
       "17    2020  26.1  12.0    1.532567   Carolina De Santo        upei   \n",
       "18    2018  33.0  12.0    1.212121       Alison Keough  capebreton   \n",
       "19    2018  32.3  11.8    1.238390      Alex Kiss-Rusk      mcgill   \n",
       "\n",
       "    adjusted reb  \n",
       "0      19.939940  \n",
       "1      18.579882  \n",
       "2      18.378379  \n",
       "3      19.867549  \n",
       "4      21.609195  \n",
       "5      18.408305  \n",
       "6      14.682082  \n",
       "7      17.622377  \n",
       "8      15.555555  \n",
       "9      19.455252  \n",
       "10     17.667845  \n",
       "11     17.634409  \n",
       "12     17.263158  \n",
       "13     13.707866  \n",
       "14     15.031056  \n",
       "15     16.689655  \n",
       "16     17.204301  \n",
       "17     18.390804  \n",
       "18     14.545455  \n",
       "19     14.613003  "
      ]
     },
     "execution_count": 77,
     "metadata": {},
     "output_type": "execute_result"
    }
   ],
   "source": [
    "q = \"\"\"\n",
    "SELECT season, minutes_pgame, reb, 40/minutes_pgame AS multiplier, name, team\n",
    "FROM players\n",
    "NATURAL JOIN player_ballcontrol\n",
    "NATURAL JOIN player_info\n",
    "WHERE games_played > 10\n",
    "ORDER BY reb DESC\n",
    "LIMIT 20\n",
    "\"\"\"\n",
    "\n",
    "result = read_query(connection, q, None)\n",
    "result\n",
    "df = pd.DataFrame(result, columns=['Season', 'mpg', 'reb', 'multiplier', 'Player', 'Team'])\n",
    "df['adjusted reb'] = df['reb']*df['multiplier']\n",
    "df"
   ]
  },
  {
   "attachments": {},
   "cell_type": "markdown",
   "metadata": {},
   "source": [
    "Compare per game rebounding with per 40 minutes rebounding for those with top 20 reb/g"
   ]
  },
  {
   "cell_type": "code",
   "execution_count": 78,
   "metadata": {},
   "outputs": [
    {
     "data": {
      "application/vnd.plotly.v1+json": {
       "config": {
        "plotlyServerURL": "https://plot.ly"
       },
       "data": [
        {
         "hovertemplate": "reb=%{x}<br>adjusted reb=%{y}<br>Player=%{text}<extra></extra>",
         "legendgroup": "",
         "marker": {
          "color": "#636efa",
          "size": 10,
          "symbol": "circle"
         },
         "mode": "markers+text",
         "name": "",
         "orientation": "v",
         "showlegend": false,
         "text": [
          "Alex Kiss-Rusk",
          "Carolina De Santo",
          "Julia Chadwick",
          "Alison Keough",
          "Sophie d Goede",
          "Svetlana Boykova",
          "Vasiliki Louka",
          "Elle Hendershot",
          "Lindsay Shotbolt",
          "Carolina De Santo",
          "Leashja Grant",
          "Claire Signatovich",
          "Hannah Brown",
          "Vasiliki Louka",
          "Carolina De Santo",
          "Leashja Grant",
          "Carolina De Santo",
          "Sarah Wierks",
          "Kiyara Letlow",
          "Kiyara Letlow"
         ],
         "textfont": {
          "size": 11
         },
         "textposition": [
          "top center",
          "bottom center",
          "top center",
          "bottom center",
          "top center",
          "bottom center",
          "top center",
          "bottom center",
          "top center",
          "bottom center",
          "top center",
          "bottom center",
          "top center",
          "bottom center",
          "top center",
          "bottom center",
          "top center",
          "bottom center",
          "top center",
          "bottom center"
         ],
         "type": "scatter",
         "x": [
          11.8,
          12,
          12,
          12,
          12.1,
          12.1,
          12.2,
          12.3,
          12.3,
          12.5,
          12.5,
          12.6,
          12.6,
          12.7,
          13.3,
          14.1,
          15,
          15.3,
          15.7,
          16.6
         ],
         "xaxis": "x",
         "y": [
          14.613003441140462,
          18.390804328906704,
          17.20430131049893,
          14.545454545454547,
          16.689655172413794,
          15.031055544478718,
          13.707865756082674,
          17.263157894736842,
          17.634408843261404,
          17.667844999275477,
          19.45525234073231,
          17.622377387328548,
          15.555554822966267,
          14.682081572343312,
          18.408304741252973,
          21.609195086465373,
          19.86754916696235,
          18.37837879944716,
          18.579882076193048,
          19.939940396785804
         ],
         "yaxis": "y"
        }
       ],
       "layout": {
        "height": 800,
        "legend": {
         "tracegroupgap": 0
        },
        "margin": {
         "t": 60
        },
        "template": {
         "data": {
          "bar": [
           {
            "error_x": {
             "color": "#f2f5fa"
            },
            "error_y": {
             "color": "#f2f5fa"
            },
            "marker": {
             "line": {
              "color": "rgb(17,17,17)",
              "width": 0.5
             },
             "pattern": {
              "fillmode": "overlay",
              "size": 10,
              "solidity": 0.2
             }
            },
            "type": "bar"
           }
          ],
          "barpolar": [
           {
            "marker": {
             "line": {
              "color": "rgb(17,17,17)",
              "width": 0.5
             },
             "pattern": {
              "fillmode": "overlay",
              "size": 10,
              "solidity": 0.2
             }
            },
            "type": "barpolar"
           }
          ],
          "carpet": [
           {
            "aaxis": {
             "endlinecolor": "#A2B1C6",
             "gridcolor": "#506784",
             "linecolor": "#506784",
             "minorgridcolor": "#506784",
             "startlinecolor": "#A2B1C6"
            },
            "baxis": {
             "endlinecolor": "#A2B1C6",
             "gridcolor": "#506784",
             "linecolor": "#506784",
             "minorgridcolor": "#506784",
             "startlinecolor": "#A2B1C6"
            },
            "type": "carpet"
           }
          ],
          "choropleth": [
           {
            "colorbar": {
             "outlinewidth": 0,
             "ticks": ""
            },
            "type": "choropleth"
           }
          ],
          "contour": [
           {
            "colorbar": {
             "outlinewidth": 0,
             "ticks": ""
            },
            "colorscale": [
             [
              0,
              "#0d0887"
             ],
             [
              0.1111111111111111,
              "#46039f"
             ],
             [
              0.2222222222222222,
              "#7201a8"
             ],
             [
              0.3333333333333333,
              "#9c179e"
             ],
             [
              0.4444444444444444,
              "#bd3786"
             ],
             [
              0.5555555555555556,
              "#d8576b"
             ],
             [
              0.6666666666666666,
              "#ed7953"
             ],
             [
              0.7777777777777778,
              "#fb9f3a"
             ],
             [
              0.8888888888888888,
              "#fdca26"
             ],
             [
              1,
              "#f0f921"
             ]
            ],
            "type": "contour"
           }
          ],
          "contourcarpet": [
           {
            "colorbar": {
             "outlinewidth": 0,
             "ticks": ""
            },
            "type": "contourcarpet"
           }
          ],
          "heatmap": [
           {
            "colorbar": {
             "outlinewidth": 0,
             "ticks": ""
            },
            "colorscale": [
             [
              0,
              "#0d0887"
             ],
             [
              0.1111111111111111,
              "#46039f"
             ],
             [
              0.2222222222222222,
              "#7201a8"
             ],
             [
              0.3333333333333333,
              "#9c179e"
             ],
             [
              0.4444444444444444,
              "#bd3786"
             ],
             [
              0.5555555555555556,
              "#d8576b"
             ],
             [
              0.6666666666666666,
              "#ed7953"
             ],
             [
              0.7777777777777778,
              "#fb9f3a"
             ],
             [
              0.8888888888888888,
              "#fdca26"
             ],
             [
              1,
              "#f0f921"
             ]
            ],
            "type": "heatmap"
           }
          ],
          "heatmapgl": [
           {
            "colorbar": {
             "outlinewidth": 0,
             "ticks": ""
            },
            "colorscale": [
             [
              0,
              "#0d0887"
             ],
             [
              0.1111111111111111,
              "#46039f"
             ],
             [
              0.2222222222222222,
              "#7201a8"
             ],
             [
              0.3333333333333333,
              "#9c179e"
             ],
             [
              0.4444444444444444,
              "#bd3786"
             ],
             [
              0.5555555555555556,
              "#d8576b"
             ],
             [
              0.6666666666666666,
              "#ed7953"
             ],
             [
              0.7777777777777778,
              "#fb9f3a"
             ],
             [
              0.8888888888888888,
              "#fdca26"
             ],
             [
              1,
              "#f0f921"
             ]
            ],
            "type": "heatmapgl"
           }
          ],
          "histogram": [
           {
            "marker": {
             "pattern": {
              "fillmode": "overlay",
              "size": 10,
              "solidity": 0.2
             }
            },
            "type": "histogram"
           }
          ],
          "histogram2d": [
           {
            "colorbar": {
             "outlinewidth": 0,
             "ticks": ""
            },
            "colorscale": [
             [
              0,
              "#0d0887"
             ],
             [
              0.1111111111111111,
              "#46039f"
             ],
             [
              0.2222222222222222,
              "#7201a8"
             ],
             [
              0.3333333333333333,
              "#9c179e"
             ],
             [
              0.4444444444444444,
              "#bd3786"
             ],
             [
              0.5555555555555556,
              "#d8576b"
             ],
             [
              0.6666666666666666,
              "#ed7953"
             ],
             [
              0.7777777777777778,
              "#fb9f3a"
             ],
             [
              0.8888888888888888,
              "#fdca26"
             ],
             [
              1,
              "#f0f921"
             ]
            ],
            "type": "histogram2d"
           }
          ],
          "histogram2dcontour": [
           {
            "colorbar": {
             "outlinewidth": 0,
             "ticks": ""
            },
            "colorscale": [
             [
              0,
              "#0d0887"
             ],
             [
              0.1111111111111111,
              "#46039f"
             ],
             [
              0.2222222222222222,
              "#7201a8"
             ],
             [
              0.3333333333333333,
              "#9c179e"
             ],
             [
              0.4444444444444444,
              "#bd3786"
             ],
             [
              0.5555555555555556,
              "#d8576b"
             ],
             [
              0.6666666666666666,
              "#ed7953"
             ],
             [
              0.7777777777777778,
              "#fb9f3a"
             ],
             [
              0.8888888888888888,
              "#fdca26"
             ],
             [
              1,
              "#f0f921"
             ]
            ],
            "type": "histogram2dcontour"
           }
          ],
          "mesh3d": [
           {
            "colorbar": {
             "outlinewidth": 0,
             "ticks": ""
            },
            "type": "mesh3d"
           }
          ],
          "parcoords": [
           {
            "line": {
             "colorbar": {
              "outlinewidth": 0,
              "ticks": ""
             }
            },
            "type": "parcoords"
           }
          ],
          "pie": [
           {
            "automargin": true,
            "type": "pie"
           }
          ],
          "scatter": [
           {
            "marker": {
             "line": {
              "color": "#283442"
             }
            },
            "type": "scatter"
           }
          ],
          "scatter3d": [
           {
            "line": {
             "colorbar": {
              "outlinewidth": 0,
              "ticks": ""
             }
            },
            "marker": {
             "colorbar": {
              "outlinewidth": 0,
              "ticks": ""
             }
            },
            "type": "scatter3d"
           }
          ],
          "scattercarpet": [
           {
            "marker": {
             "colorbar": {
              "outlinewidth": 0,
              "ticks": ""
             }
            },
            "type": "scattercarpet"
           }
          ],
          "scattergeo": [
           {
            "marker": {
             "colorbar": {
              "outlinewidth": 0,
              "ticks": ""
             }
            },
            "type": "scattergeo"
           }
          ],
          "scattergl": [
           {
            "marker": {
             "line": {
              "color": "#283442"
             }
            },
            "type": "scattergl"
           }
          ],
          "scattermapbox": [
           {
            "marker": {
             "colorbar": {
              "outlinewidth": 0,
              "ticks": ""
             }
            },
            "type": "scattermapbox"
           }
          ],
          "scatterpolar": [
           {
            "marker": {
             "colorbar": {
              "outlinewidth": 0,
              "ticks": ""
             }
            },
            "type": "scatterpolar"
           }
          ],
          "scatterpolargl": [
           {
            "marker": {
             "colorbar": {
              "outlinewidth": 0,
              "ticks": ""
             }
            },
            "type": "scatterpolargl"
           }
          ],
          "scatterternary": [
           {
            "marker": {
             "colorbar": {
              "outlinewidth": 0,
              "ticks": ""
             }
            },
            "type": "scatterternary"
           }
          ],
          "surface": [
           {
            "colorbar": {
             "outlinewidth": 0,
             "ticks": ""
            },
            "colorscale": [
             [
              0,
              "#0d0887"
             ],
             [
              0.1111111111111111,
              "#46039f"
             ],
             [
              0.2222222222222222,
              "#7201a8"
             ],
             [
              0.3333333333333333,
              "#9c179e"
             ],
             [
              0.4444444444444444,
              "#bd3786"
             ],
             [
              0.5555555555555556,
              "#d8576b"
             ],
             [
              0.6666666666666666,
              "#ed7953"
             ],
             [
              0.7777777777777778,
              "#fb9f3a"
             ],
             [
              0.8888888888888888,
              "#fdca26"
             ],
             [
              1,
              "#f0f921"
             ]
            ],
            "type": "surface"
           }
          ],
          "table": [
           {
            "cells": {
             "fill": {
              "color": "#506784"
             },
             "line": {
              "color": "rgb(17,17,17)"
             }
            },
            "header": {
             "fill": {
              "color": "#2a3f5f"
             },
             "line": {
              "color": "rgb(17,17,17)"
             }
            },
            "type": "table"
           }
          ]
         },
         "layout": {
          "annotationdefaults": {
           "arrowcolor": "#f2f5fa",
           "arrowhead": 0,
           "arrowwidth": 1
          },
          "autotypenumbers": "strict",
          "coloraxis": {
           "colorbar": {
            "outlinewidth": 0,
            "ticks": ""
           }
          },
          "colorscale": {
           "diverging": [
            [
             0,
             "#8e0152"
            ],
            [
             0.1,
             "#c51b7d"
            ],
            [
             0.2,
             "#de77ae"
            ],
            [
             0.3,
             "#f1b6da"
            ],
            [
             0.4,
             "#fde0ef"
            ],
            [
             0.5,
             "#f7f7f7"
            ],
            [
             0.6,
             "#e6f5d0"
            ],
            [
             0.7,
             "#b8e186"
            ],
            [
             0.8,
             "#7fbc41"
            ],
            [
             0.9,
             "#4d9221"
            ],
            [
             1,
             "#276419"
            ]
           ],
           "sequential": [
            [
             0,
             "#0d0887"
            ],
            [
             0.1111111111111111,
             "#46039f"
            ],
            [
             0.2222222222222222,
             "#7201a8"
            ],
            [
             0.3333333333333333,
             "#9c179e"
            ],
            [
             0.4444444444444444,
             "#bd3786"
            ],
            [
             0.5555555555555556,
             "#d8576b"
            ],
            [
             0.6666666666666666,
             "#ed7953"
            ],
            [
             0.7777777777777778,
             "#fb9f3a"
            ],
            [
             0.8888888888888888,
             "#fdca26"
            ],
            [
             1,
             "#f0f921"
            ]
           ],
           "sequentialminus": [
            [
             0,
             "#0d0887"
            ],
            [
             0.1111111111111111,
             "#46039f"
            ],
            [
             0.2222222222222222,
             "#7201a8"
            ],
            [
             0.3333333333333333,
             "#9c179e"
            ],
            [
             0.4444444444444444,
             "#bd3786"
            ],
            [
             0.5555555555555556,
             "#d8576b"
            ],
            [
             0.6666666666666666,
             "#ed7953"
            ],
            [
             0.7777777777777778,
             "#fb9f3a"
            ],
            [
             0.8888888888888888,
             "#fdca26"
            ],
            [
             1,
             "#f0f921"
            ]
           ]
          },
          "colorway": [
           "#636efa",
           "#EF553B",
           "#00cc96",
           "#ab63fa",
           "#FFA15A",
           "#19d3f3",
           "#FF6692",
           "#B6E880",
           "#FF97FF",
           "#FECB52"
          ],
          "font": {
           "color": "#f2f5fa"
          },
          "geo": {
           "bgcolor": "rgb(17,17,17)",
           "lakecolor": "rgb(17,17,17)",
           "landcolor": "rgb(17,17,17)",
           "showlakes": true,
           "showland": true,
           "subunitcolor": "#506784"
          },
          "hoverlabel": {
           "align": "left"
          },
          "hovermode": "closest",
          "mapbox": {
           "style": "dark"
          },
          "paper_bgcolor": "rgb(17,17,17)",
          "plot_bgcolor": "rgb(17,17,17)",
          "polar": {
           "angularaxis": {
            "gridcolor": "#506784",
            "linecolor": "#506784",
            "ticks": ""
           },
           "bgcolor": "rgb(17,17,17)",
           "radialaxis": {
            "gridcolor": "#506784",
            "linecolor": "#506784",
            "ticks": ""
           }
          },
          "scene": {
           "xaxis": {
            "backgroundcolor": "rgb(17,17,17)",
            "gridcolor": "#506784",
            "gridwidth": 2,
            "linecolor": "#506784",
            "showbackground": true,
            "ticks": "",
            "zerolinecolor": "#C8D4E3"
           },
           "yaxis": {
            "backgroundcolor": "rgb(17,17,17)",
            "gridcolor": "#506784",
            "gridwidth": 2,
            "linecolor": "#506784",
            "showbackground": true,
            "ticks": "",
            "zerolinecolor": "#C8D4E3"
           },
           "zaxis": {
            "backgroundcolor": "rgb(17,17,17)",
            "gridcolor": "#506784",
            "gridwidth": 2,
            "linecolor": "#506784",
            "showbackground": true,
            "ticks": "",
            "zerolinecolor": "#C8D4E3"
           }
          },
          "shapedefaults": {
           "line": {
            "color": "#f2f5fa"
           }
          },
          "sliderdefaults": {
           "bgcolor": "#C8D4E3",
           "bordercolor": "rgb(17,17,17)",
           "borderwidth": 1,
           "tickwidth": 0
          },
          "ternary": {
           "aaxis": {
            "gridcolor": "#506784",
            "linecolor": "#506784",
            "ticks": ""
           },
           "baxis": {
            "gridcolor": "#506784",
            "linecolor": "#506784",
            "ticks": ""
           },
           "bgcolor": "rgb(17,17,17)",
           "caxis": {
            "gridcolor": "#506784",
            "linecolor": "#506784",
            "ticks": ""
           }
          },
          "title": {
           "x": 0.05
          },
          "updatemenudefaults": {
           "bgcolor": "#506784",
           "borderwidth": 0
          },
          "xaxis": {
           "automargin": true,
           "gridcolor": "#283442",
           "linecolor": "#506784",
           "ticks": "",
           "title": {
            "standoff": 15
           },
           "zerolinecolor": "#283442",
           "zerolinewidth": 2
          },
          "yaxis": {
           "automargin": true,
           "gridcolor": "#283442",
           "linecolor": "#506784",
           "ticks": "",
           "title": {
            "standoff": 15
           },
           "zerolinecolor": "#283442",
           "zerolinewidth": 2
          }
         }
        },
        "title": {
         "text": "Top 20 Rebounding Averages",
         "x": 0.5
        },
        "width": 1000,
        "xaxis": {
         "anchor": "y",
         "domain": [
          0,
          1
         ],
         "title": {
          "text": "Rebounds Per Game"
         }
        },
        "yaxis": {
         "anchor": "x",
         "domain": [
          0,
          1
         ],
         "title": {
          "text": "Rebounds Per 40 minutes"
         }
        }
       }
      }
     },
     "metadata": {},
     "output_type": "display_data"
    }
   ],
   "source": [
    "df = df.sort_values(by=['reb'])\n",
    "\n",
    "fig = px.scatter(df, 'reb', 'adjusted reb', text='Player')\n",
    "fig.update_layout(width=1000, height=800, template='plotly_dark', \n",
    "                  title='Top 20 Rebounding Averages', title_x=0.5,\n",
    "                  xaxis_title=\"Rebounds Per Game\", yaxis_title=\"Rebounds Per 40 minutes\")\n",
    "fig.update_traces(textfont_size=11, marker=dict(size=10), textposition=improve_text_position(df['reb']))\n",
    "fig.show()"
   ]
  },
  {
   "attachments": {},
   "cell_type": "markdown",
   "metadata": {},
   "source": [
    "Visualize top 20 reb/g by season"
   ]
  },
  {
   "cell_type": "code",
   "execution_count": 79,
   "metadata": {},
   "outputs": [
    {
     "data": {
      "image/jpeg": "[encoded data removed]"
     },
     "metadata": {},
     "output_type": "display_data"
    }
   ],
   "source": [
    "df = df.sort_values(by=['reb'])\n",
    "fig = px.scatter(df, x=\"Season\", y=\"reb\", text=\"Player\")\n",
    "fig.update_traces(textposition=improve_text_position(df['reb']),  textfont_size=12, marker=dict(size=10))\n",
    "fig.update_layout(\n",
    "    width=850,\n",
    "    height=600,\n",
    "    title_text='Top 20 Highest Rebounding Averages Since 2010',\n",
    "    template='plotly_dark',\n",
    "    title_x=0.5,\n",
    "    yaxis_title='Rebounds Per Game'\n",
    ")\n",
    "fig.update_xaxes(range=[2014.5,2024])\n",
    "fig.show('jpg')\n",
    "\n",
    "#save Figure as jpg image\n",
    "fig.write_image(\"images/rebounds/top20rebounders.jpeg\", scale=6)"
   ]
  },
  {
   "attachments": {},
   "cell_type": "markdown",
   "metadata": {},
   "source": [
    "19/20 of the top 20 rebounders occurred since 2018 \n",
    "\n",
    "look at the top 10 rebounders of each season to see how that's changed"
   ]
  },
  {
   "cell_type": "code",
   "execution_count": 80,
   "metadata": {},
   "outputs": [
    {
     "data": {
      "image/jpeg": "[encoded data removed]"
     },
     "metadata": {},
     "output_type": "display_data"
    }
   ],
   "source": [
    "q = \"\"\"\n",
    "    SELECT season, reb, season_rank\n",
    "    FROM (  SELECT player_ballcontrol.*,\n",
    "                row_number() OVER (PARTITION BY season ORDER BY reb DESC) AS season_rank\n",
    "            FROM player_ballcontrol\n",
    "            NATURAL JOIN player_info\n",
    "            WHERE games_played > 10\n",
    "          ) player_ballcontrol\n",
    "    WHERE season_rank >= 1 AND season_rank <= 10\n",
    "\"\"\"\n",
    "\n",
    "result = read_query(connection, q, None)\n",
    "result\n",
    "top_reb_df = pd.DataFrame(result, columns=['Season', 'reb', 'season rank'])\n",
    "\n",
    "top_reb_df = top_reb_df.sort_values(by=['reb'], ascending=False, ignore_index=True)\n",
    "\n",
    "#fig = px.scatter(top_reb_df, x='Season', y='reb', color='top_reb_df.index')\n",
    "fig = px.scatter(top_reb_df, x='Season', y='reb')\n",
    "fig.update_coloraxes(reversescale=True)\n",
    "fig.update_traces(marker=dict(size=10))\n",
    "fig.update_layout(width=800, height=600, template='plotly_dark', \n",
    "                  title='Top 10 Rebounding Averages From Each Season Since 2010',\n",
    "                  yaxis_title=\"Rebounds Per Game\",\n",
    "                  title_x=0.5, coloraxis_colorbar_title_text='Overall Rank')\n",
    "fig.show('jpg')\n",
    "\n",
    "#save Figure as jpg image\n",
    "fig.write_image(\"images/rebounds/top10rebounders_byseason.jpeg\", scale=6)"
   ]
  },
  {
   "attachments": {},
   "cell_type": "markdown",
   "metadata": {},
   "source": [
    "From above:\n",
    "- Number of rebounds top rebounders are getting have increased\n",
    "- in last 5 seasons, it's rare to have a top 10 rebounder average less than 10, whereas it was common prior to 2018\n",
    "Thoughts:\n",
    "- have teams reboundings styles changed? Box out and mainly one person goes and gets it (increasing one persons rebounds)\n",
    "- are there more rebounds available? Previously showed that 3pt attempts are up, and pace of play has also increased (get data on this)"
   ]
  },
  {
   "cell_type": "code",
   "execution_count": 81,
   "metadata": {},
   "outputs": [
    {
     "data": {
      "text/html": [
       "<div>\n",
       "<style scoped>\n",
       "    .dataframe tbody tr th:only-of-type {\n",
       "        vertical-align: middle;\n",
       "    }\n",
       "\n",
       "    .dataframe tbody tr th {\n",
       "        vertical-align: top;\n",
       "    }\n",
       "\n",
       "    .dataframe thead th {\n",
       "        text-align: right;\n",
       "    }\n",
       "</style>\n",
       "<table border=\"1\" class=\"dataframe\">\n",
       "  <thead>\n",
       "    <tr style=\"text-align: right;\">\n",
       "      <th></th>\n",
       "      <th>Season</th>\n",
       "      <th>Team</th>\n",
       "      <th>fga</th>\n",
       "      <th>fga_pgame</th>\n",
       "      <th>reb</th>\n",
       "    </tr>\n",
       "  </thead>\n",
       "  <tbody>\n",
       "    <tr>\n",
       "      <th>0</th>\n",
       "      <td>2010</td>\n",
       "      <td>acadia</td>\n",
       "      <td>1364.0</td>\n",
       "      <td>68.200000</td>\n",
       "      <td>34.8</td>\n",
       "    </tr>\n",
       "    <tr>\n",
       "      <th>1</th>\n",
       "      <td>2010</td>\n",
       "      <td>alberta</td>\n",
       "      <td>1232.0</td>\n",
       "      <td>61.600000</td>\n",
       "      <td>44.3</td>\n",
       "    </tr>\n",
       "    <tr>\n",
       "      <th>2</th>\n",
       "      <td>2010</td>\n",
       "      <td>bishops</td>\n",
       "      <td>966.0</td>\n",
       "      <td>60.375000</td>\n",
       "      <td>34.8</td>\n",
       "    </tr>\n",
       "    <tr>\n",
       "      <th>3</th>\n",
       "      <td>2010</td>\n",
       "      <td>brandon</td>\n",
       "      <td>1017.0</td>\n",
       "      <td>59.823529</td>\n",
       "      <td>36.4</td>\n",
       "    </tr>\n",
       "    <tr>\n",
       "      <th>4</th>\n",
       "      <td>2010</td>\n",
       "      <td>brock</td>\n",
       "      <td>1517.0</td>\n",
       "      <td>68.954545</td>\n",
       "      <td>34.4</td>\n",
       "    </tr>\n",
       "    <tr>\n",
       "      <th>...</th>\n",
       "      <td>...</td>\n",
       "      <td>...</td>\n",
       "      <td>...</td>\n",
       "      <td>...</td>\n",
       "      <td>...</td>\n",
       "    </tr>\n",
       "    <tr>\n",
       "      <th>587</th>\n",
       "      <td>2023</td>\n",
       "      <td>waterloo</td>\n",
       "      <td>1577.0</td>\n",
       "      <td>71.681818</td>\n",
       "      <td>43.5</td>\n",
       "    </tr>\n",
       "    <tr>\n",
       "      <th>588</th>\n",
       "      <td>2023</td>\n",
       "      <td>western</td>\n",
       "      <td>1530.0</td>\n",
       "      <td>69.545455</td>\n",
       "      <td>42.0</td>\n",
       "    </tr>\n",
       "    <tr>\n",
       "      <th>589</th>\n",
       "      <td>2023</td>\n",
       "      <td>windsor</td>\n",
       "      <td>1413.0</td>\n",
       "      <td>64.227273</td>\n",
       "      <td>40.9</td>\n",
       "    </tr>\n",
       "    <tr>\n",
       "      <th>590</th>\n",
       "      <td>2023</td>\n",
       "      <td>winnipeg</td>\n",
       "      <td>1409.0</td>\n",
       "      <td>70.450000</td>\n",
       "      <td>42.9</td>\n",
       "    </tr>\n",
       "    <tr>\n",
       "      <th>591</th>\n",
       "      <td>2023</td>\n",
       "      <td>york</td>\n",
       "      <td>1611.0</td>\n",
       "      <td>73.227273</td>\n",
       "      <td>43.4</td>\n",
       "    </tr>\n",
       "  </tbody>\n",
       "</table>\n",
       "<p>592 rows × 5 columns</p>\n",
       "</div>"
      ],
      "text/plain": [
       "     Season      Team     fga  fga_pgame   reb\n",
       "0      2010    acadia  1364.0  68.200000  34.8\n",
       "1      2010   alberta  1232.0  61.600000  44.3\n",
       "2      2010   bishops   966.0  60.375000  34.8\n",
       "3      2010   brandon  1017.0  59.823529  36.4\n",
       "4      2010     brock  1517.0  68.954545  34.4\n",
       "..      ...       ...     ...        ...   ...\n",
       "587    2023  waterloo  1577.0  71.681818  43.5\n",
       "588    2023   western  1530.0  69.545455  42.0\n",
       "589    2023   windsor  1413.0  64.227273  40.9\n",
       "590    2023  winnipeg  1409.0  70.450000  42.9\n",
       "591    2023      york  1611.0  73.227273  43.4\n",
       "\n",
       "[592 rows x 5 columns]"
      ]
     },
     "execution_count": 81,
     "metadata": {},
     "output_type": "execute_result"
    }
   ],
   "source": [
    "q = \"\"\"\n",
    "    SELECT season, team, fga, fga/games_played as fga_pgame, reb\n",
    "    FROM team_splitstats\n",
    "    WHERE split = 'total' \n",
    "    \"\"\"\n",
    "result = read_query(connection, q, None)\n",
    "\n",
    "df = pd.DataFrame(result, columns=['Season', 'Team', 'fga', 'fga_pgame', 'reb'])\n",
    "df"
   ]
  },
  {
   "cell_type": "code",
   "execution_count": 82,
   "metadata": {},
   "outputs": [
    {
     "data": {
      "image/jpeg": "[encoded data removed]"
     },
     "metadata": {},
     "output_type": "display_data"
    },
    {
     "data": {
      "image/jpeg": "[encoded data removed]"
     },
     "metadata": {},
     "output_type": "display_data"
    }
   ],
   "source": [
    "fig = px.box(df, x='Season', y='fga_pgame', width=800, height=600)\n",
    "fig.update_layout(template='plotly_dark', yaxis_title='Team FGA Per Game')\n",
    "fig.show('jpg')\n",
    "\n",
    "#save Figure as jpg image\n",
    "fig.write_image(\"images/rebounds/teamfga_byseason_box.jpeg\", scale=6)\n",
    "\n",
    "fig = px.scatter(df, x='Season', y='fga_pgame', width=800, height=600)\n",
    "fig.update_layout(template='plotly_dark', yaxis_title='Team FGA Per Game')\n",
    "fig.show('jpg')\n",
    "\n",
    "#save Figure as jpg image\n",
    "fig.write_image(\"images/rebounds/teamfga_byseason_scatter.jpeg\", scale=6)\n"
   ]
  },
  {
   "attachments": {},
   "cell_type": "markdown",
   "metadata": {},
   "source": [
    "median shots/game have increased slightly\n",
    "\n",
    "it's becoming more common for teams to average over 70 shots per game"
   ]
  },
  {
   "cell_type": "code",
   "execution_count": 83,
   "metadata": {},
   "outputs": [
    {
     "data": {
      "application/vnd.plotly.v1+json": {
       "config": {
        "plotlyServerURL": "https://plot.ly"
       },
       "data": [
        {
         "alignmentgroup": "True",
         "hovertemplate": "Season=%{x}<br>reb=%{y}<extra></extra>",
         "legendgroup": "",
         "marker": {
          "color": "#636efa"
         },
         "name": "",
         "notched": false,
         "offsetgroup": "",
         "orientation": "v",
         "showlegend": false,
         "type": "box",
         "x": [
          2010,
          2010,
          2010,
          2010,
          2010,
          2010,
          2010,
          2010,
          2010,
          2010,
          2010,
          2010,
          2010,
          2010,
          2010,
          2010,
          2010,
          2010,
          2010,
          2010,
          2010,
          2010,
          2010,
          2010,
          2010,
          2010,
          2010,
          2010,
          2010,
          2010,
          2010,
          2010,
          2010,
          2010,
          2010,
          2010,
          2010,
          2010,
          2010,
          2010,
          2010,
          2011,
          2011,
          2011,
          2011,
          2011,
          2011,
          2011,
          2011,
          2011,
          2011,
          2011,
          2011,
          2011,
          2011,
          2011,
          2011,
          2011,
          2011,
          2011,
          2011,
          2011,
          2011,
          2011,
          2011,
          2011,
          2011,
          2011,
          2011,
          2011,
          2011,
          2011,
          2011,
          2011,
          2011,
          2011,
          2011,
          2011,
          2011,
          2011,
          2011,
          2011,
          2012,
          2012,
          2012,
          2012,
          2012,
          2012,
          2012,
          2012,
          2012,
          2012,
          2012,
          2012,
          2012,
          2012,
          2012,
          2012,
          2012,
          2012,
          2012,
          2012,
          2012,
          2012,
          2012,
          2012,
          2012,
          2012,
          2012,
          2012,
          2012,
          2012,
          2012,
          2012,
          2012,
          2012,
          2012,
          2012,
          2012,
          2012,
          2012,
          2012,
          2012,
          2012,
          2013,
          2013,
          2013,
          2013,
          2013,
          2013,
          2013,
          2013,
          2013,
          2013,
          2013,
          2013,
          2013,
          2013,
          2013,
          2013,
          2013,
          2013,
          2013,
          2013,
          2013,
          2013,
          2013,
          2013,
          2013,
          2013,
          2013,
          2013,
          2013,
          2013,
          2013,
          2013,
          2013,
          2013,
          2013,
          2013,
          2013,
          2013,
          2013,
          2013,
          2013,
          2013,
          2013,
          2013,
          2014,
          2014,
          2014,
          2014,
          2014,
          2014,
          2014,
          2014,
          2014,
          2014,
          2014,
          2014,
          2014,
          2014,
          2014,
          2014,
          2014,
          2014,
          2014,
          2014,
          2014,
          2014,
          2014,
          2014,
          2014,
          2014,
          2014,
          2014,
          2014,
          2014,
          2014,
          2014,
          2014,
          2014,
          2014,
          2014,
          2014,
          2014,
          2014,
          2014,
          2014,
          2014,
          2014,
          2014,
          2014,
          2015,
          2015,
          2015,
          2015,
          2015,
          2015,
          2015,
          2015,
          2015,
          2015,
          2015,
          2015,
          2015,
          2015,
          2015,
          2015,
          2015,
          2015,
          2015,
          2015,
          2015,
          2015,
          2015,
          2015,
          2015,
          2015,
          2015,
          2015,
          2015,
          2015,
          2015,
          2015,
          2015,
          2015,
          2015,
          2015,
          2015,
          2015,
          2015,
          2015,
          2015,
          2015,
          2015,
          2015,
          2015,
          2015,
          2015,
          2016,
          2016,
          2016,
          2016,
          2016,
          2016,
          2016,
          2016,
          2016,
          2016,
          2016,
          2016,
          2016,
          2016,
          2016,
          2016,
          2016,
          2016,
          2016,
          2016,
          2016,
          2016,
          2016,
          2016,
          2016,
          2016,
          2016,
          2016,
          2016,
          2016,
          2016,
          2016,
          2016,
          2016,
          2016,
          2016,
          2016,
          2016,
          2016,
          2016,
          2016,
          2016,
          2016,
          2016,
          2016,
          2016,
          2016,
          2017,
          2017,
          2017,
          2017,
          2017,
          2017,
          2017,
          2017,
          2017,
          2017,
          2017,
          2017,
          2017,
          2017,
          2017,
          2017,
          2017,
          2017,
          2017,
          2017,
          2017,
          2017,
          2017,
          2017,
          2017,
          2017,
          2017,
          2017,
          2017,
          2017,
          2017,
          2017,
          2017,
          2017,
          2017,
          2017,
          2017,
          2017,
          2017,
          2017,
          2017,
          2017,
          2017,
          2017,
          2017,
          2017,
          2017,
          2018,
          2018,
          2018,
          2018,
          2018,
          2018,
          2018,
          2018,
          2018,
          2018,
          2018,
          2018,
          2018,
          2018,
          2018,
          2018,
          2018,
          2018,
          2018,
          2018,
          2018,
          2018,
          2018,
          2018,
          2018,
          2018,
          2018,
          2018,
          2018,
          2018,
          2018,
          2018,
          2018,
          2018,
          2018,
          2018,
          2018,
          2018,
          2018,
          2018,
          2018,
          2018,
          2018,
          2018,
          2018,
          2018,
          2018,
          2019,
          2019,
          2019,
          2019,
          2019,
          2019,
          2019,
          2019,
          2019,
          2019,
          2019,
          2019,
          2019,
          2019,
          2019,
          2019,
          2019,
          2019,
          2019,
          2019,
          2019,
          2019,
          2019,
          2019,
          2019,
          2019,
          2019,
          2019,
          2019,
          2019,
          2019,
          2019,
          2019,
          2019,
          2019,
          2019,
          2019,
          2019,
          2019,
          2019,
          2019,
          2019,
          2019,
          2019,
          2019,
          2019,
          2019,
          2020,
          2020,
          2020,
          2020,
          2020,
          2020,
          2020,
          2020,
          2020,
          2020,
          2020,
          2020,
          2020,
          2020,
          2020,
          2020,
          2020,
          2020,
          2020,
          2020,
          2020,
          2020,
          2020,
          2020,
          2020,
          2020,
          2020,
          2020,
          2020,
          2020,
          2020,
          2020,
          2020,
          2020,
          2020,
          2020,
          2020,
          2020,
          2020,
          2020,
          2020,
          2020,
          2020,
          2020,
          2020,
          2020,
          2020,
          2020,
          2022,
          2022,
          2022,
          2022,
          2022,
          2022,
          2022,
          2022,
          2022,
          2022,
          2022,
          2022,
          2022,
          2022,
          2022,
          2022,
          2022,
          2022,
          2022,
          2022,
          2022,
          2022,
          2022,
          2022,
          2022,
          2022,
          2022,
          2022,
          2022,
          2022,
          2022,
          2022,
          2022,
          2022,
          2022,
          2022,
          2022,
          2022,
          2022,
          2022,
          2022,
          2022,
          2022,
          2022,
          2022,
          2022,
          2022,
          2022,
          2023,
          2023,
          2023,
          2023,
          2023,
          2023,
          2023,
          2023,
          2023,
          2023,
          2023,
          2023,
          2023,
          2023,
          2023,
          2023,
          2023,
          2023,
          2023,
          2023,
          2023,
          2023,
          2023,
          2023,
          2023,
          2023,
          2023,
          2023,
          2023,
          2023,
          2023,
          2023,
          2023,
          2023,
          2023,
          2023,
          2023,
          2023,
          2023,
          2023,
          2023,
          2023,
          2023,
          2023,
          2023,
          2023,
          2023,
          2023
         ],
         "x0": " ",
         "xaxis": "x",
         "y": [
          34.8,
          44.3,
          34.8,
          36.4,
          34.4,
          38.6,
          37.7,
          40,
          34.6,
          40.5,
          35.4,
          36.3,
          41,
          38.5,
          41.8,
          32.8,
          35.4,
          32.6,
          36.7,
          35.6,
          39.2,
          39.5,
          44.4,
          37.5,
          34.2,
          39.9,
          36.3,
          38.6,
          42.5,
          37.8,
          40.6,
          37.9,
          34.5,
          27.9,
          34.4,
          36.8,
          34.8,
          37.2,
          41.6,
          38.8,
          30.2,
          37.4,
          37.5,
          32.9,
          31.7,
          35,
          42.2,
          39.6,
          41.5,
          40.5,
          41.5,
          38.3,
          38.9,
          38.8,
          39.8,
          41.9,
          36.6,
          35.4,
          39.4,
          37.5,
          36.9,
          39.5,
          39,
          41.1,
          33.5,
          34.4,
          34.6,
          35.9,
          42.8,
          43,
          37,
          37.9,
          37,
          37.4,
          27.6,
          41.6,
          37.1,
          32.4,
          37,
          43.8,
          41.2,
          30.5,
          39.5,
          39.5,
          41.4,
          36.6,
          37.2,
          41.1,
          36.5,
          37,
          43,
          42.3,
          38.6,
          35.4,
          32.4,
          39.8,
          37.5,
          37,
          32.5,
          39.5,
          37.1,
          33.3,
          42.8,
          39.9,
          48.5,
          34.5,
          37.3,
          39.1,
          36.3,
          41.8,
          38.8,
          36.1,
          39.3,
          33.8,
          38.7,
          32.7,
          30.5,
          36.1,
          36.8,
          33.1,
          38.3,
          46,
          39.9,
          31.3,
          41.3,
          37,
          33.6,
          34,
          37.2,
          38.9,
          34.3,
          40.7,
          35.8,
          41.7,
          37,
          36,
          35.1,
          41.5,
          37.3,
          39.3,
          29.9,
          38.9,
          38.7,
          33.5,
          38.3,
          45.3,
          39.6,
          48.6,
          37.7,
          44.1,
          42.4,
          35.7,
          41.4,
          42.5,
          34.6,
          38.6,
          37.6,
          39.2,
          40.6,
          39,
          34.2,
          34.9,
          40.1,
          36,
          36.6,
          44.7,
          39,
          34.9,
          39.1,
          40.7,
          28.9,
          32.6,
          42.4,
          36.9,
          42.7,
          35.3,
          44.1,
          40.1,
          38.1,
          38.2,
          37.6,
          34.6,
          39.5,
          36.6,
          35.8,
          34.5,
          43.1,
          37.4,
          35.9,
          35.9,
          42.3,
          40.6,
          49,
          35,
          41.7,
          41.6,
          35.9,
          45.5,
          39,
          38.9,
          37.2,
          34.4,
          41,
          39.9,
          39.6,
          34.4,
          39.2,
          38,
          36,
          37.9,
          44.7,
          40.3,
          36.7,
          35.6,
          38.9,
          28.4,
          33.1,
          37,
          36.4,
          38,
          36.1,
          43,
          36.1,
          37.3,
          43.6,
          39.3,
          34.7,
          42,
          38.9,
          34.1,
          42.6,
          34.8,
          45.9,
          38.5,
          34.4,
          36,
          26.3,
          39.2,
          41.7,
          44.2,
          44.4,
          38.3,
          40.3,
          33.4,
          50.3,
          44.1,
          34.5,
          37.7,
          38.2,
          43.4,
          36.6,
          41.4,
          34.7,
          41.8,
          34.3,
          38.4,
          34.1,
          41.4,
          34.1,
          33.7,
          45.3,
          39.8,
          31.5,
          33.8,
          40,
          41.8,
          44.4,
          39,
          44.3,
          30.3,
          36.1,
          37.8,
          37.6,
          32.2,
          39.4,
          38.7,
          36.4,
          47,
          38.3,
          36.8,
          40.7,
          33.6,
          33.5,
          30.6,
          41.2,
          46.6,
          48.8,
          46.7,
          41.9,
          39.6,
          37.6,
          51.4,
          41.5,
          35.1,
          37,
          36.2,
          43.1,
          38.9,
          37.9,
          31.6,
          38.5,
          38.1,
          31.5,
          39.3,
          43.6,
          38.9,
          35.8,
          42.4,
          39.3,
          34.4,
          35.6,
          39,
          39.3,
          42,
          37.1,
          41.7,
          30.4,
          37.8,
          37.4,
          37.4,
          32.4,
          36.9,
          37.8,
          37.5,
          38.9,
          40.2,
          34,
          40.6,
          35.4,
          38.3,
          28.8,
          38.5,
          47,
          50.2,
          47.5,
          40.2,
          37.9,
          36.4,
          39,
          40.1,
          37.3,
          41.9,
          37.8,
          40.1,
          37.8,
          38.1,
          35.5,
          36.1,
          37.6,
          35.4,
          34.1,
          40.3,
          36.2,
          38.8,
          45.9,
          37.9,
          34.5,
          39.1,
          41,
          41.3,
          44.4,
          38.6,
          44.6,
          34.8,
          37.5,
          36.2,
          39.3,
          34.1,
          37,
          37.5,
          39.5,
          34.9,
          42.6,
          37.8,
          43.7,
          39.1,
          43.4,
          31.1,
          42.3,
          43.7,
          43.9,
          44.9,
          37.9,
          40.4,
          36.5,
          41.1,
          36.1,
          41.4,
          42.9,
          32.4,
          39.3,
          37.8,
          37.7,
          37.4,
          33.6,
          40.5,
          34.8,
          37.6,
          42,
          40.4,
          40.5,
          40.8,
          40.8,
          32.9,
          36,
          35.8,
          39,
          42.6,
          37.7,
          38.5,
          35.4,
          39,
          39.7,
          37.7,
          35.1,
          36.5,
          40,
          42.5,
          38,
          43.1,
          35.6,
          42.9,
          38.9,
          41.7,
          33.6,
          43.1,
          45.7,
          51.3,
          44.3,
          34,
          44.4,
          36,
          37,
          37.2,
          44.5,
          49.7,
          42,
          38.3,
          38.7,
          40.3,
          39.8,
          36.4,
          42.2,
          36.4,
          32.1,
          41.5,
          39.9,
          39.9,
          41.9,
          41.5,
          30.6,
          37.3,
          36,
          41.1,
          39.5,
          40.3,
          38.8,
          31.8,
          37.4,
          40.5,
          37.5,
          38.6,
          35.5,
          41.4,
          40.9,
          37.1,
          42.9,
          37.6,
          41.9,
          37.2,
          40.6,
          36,
          34.3,
          44.8,
          42,
          45.5,
          45.5,
          36.3,
          48.9,
          38.3,
          35,
          36.5,
          39.7,
          46.6,
          46.8,
          44.7,
          38.6,
          41.5,
          38,
          35.6,
          42.9,
          37.2,
          44.1,
          46,
          42.2,
          42.2,
          44.5,
          44.2,
          31.4,
          39.4,
          36.1,
          42.8,
          37.8,
          42.9,
          43.6,
          33.2,
          30.5,
          40.1,
          36.4,
          45.7,
          31.3,
          41.6,
          42.3,
          38.9,
          38.8,
          29.2,
          38.3,
          42.9,
          41.8,
          30.9,
          36.4,
          41.8,
          40,
          48.8,
          39.1,
          36.3,
          46.1,
          36.9,
          37.5,
          36.7,
          44.4,
          43.2,
          47.7,
          43.7,
          40.9,
          40.7,
          39.2,
          44.3,
          46.3,
          43.5,
          43.4,
          37.1,
          51.3,
          39.5,
          39.9,
          47.3,
          26.5,
          43,
          34.6,
          38.7,
          39.1,
          42,
          42.1,
          31.7,
          31.8,
          41,
          33.6,
          40,
          37,
          41.2,
          42.6,
          38,
          43.8,
          34.5,
          39.1,
          36.8,
          42.8,
          37.7,
          31.1,
          43.1,
          36.5,
          48.5,
          37.4,
          48.6,
          31.8,
          33.5,
          39.2,
          38.3,
          41.4,
          41.9,
          45.6,
          38.1,
          38.9,
          45,
          37,
          38.1,
          46.5,
          43.5,
          42,
          40.9,
          42.9,
          43.4
         ],
         "y0": " ",
         "yaxis": "y"
        }
       ],
       "layout": {
        "boxmode": "group",
        "height": 600,
        "legend": {
         "tracegroupgap": 0
        },
        "margin": {
         "t": 60
        },
        "template": {
         "data": {
          "bar": [
           {
            "error_x": {
             "color": "#f2f5fa"
            },
            "error_y": {
             "color": "#f2f5fa"
            },
            "marker": {
             "line": {
              "color": "rgb(17,17,17)",
              "width": 0.5
             },
             "pattern": {
              "fillmode": "overlay",
              "size": 10,
              "solidity": 0.2
             }
            },
            "type": "bar"
           }
          ],
          "barpolar": [
           {
            "marker": {
             "line": {
              "color": "rgb(17,17,17)",
              "width": 0.5
             },
             "pattern": {
              "fillmode": "overlay",
              "size": 10,
              "solidity": 0.2
             }
            },
            "type": "barpolar"
           }
          ],
          "carpet": [
           {
            "aaxis": {
             "endlinecolor": "#A2B1C6",
             "gridcolor": "#506784",
             "linecolor": "#506784",
             "minorgridcolor": "#506784",
             "startlinecolor": "#A2B1C6"
            },
            "baxis": {
             "endlinecolor": "#A2B1C6",
             "gridcolor": "#506784",
             "linecolor": "#506784",
             "minorgridcolor": "#506784",
             "startlinecolor": "#A2B1C6"
            },
            "type": "carpet"
           }
          ],
          "choropleth": [
           {
            "colorbar": {
             "outlinewidth": 0,
             "ticks": ""
            },
            "type": "choropleth"
           }
          ],
          "contour": [
           {
            "colorbar": {
             "outlinewidth": 0,
             "ticks": ""
            },
            "colorscale": [
             [
              0,
              "#0d0887"
             ],
             [
              0.1111111111111111,
              "#46039f"
             ],
             [
              0.2222222222222222,
              "#7201a8"
             ],
             [
              0.3333333333333333,
              "#9c179e"
             ],
             [
              0.4444444444444444,
              "#bd3786"
             ],
             [
              0.5555555555555556,
              "#d8576b"
             ],
             [
              0.6666666666666666,
              "#ed7953"
             ],
             [
              0.7777777777777778,
              "#fb9f3a"
             ],
             [
              0.8888888888888888,
              "#fdca26"
             ],
             [
              1,
              "#f0f921"
             ]
            ],
            "type": "contour"
           }
          ],
          "contourcarpet": [
           {
            "colorbar": {
             "outlinewidth": 0,
             "ticks": ""
            },
            "type": "contourcarpet"
           }
          ],
          "heatmap": [
           {
            "colorbar": {
             "outlinewidth": 0,
             "ticks": ""
            },
            "colorscale": [
             [
              0,
              "#0d0887"
             ],
             [
              0.1111111111111111,
              "#46039f"
             ],
             [
              0.2222222222222222,
              "#7201a8"
             ],
             [
              0.3333333333333333,
              "#9c179e"
             ],
             [
              0.4444444444444444,
              "#bd3786"
             ],
             [
              0.5555555555555556,
              "#d8576b"
             ],
             [
              0.6666666666666666,
              "#ed7953"
             ],
             [
              0.7777777777777778,
              "#fb9f3a"
             ],
             [
              0.8888888888888888,
              "#fdca26"
             ],
             [
              1,
              "#f0f921"
             ]
            ],
            "type": "heatmap"
           }
          ],
          "heatmapgl": [
           {
            "colorbar": {
             "outlinewidth": 0,
             "ticks": ""
            },
            "colorscale": [
             [
              0,
              "#0d0887"
             ],
             [
              0.1111111111111111,
              "#46039f"
             ],
             [
              0.2222222222222222,
              "#7201a8"
             ],
             [
              0.3333333333333333,
              "#9c179e"
             ],
             [
              0.4444444444444444,
              "#bd3786"
             ],
             [
              0.5555555555555556,
              "#d8576b"
             ],
             [
              0.6666666666666666,
              "#ed7953"
             ],
             [
              0.7777777777777778,
              "#fb9f3a"
             ],
             [
              0.8888888888888888,
              "#fdca26"
             ],
             [
              1,
              "#f0f921"
             ]
            ],
            "type": "heatmapgl"
           }
          ],
          "histogram": [
           {
            "marker": {
             "pattern": {
              "fillmode": "overlay",
              "size": 10,
              "solidity": 0.2
             }
            },
            "type": "histogram"
           }
          ],
          "histogram2d": [
           {
            "colorbar": {
             "outlinewidth": 0,
             "ticks": ""
            },
            "colorscale": [
             [
              0,
              "#0d0887"
             ],
             [
              0.1111111111111111,
              "#46039f"
             ],
             [
              0.2222222222222222,
              "#7201a8"
             ],
             [
              0.3333333333333333,
              "#9c179e"
             ],
             [
              0.4444444444444444,
              "#bd3786"
             ],
             [
              0.5555555555555556,
              "#d8576b"
             ],
             [
              0.6666666666666666,
              "#ed7953"
             ],
             [
              0.7777777777777778,
              "#fb9f3a"
             ],
             [
              0.8888888888888888,
              "#fdca26"
             ],
             [
              1,
              "#f0f921"
             ]
            ],
            "type": "histogram2d"
           }
          ],
          "histogram2dcontour": [
           {
            "colorbar": {
             "outlinewidth": 0,
             "ticks": ""
            },
            "colorscale": [
             [
              0,
              "#0d0887"
             ],
             [
              0.1111111111111111,
              "#46039f"
             ],
             [
              0.2222222222222222,
              "#7201a8"
             ],
             [
              0.3333333333333333,
              "#9c179e"
             ],
             [
              0.4444444444444444,
              "#bd3786"
             ],
             [
              0.5555555555555556,
              "#d8576b"
             ],
             [
              0.6666666666666666,
              "#ed7953"
             ],
             [
              0.7777777777777778,
              "#fb9f3a"
             ],
             [
              0.8888888888888888,
              "#fdca26"
             ],
             [
              1,
              "#f0f921"
             ]
            ],
            "type": "histogram2dcontour"
           }
          ],
          "mesh3d": [
           {
            "colorbar": {
             "outlinewidth": 0,
             "ticks": ""
            },
            "type": "mesh3d"
           }
          ],
          "parcoords": [
           {
            "line": {
             "colorbar": {
              "outlinewidth": 0,
              "ticks": ""
             }
            },
            "type": "parcoords"
           }
          ],
          "pie": [
           {
            "automargin": true,
            "type": "pie"
           }
          ],
          "scatter": [
           {
            "marker": {
             "line": {
              "color": "#283442"
             }
            },
            "type": "scatter"
           }
          ],
          "scatter3d": [
           {
            "line": {
             "colorbar": {
              "outlinewidth": 0,
              "ticks": ""
             }
            },
            "marker": {
             "colorbar": {
              "outlinewidth": 0,
              "ticks": ""
             }
            },
            "type": "scatter3d"
           }
          ],
          "scattercarpet": [
           {
            "marker": {
             "colorbar": {
              "outlinewidth": 0,
              "ticks": ""
             }
            },
            "type": "scattercarpet"
           }
          ],
          "scattergeo": [
           {
            "marker": {
             "colorbar": {
              "outlinewidth": 0,
              "ticks": ""
             }
            },
            "type": "scattergeo"
           }
          ],
          "scattergl": [
           {
            "marker": {
             "line": {
              "color": "#283442"
             }
            },
            "type": "scattergl"
           }
          ],
          "scattermapbox": [
           {
            "marker": {
             "colorbar": {
              "outlinewidth": 0,
              "ticks": ""
             }
            },
            "type": "scattermapbox"
           }
          ],
          "scatterpolar": [
           {
            "marker": {
             "colorbar": {
              "outlinewidth": 0,
              "ticks": ""
             }
            },
            "type": "scatterpolar"
           }
          ],
          "scatterpolargl": [
           {
            "marker": {
             "colorbar": {
              "outlinewidth": 0,
              "ticks": ""
             }
            },
            "type": "scatterpolargl"
           }
          ],
          "scatterternary": [
           {
            "marker": {
             "colorbar": {
              "outlinewidth": 0,
              "ticks": ""
             }
            },
            "type": "scatterternary"
           }
          ],
          "surface": [
           {
            "colorbar": {
             "outlinewidth": 0,
             "ticks": ""
            },
            "colorscale": [
             [
              0,
              "#0d0887"
             ],
             [
              0.1111111111111111,
              "#46039f"
             ],
             [
              0.2222222222222222,
              "#7201a8"
             ],
             [
              0.3333333333333333,
              "#9c179e"
             ],
             [
              0.4444444444444444,
              "#bd3786"
             ],
             [
              0.5555555555555556,
              "#d8576b"
             ],
             [
              0.6666666666666666,
              "#ed7953"
             ],
             [
              0.7777777777777778,
              "#fb9f3a"
             ],
             [
              0.8888888888888888,
              "#fdca26"
             ],
             [
              1,
              "#f0f921"
             ]
            ],
            "type": "surface"
           }
          ],
          "table": [
           {
            "cells": {
             "fill": {
              "color": "#506784"
             },
             "line": {
              "color": "rgb(17,17,17)"
             }
            },
            "header": {
             "fill": {
              "color": "#2a3f5f"
             },
             "line": {
              "color": "rgb(17,17,17)"
             }
            },
            "type": "table"
           }
          ]
         },
         "layout": {
          "annotationdefaults": {
           "arrowcolor": "#f2f5fa",
           "arrowhead": 0,
           "arrowwidth": 1
          },
          "autotypenumbers": "strict",
          "coloraxis": {
           "colorbar": {
            "outlinewidth": 0,
            "ticks": ""
           }
          },
          "colorscale": {
           "diverging": [
            [
             0,
             "#8e0152"
            ],
            [
             0.1,
             "#c51b7d"
            ],
            [
             0.2,
             "#de77ae"
            ],
            [
             0.3,
             "#f1b6da"
            ],
            [
             0.4,
             "#fde0ef"
            ],
            [
             0.5,
             "#f7f7f7"
            ],
            [
             0.6,
             "#e6f5d0"
            ],
            [
             0.7,
             "#b8e186"
            ],
            [
             0.8,
             "#7fbc41"
            ],
            [
             0.9,
             "#4d9221"
            ],
            [
             1,
             "#276419"
            ]
           ],
           "sequential": [
            [
             0,
             "#0d0887"
            ],
            [
             0.1111111111111111,
             "#46039f"
            ],
            [
             0.2222222222222222,
             "#7201a8"
            ],
            [
             0.3333333333333333,
             "#9c179e"
            ],
            [
             0.4444444444444444,
             "#bd3786"
            ],
            [
             0.5555555555555556,
             "#d8576b"
            ],
            [
             0.6666666666666666,
             "#ed7953"
            ],
            [
             0.7777777777777778,
             "#fb9f3a"
            ],
            [
             0.8888888888888888,
             "#fdca26"
            ],
            [
             1,
             "#f0f921"
            ]
           ],
           "sequentialminus": [
            [
             0,
             "#0d0887"
            ],
            [
             0.1111111111111111,
             "#46039f"
            ],
            [
             0.2222222222222222,
             "#7201a8"
            ],
            [
             0.3333333333333333,
             "#9c179e"
            ],
            [
             0.4444444444444444,
             "#bd3786"
            ],
            [
             0.5555555555555556,
             "#d8576b"
            ],
            [
             0.6666666666666666,
             "#ed7953"
            ],
            [
             0.7777777777777778,
             "#fb9f3a"
            ],
            [
             0.8888888888888888,
             "#fdca26"
            ],
            [
             1,
             "#f0f921"
            ]
           ]
          },
          "colorway": [
           "#636efa",
           "#EF553B",
           "#00cc96",
           "#ab63fa",
           "#FFA15A",
           "#19d3f3",
           "#FF6692",
           "#B6E880",
           "#FF97FF",
           "#FECB52"
          ],
          "font": {
           "color": "#f2f5fa"
          },
          "geo": {
           "bgcolor": "rgb(17,17,17)",
           "lakecolor": "rgb(17,17,17)",
           "landcolor": "rgb(17,17,17)",
           "showlakes": true,
           "showland": true,
           "subunitcolor": "#506784"
          },
          "hoverlabel": {
           "align": "left"
          },
          "hovermode": "closest",
          "mapbox": {
           "style": "dark"
          },
          "paper_bgcolor": "rgb(17,17,17)",
          "plot_bgcolor": "rgb(17,17,17)",
          "polar": {
           "angularaxis": {
            "gridcolor": "#506784",
            "linecolor": "#506784",
            "ticks": ""
           },
           "bgcolor": "rgb(17,17,17)",
           "radialaxis": {
            "gridcolor": "#506784",
            "linecolor": "#506784",
            "ticks": ""
           }
          },
          "scene": {
           "xaxis": {
            "backgroundcolor": "rgb(17,17,17)",
            "gridcolor": "#506784",
            "gridwidth": 2,
            "linecolor": "#506784",
            "showbackground": true,
            "ticks": "",
            "zerolinecolor": "#C8D4E3"
           },
           "yaxis": {
            "backgroundcolor": "rgb(17,17,17)",
            "gridcolor": "#506784",
            "gridwidth": 2,
            "linecolor": "#506784",
            "showbackground": true,
            "ticks": "",
            "zerolinecolor": "#C8D4E3"
           },
           "zaxis": {
            "backgroundcolor": "rgb(17,17,17)",
            "gridcolor": "#506784",
            "gridwidth": 2,
            "linecolor": "#506784",
            "showbackground": true,
            "ticks": "",
            "zerolinecolor": "#C8D4E3"
           }
          },
          "shapedefaults": {
           "line": {
            "color": "#f2f5fa"
           }
          },
          "sliderdefaults": {
           "bgcolor": "#C8D4E3",
           "bordercolor": "rgb(17,17,17)",
           "borderwidth": 1,
           "tickwidth": 0
          },
          "ternary": {
           "aaxis": {
            "gridcolor": "#506784",
            "linecolor": "#506784",
            "ticks": ""
           },
           "baxis": {
            "gridcolor": "#506784",
            "linecolor": "#506784",
            "ticks": ""
           },
           "bgcolor": "rgb(17,17,17)",
           "caxis": {
            "gridcolor": "#506784",
            "linecolor": "#506784",
            "ticks": ""
           }
          },
          "title": {
           "x": 0.05
          },
          "updatemenudefaults": {
           "bgcolor": "#506784",
           "borderwidth": 0
          },
          "xaxis": {
           "automargin": true,
           "gridcolor": "#283442",
           "linecolor": "#506784",
           "ticks": "",
           "title": {
            "standoff": 15
           },
           "zerolinecolor": "#283442",
           "zerolinewidth": 2
          },
          "yaxis": {
           "automargin": true,
           "gridcolor": "#283442",
           "linecolor": "#506784",
           "ticks": "",
           "title": {
            "standoff": 15
           },
           "zerolinecolor": "#283442",
           "zerolinewidth": 2
          }
         }
        },
        "width": 800,
        "xaxis": {
         "anchor": "y",
         "domain": [
          0,
          1
         ],
         "title": {
          "text": "Season"
         }
        },
        "yaxis": {
         "anchor": "x",
         "domain": [
          0,
          1
         ],
         "title": {
          "text": "reb"
         }
        }
       }
      }
     },
     "metadata": {},
     "output_type": "display_data"
    }
   ],
   "source": [
    "fig = px.box(df, x='Season', y='reb', width=800, height=600)\n",
    "fig.update_layout(template='plotly_dark')\n",
    "fig.show()"
   ]
  },
  {
   "attachments": {},
   "cell_type": "markdown",
   "metadata": {},
   "source": [
    "- average rebounds per game have increased slightly when looking at median and max"
   ]
  },
  {
   "cell_type": "code",
   "execution_count": 84,
   "metadata": {},
   "outputs": [
    {
     "data": {
      "image/jpeg": "[encoded data removed]"
     },
     "metadata": {},
     "output_type": "display_data"
    }
   ],
   "source": [
    "fig = px.scatter(df, x='reb', y='fga_pgame', width = 800, height = 600)\n",
    "fig.update_layout(template='plotly_dark', yaxis_title='Team FGA Per Game', xaxis_title='Team Rebounds Per Game')\n",
    "fig.show('jpg')\n",
    "\n",
    "#save Figure as jpg image\n",
    "fig.write_image(\"images/rebounds/teamfga_vs_teamreb.jpeg\", scale=6)"
   ]
  },
  {
   "attachments": {},
   "cell_type": "markdown",
   "metadata": {},
   "source": [
    "teams that average more shot attempts per game, get more rebounds\n",
    "\n",
    "- Do players who play on higher pace teams (ie get more shots) have a better chance at getting more rebounds?"
   ]
  },
  {
   "cell_type": "code",
   "execution_count": 85,
   "metadata": {},
   "outputs": [],
   "source": [
    "#TODO: also look at percentage of teams rebounds players get (top 10 from each season). To compare whether top rebounders are getting more of the rebounds available in recent years, or if there are simply more rebounds to be gotten because of more shots"
   ]
  },
  {
   "cell_type": "code",
   "execution_count": 92,
   "metadata": {},
   "outputs": [
    {
     "data": {
      "text/html": [
       "<div>\n",
       "<style scoped>\n",
       "    .dataframe tbody tr th:only-of-type {\n",
       "        vertical-align: middle;\n",
       "    }\n",
       "\n",
       "    .dataframe tbody tr th {\n",
       "        vertical-align: top;\n",
       "    }\n",
       "\n",
       "    .dataframe thead th {\n",
       "        text-align: right;\n",
       "    }\n",
       "</style>\n",
       "<table border=\"1\" class=\"dataframe\">\n",
       "  <thead>\n",
       "    <tr style=\"text-align: right;\">\n",
       "      <th></th>\n",
       "      <th>Season</th>\n",
       "      <th>player reb</th>\n",
       "      <th>season rank</th>\n",
       "      <th>team</th>\n",
       "      <th>name</th>\n",
       "      <th>team reb</th>\n",
       "      <th>player rebound share</th>\n",
       "    </tr>\n",
       "  </thead>\n",
       "  <tbody>\n",
       "    <tr>\n",
       "      <th>0</th>\n",
       "      <td>2010</td>\n",
       "      <td>11.0</td>\n",
       "      <td>1</td>\n",
       "      <td>toronto</td>\n",
       "      <td>Nicki Schutz</td>\n",
       "      <td>42.5</td>\n",
       "      <td>0.258824</td>\n",
       "    </tr>\n",
       "    <tr>\n",
       "      <th>1</th>\n",
       "      <td>2010</td>\n",
       "      <td>10.8</td>\n",
       "      <td>2</td>\n",
       "      <td>ottawa</td>\n",
       "      <td>Hannah Sunley-Paisley</td>\n",
       "      <td>39.2</td>\n",
       "      <td>0.275510</td>\n",
       "    </tr>\n",
       "    <tr>\n",
       "      <th>2</th>\n",
       "      <td>2010</td>\n",
       "      <td>10.7</td>\n",
       "      <td>3</td>\n",
       "      <td>laurentian</td>\n",
       "      <td>Darrah Bumstead</td>\n",
       "      <td>41.0</td>\n",
       "      <td>0.260976</td>\n",
       "    </tr>\n",
       "    <tr>\n",
       "      <th>3</th>\n",
       "      <td>2010</td>\n",
       "      <td>9.9</td>\n",
       "      <td>4</td>\n",
       "      <td>lakehead</td>\n",
       "      <td>Lindsay Druery</td>\n",
       "      <td>36.3</td>\n",
       "      <td>0.272727</td>\n",
       "    </tr>\n",
       "    <tr>\n",
       "      <th>4</th>\n",
       "      <td>2010</td>\n",
       "      <td>9.8</td>\n",
       "      <td>5</td>\n",
       "      <td>regina</td>\n",
       "      <td>Brittany Read</td>\n",
       "      <td>44.4</td>\n",
       "      <td>0.220721</td>\n",
       "    </tr>\n",
       "    <tr>\n",
       "      <th>...</th>\n",
       "      <td>...</td>\n",
       "      <td>...</td>\n",
       "      <td>...</td>\n",
       "      <td>...</td>\n",
       "      <td>...</td>\n",
       "      <td>...</td>\n",
       "      <td>...</td>\n",
       "    </tr>\n",
       "    <tr>\n",
       "      <th>125</th>\n",
       "      <td>2023</td>\n",
       "      <td>10.9</td>\n",
       "      <td>6</td>\n",
       "      <td>bishops</td>\n",
       "      <td>Jael Kabunda</td>\n",
       "      <td>43.0</td>\n",
       "      <td>0.253488</td>\n",
       "    </tr>\n",
       "    <tr>\n",
       "      <th>126</th>\n",
       "      <td>2023</td>\n",
       "      <td>10.8</td>\n",
       "      <td>7</td>\n",
       "      <td>carleton</td>\n",
       "      <td>Jacqueline Urban</td>\n",
       "      <td>42.1</td>\n",
       "      <td>0.256532</td>\n",
       "    </tr>\n",
       "    <tr>\n",
       "      <th>127</th>\n",
       "      <td>2023</td>\n",
       "      <td>10.4</td>\n",
       "      <td>8</td>\n",
       "      <td>york</td>\n",
       "      <td>Cyanna King</td>\n",
       "      <td>43.4</td>\n",
       "      <td>0.239631</td>\n",
       "    </tr>\n",
       "    <tr>\n",
       "      <th>128</th>\n",
       "      <td>2023</td>\n",
       "      <td>10.1</td>\n",
       "      <td>9</td>\n",
       "      <td>trinitywestern</td>\n",
       "      <td>Nicole Fransson</td>\n",
       "      <td>41.4</td>\n",
       "      <td>0.243961</td>\n",
       "    </tr>\n",
       "    <tr>\n",
       "      <th>129</th>\n",
       "      <td>2023</td>\n",
       "      <td>9.9</td>\n",
       "      <td>10</td>\n",
       "      <td>regina</td>\n",
       "      <td>Jade Belmore</td>\n",
       "      <td>48.5</td>\n",
       "      <td>0.204124</td>\n",
       "    </tr>\n",
       "  </tbody>\n",
       "</table>\n",
       "<p>130 rows × 7 columns</p>\n",
       "</div>"
      ],
      "text/plain": [
       "     Season  player reb  season rank            team                   name  \\\n",
       "0      2010        11.0            1         toronto           Nicki Schutz   \n",
       "1      2010        10.8            2          ottawa  Hannah Sunley-Paisley   \n",
       "2      2010        10.7            3      laurentian        Darrah Bumstead   \n",
       "3      2010         9.9            4        lakehead         Lindsay Druery   \n",
       "4      2010         9.8            5          regina          Brittany Read   \n",
       "..      ...         ...          ...             ...                    ...   \n",
       "125    2023        10.9            6         bishops           Jael Kabunda   \n",
       "126    2023        10.8            7        carleton       Jacqueline Urban   \n",
       "127    2023        10.4            8            york            Cyanna King   \n",
       "128    2023        10.1            9  trinitywestern        Nicole Fransson   \n",
       "129    2023         9.9           10          regina           Jade Belmore   \n",
       "\n",
       "     team reb  player rebound share  \n",
       "0        42.5              0.258824  \n",
       "1        39.2              0.275510  \n",
       "2        41.0              0.260976  \n",
       "3        36.3              0.272727  \n",
       "4        44.4              0.220721  \n",
       "..        ...                   ...  \n",
       "125      43.0              0.253488  \n",
       "126      42.1              0.256532  \n",
       "127      43.4              0.239631  \n",
       "128      41.4              0.243961  \n",
       "129      48.5              0.204124  \n",
       "\n",
       "[130 rows x 7 columns]"
      ]
     },
     "execution_count": 92,
     "metadata": {},
     "output_type": "execute_result"
    }
   ],
   "source": [
    "q = \"\"\"\n",
    "    SELECT t2.season, t2.reb, season_rank, t2.team, t2.name, team_splitstats.reb, t2.reb/team_splitstats.reb AS reb_share \n",
    "    FROM team_splitstats\n",
    "    JOIN ( SELECT season, reb, season_rank, team, name\n",
    "            FROM (  SELECT player_ballcontrol.*, team, name,\n",
    "                    row_number() OVER (PARTITION BY season ORDER BY reb DESC) AS season_rank\n",
    "                    FROM player_ballcontrol\n",
    "                    NATURAL JOIN player_info\n",
    "                    NATURAL JOIN players\n",
    "                    WHERE games_played > 10\n",
    "                ) t1\n",
    "            WHERE season_rank >= 1 AND season_rank <= 10\n",
    "        ) t2\n",
    "    ON team_splitstats.team = t2.team AND team_splitstats.season = t2.season\n",
    "    WHERE split = 'total';\n",
    "    \n",
    "\"\"\"\n",
    "\n",
    "result = read_query(connection, q, None)\n",
    "result\n",
    "top_reb_df = pd.DataFrame(result, columns=['Season', 'player reb', 'season rank', 'team', 'name', 'team reb', 'player rebound share'])\n",
    "top_reb_df"
   ]
  },
  {
   "cell_type": "code",
   "execution_count": 94,
   "metadata": {},
   "outputs": [
    {
     "data": {
      "image/jpeg": "[encoded data removed]"
     },
     "metadata": {},
     "output_type": "display_data"
    },
    {
     "data": {
      "image/jpeg": "[encoded data removed]"
     },
     "metadata": {},
     "output_type": "display_data"
    }
   ],
   "source": [
    "fig = px.box(top_reb_df, x='Season', y='player rebound share', width=800, height=600)\n",
    "fig.update_layout(template='plotly_dark', yaxis_title=\"% of Team's Rebounds\")\n",
    "fig.show('jpg')\n",
    "#save Figure as jpg image\n",
    "fig.write_image(\"images/rebounds/percentteamreb_boxplot.jpeg\", scale=6)\n",
    "\n",
    "outliers = top_reb_df.loc[top_reb_df[\"player rebound share\"] > 0.35, [\"player reb\", 'player rebound share', 'name']]\n",
    "fig = px.scatter(top_reb_df, x='player reb', y='player rebound share', color = 'Season', width=800, height=600)\n",
    "fig.update_layout(template='plotly_dark', xaxis_title=\"Rebounds Per Game\", yaxis_title=\"% of Team's Rebounds\")\n",
    "## add text to outliers using their (x,y) coordinates:\n",
    "for x,y,z in outliers.itertuples(index=False):\n",
    "    fig.add_annotation(\n",
    "        x=x, y=y,\n",
    "        text=z,\n",
    "        showarrow=False,\n",
    "        yshift=10\n",
    "    )\n",
    "fig.show('jpg')\n",
    "#save Figure as jpg image\n",
    "fig.write_image(\"images/rebounds/percentteamreb_vs_playerreb.jpeg\", scale=6)\n",
    "\n",
    "\n"
   ]
  },
  {
   "attachments": {},
   "cell_type": "markdown",
   "metadata": {},
   "source": [
    "- in three out of last 5 seasons, individual players have contributed to over 30% of a team's rebounds\n",
    "- strong correlation between % of team's rebounds and rebounds per game"
   ]
  },
  {
   "cell_type": "code",
   "execution_count": 95,
   "metadata": {},
   "outputs": [
    {
     "data": {
      "text/html": [
       "<div>\n",
       "<style scoped>\n",
       "    .dataframe tbody tr th:only-of-type {\n",
       "        vertical-align: middle;\n",
       "    }\n",
       "\n",
       "    .dataframe tbody tr th {\n",
       "        vertical-align: top;\n",
       "    }\n",
       "\n",
       "    .dataframe thead th {\n",
       "        text-align: right;\n",
       "    }\n",
       "</style>\n",
       "<table border=\"1\" class=\"dataframe\">\n",
       "  <thead>\n",
       "    <tr style=\"text-align: right;\">\n",
       "      <th></th>\n",
       "      <th>fga per game</th>\n",
       "      <th>team</th>\n",
       "      <th>Season</th>\n",
       "      <th>team fga season rank</th>\n",
       "    </tr>\n",
       "  </thead>\n",
       "  <tbody>\n",
       "    <tr>\n",
       "      <th>1</th>\n",
       "      <td>66.954545</td>\n",
       "      <td>lakehead</td>\n",
       "      <td>2010</td>\n",
       "      <td>2</td>\n",
       "    </tr>\n",
       "    <tr>\n",
       "      <th>2</th>\n",
       "      <td>66.045455</td>\n",
       "      <td>ottawa</td>\n",
       "      <td>2010</td>\n",
       "      <td>3</td>\n",
       "    </tr>\n",
       "    <tr>\n",
       "      <th>3</th>\n",
       "      <td>65.272727</td>\n",
       "      <td>carleton</td>\n",
       "      <td>2010</td>\n",
       "      <td>4</td>\n",
       "    </tr>\n",
       "    <tr>\n",
       "      <th>4</th>\n",
       "      <td>71.700000</td>\n",
       "      <td>stfx</td>\n",
       "      <td>2010</td>\n",
       "      <td>5</td>\n",
       "    </tr>\n",
       "    <tr>\n",
       "      <th>5</th>\n",
       "      <td>64.681818</td>\n",
       "      <td>toronto</td>\n",
       "      <td>2010</td>\n",
       "      <td>6</td>\n",
       "    </tr>\n",
       "    <tr>\n",
       "      <th>6</th>\n",
       "      <td>64.500000</td>\n",
       "      <td>ryerson</td>\n",
       "      <td>2010</td>\n",
       "      <td>7</td>\n",
       "    </tr>\n",
       "    <tr>\n",
       "      <th>7</th>\n",
       "      <td>63.636364</td>\n",
       "      <td>mcmaster</td>\n",
       "      <td>2010</td>\n",
       "      <td>8</td>\n",
       "    </tr>\n",
       "    <tr>\n",
       "      <th>8</th>\n",
       "      <td>62.454545</td>\n",
       "      <td>laurier</td>\n",
       "      <td>2010</td>\n",
       "      <td>9</td>\n",
       "    </tr>\n",
       "    <tr>\n",
       "      <th>9</th>\n",
       "      <td>68.200000</td>\n",
       "      <td>acadia</td>\n",
       "      <td>2010</td>\n",
       "      <td>10</td>\n",
       "    </tr>\n",
       "  </tbody>\n",
       "</table>\n",
       "</div>"
      ],
      "text/plain": [
       "   fga per game      team  Season  team fga season rank\n",
       "1     66.954545  lakehead    2010                     2\n",
       "2     66.045455    ottawa    2010                     3\n",
       "3     65.272727  carleton    2010                     4\n",
       "4     71.700000      stfx    2010                     5\n",
       "5     64.681818   toronto    2010                     6\n",
       "6     64.500000   ryerson    2010                     7\n",
       "7     63.636364  mcmaster    2010                     8\n",
       "8     62.454545   laurier    2010                     9\n",
       "9     68.200000    acadia    2010                    10"
      ]
     },
     "execution_count": 95,
     "metadata": {},
     "output_type": "execute_result"
    }
   ],
   "source": [
    "q = \"\"\"\n",
    "    SELECT fga/games_played AS fga_per_game, team, season,\n",
    "    row_number() OVER (PARTITION BY season ORDER BY fga DESC) AS fga_season_rank\n",
    "    FROM team_splitstats\n",
    "    WHERE split = 'total';   \n",
    "\"\"\"\n",
    "\n",
    "result = read_query(connection, q, None)\n",
    "result\n",
    "fga_df = pd.DataFrame(result, columns=['fga per game', 'team', 'Season', 'team fga season rank'])\n",
    "fga_df.iloc[1:10]"
   ]
  },
  {
   "cell_type": "code",
   "execution_count": 96,
   "metadata": {},
   "outputs": [
    {
     "data": {
      "text/html": [
       "<div>\n",
       "<style scoped>\n",
       "    .dataframe tbody tr th:only-of-type {\n",
       "        vertical-align: middle;\n",
       "    }\n",
       "\n",
       "    .dataframe tbody tr th {\n",
       "        vertical-align: top;\n",
       "    }\n",
       "\n",
       "    .dataframe thead th {\n",
       "        text-align: right;\n",
       "    }\n",
       "</style>\n",
       "<table border=\"1\" class=\"dataframe\">\n",
       "  <thead>\n",
       "    <tr style=\"text-align: right;\">\n",
       "      <th></th>\n",
       "      <th>Season</th>\n",
       "      <th>player reb</th>\n",
       "      <th>season rank</th>\n",
       "      <th>team</th>\n",
       "      <th>name</th>\n",
       "      <th>team reb</th>\n",
       "      <th>player rebound share</th>\n",
       "    </tr>\n",
       "  </thead>\n",
       "  <tbody>\n",
       "    <tr>\n",
       "      <th>0</th>\n",
       "      <td>2010</td>\n",
       "      <td>11.0</td>\n",
       "      <td>1</td>\n",
       "      <td>toronto</td>\n",
       "      <td>Nicki Schutz</td>\n",
       "      <td>42.5</td>\n",
       "      <td>0.258824</td>\n",
       "    </tr>\n",
       "    <tr>\n",
       "      <th>1</th>\n",
       "      <td>2010</td>\n",
       "      <td>10.8</td>\n",
       "      <td>2</td>\n",
       "      <td>ottawa</td>\n",
       "      <td>Hannah Sunley-Paisley</td>\n",
       "      <td>39.2</td>\n",
       "      <td>0.275510</td>\n",
       "    </tr>\n",
       "    <tr>\n",
       "      <th>2</th>\n",
       "      <td>2010</td>\n",
       "      <td>10.7</td>\n",
       "      <td>3</td>\n",
       "      <td>laurentian</td>\n",
       "      <td>Darrah Bumstead</td>\n",
       "      <td>41.0</td>\n",
       "      <td>0.260976</td>\n",
       "    </tr>\n",
       "    <tr>\n",
       "      <th>3</th>\n",
       "      <td>2010</td>\n",
       "      <td>9.9</td>\n",
       "      <td>4</td>\n",
       "      <td>lakehead</td>\n",
       "      <td>Lindsay Druery</td>\n",
       "      <td>36.3</td>\n",
       "      <td>0.272727</td>\n",
       "    </tr>\n",
       "    <tr>\n",
       "      <th>4</th>\n",
       "      <td>2010</td>\n",
       "      <td>9.8</td>\n",
       "      <td>5</td>\n",
       "      <td>regina</td>\n",
       "      <td>Brittany Read</td>\n",
       "      <td>44.4</td>\n",
       "      <td>0.220721</td>\n",
       "    </tr>\n",
       "    <tr>\n",
       "      <th>...</th>\n",
       "      <td>...</td>\n",
       "      <td>...</td>\n",
       "      <td>...</td>\n",
       "      <td>...</td>\n",
       "      <td>...</td>\n",
       "      <td>...</td>\n",
       "      <td>...</td>\n",
       "    </tr>\n",
       "    <tr>\n",
       "      <th>125</th>\n",
       "      <td>2023</td>\n",
       "      <td>10.9</td>\n",
       "      <td>6</td>\n",
       "      <td>bishops</td>\n",
       "      <td>Jael Kabunda</td>\n",
       "      <td>43.0</td>\n",
       "      <td>0.253488</td>\n",
       "    </tr>\n",
       "    <tr>\n",
       "      <th>126</th>\n",
       "      <td>2023</td>\n",
       "      <td>10.8</td>\n",
       "      <td>7</td>\n",
       "      <td>carleton</td>\n",
       "      <td>Jacqueline Urban</td>\n",
       "      <td>42.1</td>\n",
       "      <td>0.256532</td>\n",
       "    </tr>\n",
       "    <tr>\n",
       "      <th>127</th>\n",
       "      <td>2023</td>\n",
       "      <td>10.4</td>\n",
       "      <td>8</td>\n",
       "      <td>york</td>\n",
       "      <td>Cyanna King</td>\n",
       "      <td>43.4</td>\n",
       "      <td>0.239631</td>\n",
       "    </tr>\n",
       "    <tr>\n",
       "      <th>128</th>\n",
       "      <td>2023</td>\n",
       "      <td>10.1</td>\n",
       "      <td>9</td>\n",
       "      <td>trinitywestern</td>\n",
       "      <td>Nicole Fransson</td>\n",
       "      <td>41.4</td>\n",
       "      <td>0.243961</td>\n",
       "    </tr>\n",
       "    <tr>\n",
       "      <th>129</th>\n",
       "      <td>2023</td>\n",
       "      <td>9.9</td>\n",
       "      <td>10</td>\n",
       "      <td>regina</td>\n",
       "      <td>Jade Belmore</td>\n",
       "      <td>48.5</td>\n",
       "      <td>0.204124</td>\n",
       "    </tr>\n",
       "  </tbody>\n",
       "</table>\n",
       "<p>130 rows × 7 columns</p>\n",
       "</div>"
      ],
      "text/plain": [
       "     Season  player reb  season rank            team                   name  \\\n",
       "0      2010        11.0            1         toronto           Nicki Schutz   \n",
       "1      2010        10.8            2          ottawa  Hannah Sunley-Paisley   \n",
       "2      2010        10.7            3      laurentian        Darrah Bumstead   \n",
       "3      2010         9.9            4        lakehead         Lindsay Druery   \n",
       "4      2010         9.8            5          regina          Brittany Read   \n",
       "..      ...         ...          ...             ...                    ...   \n",
       "125    2023        10.9            6         bishops           Jael Kabunda   \n",
       "126    2023        10.8            7        carleton       Jacqueline Urban   \n",
       "127    2023        10.4            8            york            Cyanna King   \n",
       "128    2023        10.1            9  trinitywestern        Nicole Fransson   \n",
       "129    2023         9.9           10          regina           Jade Belmore   \n",
       "\n",
       "     team reb  player rebound share  \n",
       "0        42.5              0.258824  \n",
       "1        39.2              0.275510  \n",
       "2        41.0              0.260976  \n",
       "3        36.3              0.272727  \n",
       "4        44.4              0.220721  \n",
       "..        ...                   ...  \n",
       "125      43.0              0.253488  \n",
       "126      42.1              0.256532  \n",
       "127      43.4              0.239631  \n",
       "128      41.4              0.243961  \n",
       "129      48.5              0.204124  \n",
       "\n",
       "[130 rows x 7 columns]"
      ]
     },
     "execution_count": 96,
     "metadata": {},
     "output_type": "execute_result"
    }
   ],
   "source": [
    "top_reb_df"
   ]
  },
  {
   "cell_type": "code",
   "execution_count": 97,
   "metadata": {},
   "outputs": [
    {
     "data": {
      "text/html": [
       "<div>\n",
       "<style scoped>\n",
       "    .dataframe tbody tr th:only-of-type {\n",
       "        vertical-align: middle;\n",
       "    }\n",
       "\n",
       "    .dataframe tbody tr th {\n",
       "        vertical-align: top;\n",
       "    }\n",
       "\n",
       "    .dataframe thead th {\n",
       "        text-align: right;\n",
       "    }\n",
       "</style>\n",
       "<table border=\"1\" class=\"dataframe\">\n",
       "  <thead>\n",
       "    <tr style=\"text-align: right;\">\n",
       "      <th></th>\n",
       "      <th>fga per game</th>\n",
       "      <th>team</th>\n",
       "      <th>Season</th>\n",
       "      <th>team fga season rank</th>\n",
       "      <th>player reb</th>\n",
       "      <th>season rank</th>\n",
       "      <th>name</th>\n",
       "      <th>team reb</th>\n",
       "      <th>player rebound share</th>\n",
       "    </tr>\n",
       "  </thead>\n",
       "  <tbody>\n",
       "    <tr>\n",
       "      <th>0</th>\n",
       "      <td>66.954545</td>\n",
       "      <td>lakehead</td>\n",
       "      <td>2010</td>\n",
       "      <td>2</td>\n",
       "      <td>9.9</td>\n",
       "      <td>4</td>\n",
       "      <td>Lindsay Druery</td>\n",
       "      <td>36.3</td>\n",
       "      <td>0.272727</td>\n",
       "    </tr>\n",
       "    <tr>\n",
       "      <th>1</th>\n",
       "      <td>66.045455</td>\n",
       "      <td>ottawa</td>\n",
       "      <td>2010</td>\n",
       "      <td>3</td>\n",
       "      <td>10.8</td>\n",
       "      <td>2</td>\n",
       "      <td>Hannah Sunley-Paisley</td>\n",
       "      <td>39.2</td>\n",
       "      <td>0.275510</td>\n",
       "    </tr>\n",
       "    <tr>\n",
       "      <th>2</th>\n",
       "      <td>64.681818</td>\n",
       "      <td>toronto</td>\n",
       "      <td>2010</td>\n",
       "      <td>6</td>\n",
       "      <td>11.0</td>\n",
       "      <td>1</td>\n",
       "      <td>Nicki Schutz</td>\n",
       "      <td>42.5</td>\n",
       "      <td>0.258824</td>\n",
       "    </tr>\n",
       "    <tr>\n",
       "      <th>3</th>\n",
       "      <td>64.500000</td>\n",
       "      <td>ryerson</td>\n",
       "      <td>2010</td>\n",
       "      <td>7</td>\n",
       "      <td>9.3</td>\n",
       "      <td>7</td>\n",
       "      <td>Angela Tilk</td>\n",
       "      <td>37.5</td>\n",
       "      <td>0.248000</td>\n",
       "    </tr>\n",
       "    <tr>\n",
       "      <th>4</th>\n",
       "      <td>57.954545</td>\n",
       "      <td>laurentian</td>\n",
       "      <td>2010</td>\n",
       "      <td>18</td>\n",
       "      <td>10.7</td>\n",
       "      <td>3</td>\n",
       "      <td>Darrah Bumstead</td>\n",
       "      <td>41.0</td>\n",
       "      <td>0.260976</td>\n",
       "    </tr>\n",
       "    <tr>\n",
       "      <th>...</th>\n",
       "      <td>...</td>\n",
       "      <td>...</td>\n",
       "      <td>...</td>\n",
       "      <td>...</td>\n",
       "      <td>...</td>\n",
       "      <td>...</td>\n",
       "      <td>...</td>\n",
       "      <td>...</td>\n",
       "      <td>...</td>\n",
       "    </tr>\n",
       "    <tr>\n",
       "      <th>125</th>\n",
       "      <td>68.800000</td>\n",
       "      <td>regina</td>\n",
       "      <td>2023</td>\n",
       "      <td>22</td>\n",
       "      <td>9.9</td>\n",
       "      <td>10</td>\n",
       "      <td>Jade Belmore</td>\n",
       "      <td>48.5</td>\n",
       "      <td>0.204124</td>\n",
       "    </tr>\n",
       "    <tr>\n",
       "      <th>126</th>\n",
       "      <td>67.300000</td>\n",
       "      <td>capebreton</td>\n",
       "      <td>2023</td>\n",
       "      <td>26</td>\n",
       "      <td>16.6</td>\n",
       "      <td>1</td>\n",
       "      <td>Kiyara Letlow</td>\n",
       "      <td>42.0</td>\n",
       "      <td>0.395238</td>\n",
       "    </tr>\n",
       "    <tr>\n",
       "      <th>127</th>\n",
       "      <td>64.800000</td>\n",
       "      <td>unbc</td>\n",
       "      <td>2023</td>\n",
       "      <td>36</td>\n",
       "      <td>11.0</td>\n",
       "      <td>4</td>\n",
       "      <td>Sveta Boykova</td>\n",
       "      <td>45.0</td>\n",
       "      <td>0.244444</td>\n",
       "    </tr>\n",
       "    <tr>\n",
       "      <th>128</th>\n",
       "      <td>64.250000</td>\n",
       "      <td>trinitywestern</td>\n",
       "      <td>2023</td>\n",
       "      <td>37</td>\n",
       "      <td>10.1</td>\n",
       "      <td>9</td>\n",
       "      <td>Nicole Fransson</td>\n",
       "      <td>41.4</td>\n",
       "      <td>0.243961</td>\n",
       "    </tr>\n",
       "    <tr>\n",
       "      <th>129</th>\n",
       "      <td>64.437500</td>\n",
       "      <td>bishops</td>\n",
       "      <td>2023</td>\n",
       "      <td>44</td>\n",
       "      <td>10.9</td>\n",
       "      <td>6</td>\n",
       "      <td>Jael Kabunda</td>\n",
       "      <td>43.0</td>\n",
       "      <td>0.253488</td>\n",
       "    </tr>\n",
       "  </tbody>\n",
       "</table>\n",
       "<p>130 rows × 9 columns</p>\n",
       "</div>"
      ],
      "text/plain": [
       "     fga per game            team  Season  team fga season rank  player reb  \\\n",
       "0       66.954545        lakehead    2010                     2         9.9   \n",
       "1       66.045455          ottawa    2010                     3        10.8   \n",
       "2       64.681818         toronto    2010                     6        11.0   \n",
       "3       64.500000         ryerson    2010                     7         9.3   \n",
       "4       57.954545      laurentian    2010                    18        10.7   \n",
       "..            ...             ...     ...                   ...         ...   \n",
       "125     68.800000          regina    2023                    22         9.9   \n",
       "126     67.300000      capebreton    2023                    26        16.6   \n",
       "127     64.800000            unbc    2023                    36        11.0   \n",
       "128     64.250000  trinitywestern    2023                    37        10.1   \n",
       "129     64.437500         bishops    2023                    44        10.9   \n",
       "\n",
       "     season rank                   name  team reb  player rebound share  \n",
       "0              4         Lindsay Druery      36.3              0.272727  \n",
       "1              2  Hannah Sunley-Paisley      39.2              0.275510  \n",
       "2              1           Nicki Schutz      42.5              0.258824  \n",
       "3              7            Angela Tilk      37.5              0.248000  \n",
       "4              3        Darrah Bumstead      41.0              0.260976  \n",
       "..           ...                    ...       ...                   ...  \n",
       "125           10           Jade Belmore      48.5              0.204124  \n",
       "126            1          Kiyara Letlow      42.0              0.395238  \n",
       "127            4          Sveta Boykova      45.0              0.244444  \n",
       "128            9        Nicole Fransson      41.4              0.243961  \n",
       "129            6           Jael Kabunda      43.0              0.253488  \n",
       "\n",
       "[130 rows x 9 columns]"
      ]
     },
     "execution_count": 97,
     "metadata": {},
     "output_type": "execute_result"
    }
   ],
   "source": [
    "final_df = fga_df.merge(top_reb_df, on=['team', 'Season'], how='inner')\n",
    "final_df"
   ]
  },
  {
   "cell_type": "code",
   "execution_count": 91,
   "metadata": {},
   "outputs": [
    {
     "data": {
      "image/jpeg": "[encoded data removed]"
     },
     "metadata": {},
     "output_type": "display_data"
    }
   ],
   "source": [
    "fig = px.scatter(final_df, x='player reb', y='fga per game', width=800, height=600)\n",
    "fig.update_layout(template='plotly_dark', xaxis_title='Player Rebounds Per Game', yaxis_title='Team FGA Per Game')\n",
    "fig.update_coloraxes(reversescale=True)\n",
    "fig.update_traces(marker=dict(size=7))\n",
    "fig.show('jpg')\n",
    "\n",
    "#save Figure as jpg image\n",
    "fig.write_image(\"images/rebounds/teamfga_vs_playerreb.jpeg\", scale=6)\n"
   ]
  },
  {
   "attachments": {},
   "cell_type": "markdown",
   "metadata": {},
   "source": [
    "- no correlation between individual rebounds per game and team fga per game"
   ]
  },
  {
   "cell_type": "code",
   "execution_count": 99,
   "metadata": {},
   "outputs": [
    {
     "data": {
      "image/jpeg": "[encoded data removed]"
     },
     "metadata": {},
     "output_type": "display_data"
    }
   ],
   "source": [
    "outliers = final_df.loc[final_df[\"player rebound share\"] > 0.35, [\"player reb\", 'player rebound share', 'name']]\n",
    "fig = px.scatter(final_df, x='player reb', y='player rebound share', color = 'fga per game', width=800, height=600)\n",
    "fig.update_layout(template='plotly_dark', xaxis_title=\"Rebounds Per Game\", yaxis_title=\"% of Team's Rebounds\", coloraxis_colorbar_title_text='Team FGA')\n",
    "# add text to outliers using their (x,y) coordinates:\n",
    "for x,y,z in outliers.itertuples(index=False):\n",
    "    fig.add_annotation(\n",
    "        x=x, y=y,\n",
    "        text=z,\n",
    "        showarrow=False,\n",
    "        yshift=10\n",
    "    )\n",
    "fig.show('jpg')\n",
    "\n",
    "#save Figure as jpg image\n",
    "fig.write_image(\"images/rebounds/percentteamreb_vs_playerreb2.jpeg\", scale=6)"
   ]
  },
  {
   "cell_type": "code",
   "execution_count": null,
   "metadata": {},
   "outputs": [],
   "source": []
  }
 ],
 "metadata": {
  "kernelspec": {
   "display_name": ".venv",
   "language": "python",
   "name": "python3"
  },
  "language_info": {
   "codemirror_mode": {
    "name": "ipython",
    "version": 3
   },
   "file_extension": ".py",
   "mimetype": "text/x-python",
   "name": "python",
   "nbconvert_exporter": "python",
   "pygments_lexer": "ipython3",
   "version": "3.8.5"
  },
  "orig_nbformat": 4,
  "vscode": {
   "interpreter": {
    "hash": "1a6790f7a0a475825be946d18e8cf07ce8c9215b4c865963d30686fba4418063"
   }
  }
 },
 "nbformat": 4,
 "nbformat_minor": 2
}

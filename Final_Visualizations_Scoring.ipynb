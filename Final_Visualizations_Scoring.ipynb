{
 "cells": [
  {
   "cell_type": "code",
   "execution_count": 1,
   "metadata": {},
   "outputs": [
    {
     "name": "stdout",
     "output_type": "stream",
     "text": [
      "MySQL Database connection successful\n"
     ]
    }
   ],
   "source": [
    "import pandas as pd\n",
    "from sql_functions import create_db_connection, execute_query, read_query\n",
    "import plotly.express as px \n",
    "import plotly.graph_objects as go\n",
    "\n",
    "#connect to database\n",
    "pw = \"*****\"\n",
    "connection = create_db_connection(\"localhost\", \"root\", pw, \"usports\")"
   ]
  },
  {
   "attachments": {},
   "cell_type": "markdown",
   "metadata": {},
   "source": [
    "### Individual 3 point attempts\n",
    "Find the number of players each season who played in at least 1 game and played at least 5 minutes per game\n",
    "\n",
    "Find the number of players each season who took >= X 3 point attempts per game (and who played in at least 1 game and played at least 5 minutes per game). Normalize this value by the number of players who played in at least 1 game and played at least 5 minutes per game so that results aren't skewed by increasing number of playeres in league.\n",
    "\n",
    "Visualize as multiple line plots on a single axes\n"
   ]
  },
  {
   "cell_type": "code",
   "execution_count": 2,
   "metadata": {},
   "outputs": [],
   "source": [
    "#count number of players who took greater than X threes each season\n",
    "for num_threes in range(0,9):\n",
    "    #count the number of players in each season who meet criteria above and also took at least num_threes 3pt shots per game\n",
    "    if num_threes == 0:\n",
    "        q = \"\"\"\n",
    "        SELECT season, count(name)\n",
    "        FROM players\n",
    "        NATURAL JOIN player_shooting\n",
    "        NATURAL JOIN player_info\n",
    "        WHERE games_played > 0 AND minutes_pgame >= 5 AND fga3 >= 0 AND fga3 < 1\n",
    "        GROUP BY season\n",
    "        ORDER BY season;\n",
    "        \"\"\"\n",
    "        result_threes = read_query(connection, q, None)\n",
    "    else:\n",
    "        q = \"\"\"\n",
    "            SELECT season, count(name)\n",
    "            FROM players\n",
    "            NATURAL JOIN player_shooting\n",
    "            NATURAL JOIN player_info\n",
    "            WHERE games_played > 0 AND minutes_pgame >= 5 AND fga3 >= %s\n",
    "            GROUP BY season\n",
    "            ORDER BY season;\n",
    "            \"\"\"\n",
    "        result_threes = read_query(connection, q, [num_threes])\n",
    "        \n",
    "    new_df = pd.DataFrame(result_threes, columns=['Season', num_threes])\n",
    "    if num_threes == 0:\n",
    "       df = new_df\n",
    "    if num_threes > 0:\n",
    "       df = df.join(new_df.set_index('Season'), on='Season', how='left')\n",
    "    \n",
    "#count number of players who played in at least 1 game and averaged at least 5 minutes per game\n",
    "q2 = \"\"\"\n",
    "    SELECT season, count(name)\n",
    "    FROM players\n",
    "    NATURAL JOIN player_info\n",
    "    WHERE games_played > 0 AND minutes_pgame >= 5\n",
    "    GROUP BY season\n",
    "    ORDER BY season;\n",
    "    \"\"\"\n",
    "\n",
    "result_players = read_query(connection, q2, None)\n",
    "df_numPlayers = pd.DataFrame(result_players, columns=['Season', 'Count'])\n",
    "\n",
    "three_count_norm = df[[0,1,2,3,4,5,6,7,8]].transpose()/df_numPlayers['Count'].values\n",
    "three_count_norm.columns = [2010, 2011, 2012, 2013, 2014, 2015, 2016, 2017, 2018, 2019, 2020, 2022, 2023]"
   ]
  },
  {
   "cell_type": "code",
   "execution_count": 3,
   "metadata": {},
   "outputs": [
    {
     "name": "stderr",
     "output_type": "stream",
     "text": [
      "/Users/emmaritcey/Documents/basketball_research/usports_database/.venv/lib/python3.8/site-packages/plotly/graph_objs/_deprecations.py:378: DeprecationWarning: plotly.graph_objs.Line is deprecated.\n",
      "Please replace it with one of the following more specific types\n",
      "  - plotly.graph_objs.scatter.Line\n",
      "  - plotly.graph_objs.layout.shape.Line\n",
      "  - etc.\n",
      "\n",
      "  warnings.warn(\n"
     ]
    },
    {
     "data": {
      "application/vnd.plotly.v1+json": {
       "config": {
        "plotlyServerURL": "https://plot.ly"
       },
       "data": [
        {
         "name": "0 <= X < 1",
         "type": "scatter",
         "x": [
          2010,
          2011,
          2012,
          2013,
          2014,
          2015,
          2016,
          2017,
          2018,
          2019,
          2020,
          2022,
          2023
         ],
         "y": [
          0.5144766146993318,
          0.4762979683972912,
          0.45414847161572053,
          0.478,
          0.5254901960784314,
          0.4971537001897533,
          0.4528301886792453,
          0.4748062015503876,
          0.42034548944337813,
          0.4155339805825243,
          0.4007285974499089,
          0.3552397868561279,
          0.36869565217391304
         ]
        },
        {
         "name": "1 <= X",
         "type": "scatter",
         "x": [
          2010,
          2011,
          2012,
          2013,
          2014,
          2015,
          2016,
          2017,
          2018,
          2019,
          2020,
          2022,
          2023
         ],
         "y": [
          0.48552338530066813,
          0.5237020316027088,
          0.5458515283842795,
          0.522,
          0.4745098039215686,
          0.5028462998102466,
          0.5471698113207547,
          0.5251937984496124,
          0.5796545105566219,
          0.5844660194174758,
          0.599271402550091,
          0.6447602131438721,
          0.6313043478260869
         ]
        },
        {
         "name": "2 <= X",
         "type": "scatter",
         "x": [
          2010,
          2011,
          2012,
          2013,
          2014,
          2015,
          2016,
          2017,
          2018,
          2019,
          2020,
          2022,
          2023
         ],
         "y": [
          0.31625835189309576,
          0.33860045146726864,
          0.33624454148471616,
          0.358,
          0.3137254901960784,
          0.2998102466793169,
          0.36981132075471695,
          0.3643410852713178,
          0.4126679462571977,
          0.40388349514563104,
          0.4371584699453552,
          0.4351687388987567,
          0.4156521739130435
         ]
        },
        {
         "name": "3 <= X",
         "type": "scatter",
         "x": [
          2010,
          2011,
          2012,
          2013,
          2014,
          2015,
          2016,
          2017,
          2018,
          2019,
          2020,
          2022,
          2023
         ],
         "y": [
          0.20935412026726058,
          0.20316027088036118,
          0.2052401746724891,
          0.228,
          0.18627450980392157,
          0.18975332068311196,
          0.22452830188679246,
          0.22093023255813954,
          0.2476007677543186,
          0.26796116504854367,
          0.2786885245901639,
          0.27175843694493784,
          0.26956521739130435
         ]
        },
        {
         "name": "4 <= X",
         "type": "scatter",
         "x": [
          2010,
          2011,
          2012,
          2013,
          2014,
          2015,
          2016,
          2017,
          2018,
          2019,
          2020,
          2022,
          2023
         ],
         "y": [
          0.10244988864142539,
          0.11738148984198646,
          0.11353711790393013,
          0.134,
          0.11568627450980393,
          0.1062618595825427,
          0.12075471698113208,
          0.13178294573643412,
          0.1381957773512476,
          0.170873786407767,
          0.16029143897996356,
          0.15452930728241562,
          0.1791304347826087
         ]
        },
        {
         "name": "5 <= X",
         "type": "scatter",
         "x": [
          2010,
          2011,
          2012,
          2013,
          2014,
          2015,
          2016,
          2017,
          2018,
          2019,
          2020,
          2022,
          2023
         ],
         "y": [
          0.0645879732739421,
          0.060948081264108354,
          0.048034934497816595,
          0.064,
          0.056862745098039215,
          0.051233396584440226,
          0.06792452830188679,
          0.06395348837209303,
          0.07677543186180422,
          0.10485436893203884,
          0.0965391621129326,
          0.08703374777975133,
          0.09913043478260869
         ]
        },
        {
         "name": "6 <= X",
         "type": "scatter",
         "x": [
          2010,
          2011,
          2012,
          2013,
          2014,
          2015,
          2016,
          2017,
          2018,
          2019,
          2020,
          2022,
          2023
         ],
         "y": [
          0.0400890868596882,
          0.022573363431151242,
          0.015283842794759825,
          0.032,
          0.023529411764705882,
          0.024667931688804556,
          0.03773584905660377,
          0.03294573643410853,
          0.0345489443378119,
          0.05048543689320388,
          0.052823315118397086,
          0.0497335701598579,
          0.04695652173913043
         ]
        },
        {
         "name": "7 <= X",
         "type": "scatter",
         "x": [
          2010,
          2011,
          2012,
          2013,
          2014,
          2015,
          2016,
          2017,
          2018,
          2019,
          2020,
          2022,
          2023
         ],
         "y": [
          0.008908685968819599,
          0.009029345372460496,
          0.006550218340611353,
          0.01,
          0.00980392156862745,
          0.009487666034155597,
          0.01509433962264151,
          0.01744186046511628,
          0.013435700575815739,
          0.027184466019417475,
          0.01639344262295082,
          0.023090586145648313,
          0.029565217391304348
         ]
        },
        {
         "name": "8 <= X",
         "type": "scatter",
         "x": [
          2010,
          2011,
          2012,
          2013,
          2014,
          2015,
          2016,
          2017,
          2018,
          2019,
          2020,
          2022,
          2023
         ],
         "y": [
          0.0022271714922048997,
          0.002257336343115124,
          null,
          0.004,
          0.0058823529411764705,
          0.0018975332068311196,
          0.007547169811320755,
          null,
          null,
          0.005825242718446602,
          0.007285974499089253,
          0.0053285968028419185,
          0.006956521739130435
         ]
        }
       ],
       "layout": {
        "height": 600,
        "template": {
         "data": {
          "bar": [
           {
            "error_x": {
             "color": "#f2f5fa"
            },
            "error_y": {
             "color": "#f2f5fa"
            },
            "marker": {
             "line": {
              "color": "rgb(17,17,17)",
              "width": 0.5
             },
             "pattern": {
              "fillmode": "overlay",
              "size": 10,
              "solidity": 0.2
             }
            },
            "type": "bar"
           }
          ],
          "barpolar": [
           {
            "marker": {
             "line": {
              "color": "rgb(17,17,17)",
              "width": 0.5
             },
             "pattern": {
              "fillmode": "overlay",
              "size": 10,
              "solidity": 0.2
             }
            },
            "type": "barpolar"
           }
          ],
          "carpet": [
           {
            "aaxis": {
             "endlinecolor": "#A2B1C6",
             "gridcolor": "#506784",
             "linecolor": "#506784",
             "minorgridcolor": "#506784",
             "startlinecolor": "#A2B1C6"
            },
            "baxis": {
             "endlinecolor": "#A2B1C6",
             "gridcolor": "#506784",
             "linecolor": "#506784",
             "minorgridcolor": "#506784",
             "startlinecolor": "#A2B1C6"
            },
            "type": "carpet"
           }
          ],
          "choropleth": [
           {
            "colorbar": {
             "outlinewidth": 0,
             "ticks": ""
            },
            "type": "choropleth"
           }
          ],
          "contour": [
           {
            "colorbar": {
             "outlinewidth": 0,
             "ticks": ""
            },
            "colorscale": [
             [
              0,
              "#0d0887"
             ],
             [
              0.1111111111111111,
              "#46039f"
             ],
             [
              0.2222222222222222,
              "#7201a8"
             ],
             [
              0.3333333333333333,
              "#9c179e"
             ],
             [
              0.4444444444444444,
              "#bd3786"
             ],
             [
              0.5555555555555556,
              "#d8576b"
             ],
             [
              0.6666666666666666,
              "#ed7953"
             ],
             [
              0.7777777777777778,
              "#fb9f3a"
             ],
             [
              0.8888888888888888,
              "#fdca26"
             ],
             [
              1,
              "#f0f921"
             ]
            ],
            "type": "contour"
           }
          ],
          "contourcarpet": [
           {
            "colorbar": {
             "outlinewidth": 0,
             "ticks": ""
            },
            "type": "contourcarpet"
           }
          ],
          "heatmap": [
           {
            "colorbar": {
             "outlinewidth": 0,
             "ticks": ""
            },
            "colorscale": [
             [
              0,
              "#0d0887"
             ],
             [
              0.1111111111111111,
              "#46039f"
             ],
             [
              0.2222222222222222,
              "#7201a8"
             ],
             [
              0.3333333333333333,
              "#9c179e"
             ],
             [
              0.4444444444444444,
              "#bd3786"
             ],
             [
              0.5555555555555556,
              "#d8576b"
             ],
             [
              0.6666666666666666,
              "#ed7953"
             ],
             [
              0.7777777777777778,
              "#fb9f3a"
             ],
             [
              0.8888888888888888,
              "#fdca26"
             ],
             [
              1,
              "#f0f921"
             ]
            ],
            "type": "heatmap"
           }
          ],
          "heatmapgl": [
           {
            "colorbar": {
             "outlinewidth": 0,
             "ticks": ""
            },
            "colorscale": [
             [
              0,
              "#0d0887"
             ],
             [
              0.1111111111111111,
              "#46039f"
             ],
             [
              0.2222222222222222,
              "#7201a8"
             ],
             [
              0.3333333333333333,
              "#9c179e"
             ],
             [
              0.4444444444444444,
              "#bd3786"
             ],
             [
              0.5555555555555556,
              "#d8576b"
             ],
             [
              0.6666666666666666,
              "#ed7953"
             ],
             [
              0.7777777777777778,
              "#fb9f3a"
             ],
             [
              0.8888888888888888,
              "#fdca26"
             ],
             [
              1,
              "#f0f921"
             ]
            ],
            "type": "heatmapgl"
           }
          ],
          "histogram": [
           {
            "marker": {
             "pattern": {
              "fillmode": "overlay",
              "size": 10,
              "solidity": 0.2
             }
            },
            "type": "histogram"
           }
          ],
          "histogram2d": [
           {
            "colorbar": {
             "outlinewidth": 0,
             "ticks": ""
            },
            "colorscale": [
             [
              0,
              "#0d0887"
             ],
             [
              0.1111111111111111,
              "#46039f"
             ],
             [
              0.2222222222222222,
              "#7201a8"
             ],
             [
              0.3333333333333333,
              "#9c179e"
             ],
             [
              0.4444444444444444,
              "#bd3786"
             ],
             [
              0.5555555555555556,
              "#d8576b"
             ],
             [
              0.6666666666666666,
              "#ed7953"
             ],
             [
              0.7777777777777778,
              "#fb9f3a"
             ],
             [
              0.8888888888888888,
              "#fdca26"
             ],
             [
              1,
              "#f0f921"
             ]
            ],
            "type": "histogram2d"
           }
          ],
          "histogram2dcontour": [
           {
            "colorbar": {
             "outlinewidth": 0,
             "ticks": ""
            },
            "colorscale": [
             [
              0,
              "#0d0887"
             ],
             [
              0.1111111111111111,
              "#46039f"
             ],
             [
              0.2222222222222222,
              "#7201a8"
             ],
             [
              0.3333333333333333,
              "#9c179e"
             ],
             [
              0.4444444444444444,
              "#bd3786"
             ],
             [
              0.5555555555555556,
              "#d8576b"
             ],
             [
              0.6666666666666666,
              "#ed7953"
             ],
             [
              0.7777777777777778,
              "#fb9f3a"
             ],
             [
              0.8888888888888888,
              "#fdca26"
             ],
             [
              1,
              "#f0f921"
             ]
            ],
            "type": "histogram2dcontour"
           }
          ],
          "mesh3d": [
           {
            "colorbar": {
             "outlinewidth": 0,
             "ticks": ""
            },
            "type": "mesh3d"
           }
          ],
          "parcoords": [
           {
            "line": {
             "colorbar": {
              "outlinewidth": 0,
              "ticks": ""
             }
            },
            "type": "parcoords"
           }
          ],
          "pie": [
           {
            "automargin": true,
            "type": "pie"
           }
          ],
          "scatter": [
           {
            "marker": {
             "line": {
              "color": "#283442"
             }
            },
            "type": "scatter"
           }
          ],
          "scatter3d": [
           {
            "line": {
             "colorbar": {
              "outlinewidth": 0,
              "ticks": ""
             }
            },
            "marker": {
             "colorbar": {
              "outlinewidth": 0,
              "ticks": ""
             }
            },
            "type": "scatter3d"
           }
          ],
          "scattercarpet": [
           {
            "marker": {
             "colorbar": {
              "outlinewidth": 0,
              "ticks": ""
             }
            },
            "type": "scattercarpet"
           }
          ],
          "scattergeo": [
           {
            "marker": {
             "colorbar": {
              "outlinewidth": 0,
              "ticks": ""
             }
            },
            "type": "scattergeo"
           }
          ],
          "scattergl": [
           {
            "marker": {
             "line": {
              "color": "#283442"
             }
            },
            "type": "scattergl"
           }
          ],
          "scattermapbox": [
           {
            "marker": {
             "colorbar": {
              "outlinewidth": 0,
              "ticks": ""
             }
            },
            "type": "scattermapbox"
           }
          ],
          "scatterpolar": [
           {
            "marker": {
             "colorbar": {
              "outlinewidth": 0,
              "ticks": ""
             }
            },
            "type": "scatterpolar"
           }
          ],
          "scatterpolargl": [
           {
            "marker": {
             "colorbar": {
              "outlinewidth": 0,
              "ticks": ""
             }
            },
            "type": "scatterpolargl"
           }
          ],
          "scatterternary": [
           {
            "marker": {
             "colorbar": {
              "outlinewidth": 0,
              "ticks": ""
             }
            },
            "type": "scatterternary"
           }
          ],
          "surface": [
           {
            "colorbar": {
             "outlinewidth": 0,
             "ticks": ""
            },
            "colorscale": [
             [
              0,
              "#0d0887"
             ],
             [
              0.1111111111111111,
              "#46039f"
             ],
             [
              0.2222222222222222,
              "#7201a8"
             ],
             [
              0.3333333333333333,
              "#9c179e"
             ],
             [
              0.4444444444444444,
              "#bd3786"
             ],
             [
              0.5555555555555556,
              "#d8576b"
             ],
             [
              0.6666666666666666,
              "#ed7953"
             ],
             [
              0.7777777777777778,
              "#fb9f3a"
             ],
             [
              0.8888888888888888,
              "#fdca26"
             ],
             [
              1,
              "#f0f921"
             ]
            ],
            "type": "surface"
           }
          ],
          "table": [
           {
            "cells": {
             "fill": {
              "color": "#506784"
             },
             "line": {
              "color": "rgb(17,17,17)"
             }
            },
            "header": {
             "fill": {
              "color": "#2a3f5f"
             },
             "line": {
              "color": "rgb(17,17,17)"
             }
            },
            "type": "table"
           }
          ]
         },
         "layout": {
          "annotationdefaults": {
           "arrowcolor": "#f2f5fa",
           "arrowhead": 0,
           "arrowwidth": 1
          },
          "autotypenumbers": "strict",
          "coloraxis": {
           "colorbar": {
            "outlinewidth": 0,
            "ticks": ""
           }
          },
          "colorscale": {
           "diverging": [
            [
             0,
             "#8e0152"
            ],
            [
             0.1,
             "#c51b7d"
            ],
            [
             0.2,
             "#de77ae"
            ],
            [
             0.3,
             "#f1b6da"
            ],
            [
             0.4,
             "#fde0ef"
            ],
            [
             0.5,
             "#f7f7f7"
            ],
            [
             0.6,
             "#e6f5d0"
            ],
            [
             0.7,
             "#b8e186"
            ],
            [
             0.8,
             "#7fbc41"
            ],
            [
             0.9,
             "#4d9221"
            ],
            [
             1,
             "#276419"
            ]
           ],
           "sequential": [
            [
             0,
             "#0d0887"
            ],
            [
             0.1111111111111111,
             "#46039f"
            ],
            [
             0.2222222222222222,
             "#7201a8"
            ],
            [
             0.3333333333333333,
             "#9c179e"
            ],
            [
             0.4444444444444444,
             "#bd3786"
            ],
            [
             0.5555555555555556,
             "#d8576b"
            ],
            [
             0.6666666666666666,
             "#ed7953"
            ],
            [
             0.7777777777777778,
             "#fb9f3a"
            ],
            [
             0.8888888888888888,
             "#fdca26"
            ],
            [
             1,
             "#f0f921"
            ]
           ],
           "sequentialminus": [
            [
             0,
             "#0d0887"
            ],
            [
             0.1111111111111111,
             "#46039f"
            ],
            [
             0.2222222222222222,
             "#7201a8"
            ],
            [
             0.3333333333333333,
             "#9c179e"
            ],
            [
             0.4444444444444444,
             "#bd3786"
            ],
            [
             0.5555555555555556,
             "#d8576b"
            ],
            [
             0.6666666666666666,
             "#ed7953"
            ],
            [
             0.7777777777777778,
             "#fb9f3a"
            ],
            [
             0.8888888888888888,
             "#fdca26"
            ],
            [
             1,
             "#f0f921"
            ]
           ]
          },
          "colorway": [
           "#636efa",
           "#EF553B",
           "#00cc96",
           "#ab63fa",
           "#FFA15A",
           "#19d3f3",
           "#FF6692",
           "#B6E880",
           "#FF97FF",
           "#FECB52"
          ],
          "font": {
           "color": "#f2f5fa"
          },
          "geo": {
           "bgcolor": "rgb(17,17,17)",
           "lakecolor": "rgb(17,17,17)",
           "landcolor": "rgb(17,17,17)",
           "showlakes": true,
           "showland": true,
           "subunitcolor": "#506784"
          },
          "hoverlabel": {
           "align": "left"
          },
          "hovermode": "closest",
          "mapbox": {
           "style": "dark"
          },
          "paper_bgcolor": "rgb(17,17,17)",
          "plot_bgcolor": "rgb(17,17,17)",
          "polar": {
           "angularaxis": {
            "gridcolor": "#506784",
            "linecolor": "#506784",
            "ticks": ""
           },
           "bgcolor": "rgb(17,17,17)",
           "radialaxis": {
            "gridcolor": "#506784",
            "linecolor": "#506784",
            "ticks": ""
           }
          },
          "scene": {
           "xaxis": {
            "backgroundcolor": "rgb(17,17,17)",
            "gridcolor": "#506784",
            "gridwidth": 2,
            "linecolor": "#506784",
            "showbackground": true,
            "ticks": "",
            "zerolinecolor": "#C8D4E3"
           },
           "yaxis": {
            "backgroundcolor": "rgb(17,17,17)",
            "gridcolor": "#506784",
            "gridwidth": 2,
            "linecolor": "#506784",
            "showbackground": true,
            "ticks": "",
            "zerolinecolor": "#C8D4E3"
           },
           "zaxis": {
            "backgroundcolor": "rgb(17,17,17)",
            "gridcolor": "#506784",
            "gridwidth": 2,
            "linecolor": "#506784",
            "showbackground": true,
            "ticks": "",
            "zerolinecolor": "#C8D4E3"
           }
          },
          "shapedefaults": {
           "line": {
            "color": "#f2f5fa"
           }
          },
          "sliderdefaults": {
           "bgcolor": "#C8D4E3",
           "bordercolor": "rgb(17,17,17)",
           "borderwidth": 1,
           "tickwidth": 0
          },
          "ternary": {
           "aaxis": {
            "gridcolor": "#506784",
            "linecolor": "#506784",
            "ticks": ""
           },
           "baxis": {
            "gridcolor": "#506784",
            "linecolor": "#506784",
            "ticks": ""
           },
           "bgcolor": "rgb(17,17,17)",
           "caxis": {
            "gridcolor": "#506784",
            "linecolor": "#506784",
            "ticks": ""
           }
          },
          "title": {
           "x": 0.05
          },
          "updatemenudefaults": {
           "bgcolor": "#506784",
           "borderwidth": 0
          },
          "xaxis": {
           "automargin": true,
           "gridcolor": "#283442",
           "linecolor": "#506784",
           "ticks": "",
           "title": {
            "standoff": 15
           },
           "zerolinecolor": "#283442",
           "zerolinewidth": 2
          },
          "yaxis": {
           "automargin": true,
           "gridcolor": "#283442",
           "linecolor": "#506784",
           "ticks": "",
           "title": {
            "standoff": 15
           },
           "zerolinecolor": "#283442",
           "zerolinewidth": 2
          }
         }
        },
        "title": {
         "text": "Rate of players with at least X 3FGA per game",
         "x": 0.5
        },
        "width": 800,
        "xaxis": {
         "title": {
          "text": "Season"
         }
        }
       }
      }
     },
     "metadata": {},
     "output_type": "display_data"
    }
   ],
   "source": [
    "\n",
    "plot = go.Figure(data=[\n",
    "    go.Line(\n",
    "    name = '0 <= X < 1',\n",
    "    x = three_count_norm.columns.values,\n",
    "    y = three_count_norm.iloc[0]\n",
    "    ),\n",
    "    go.Line(\n",
    "    name = '1 <= X',\n",
    "    x = three_count_norm.columns.values,\n",
    "    y = three_count_norm.iloc[1]\n",
    "    ),\n",
    "    go.Line(\n",
    "    name = '2 <= X',\n",
    "    x = three_count_norm.columns.values,\n",
    "    y = three_count_norm.iloc[2]\n",
    "    ),\n",
    "    go.Line(\n",
    "    name = '3 <= X',\n",
    "    x = three_count_norm.columns.values,\n",
    "    y = three_count_norm.iloc[3]\n",
    "    ),\n",
    "    go.Line(\n",
    "    name = '4 <= X',\n",
    "    x = three_count_norm.columns.values,\n",
    "    y = three_count_norm.iloc[4]\n",
    "    ),\n",
    "    go.Line(\n",
    "    name = '5 <= X',\n",
    "    x = three_count_norm.columns.values,\n",
    "    y = three_count_norm.iloc[5]\n",
    "    ),\n",
    "    go.Line(\n",
    "    name = '6 <= X',\n",
    "    x = three_count_norm.columns.values,\n",
    "    y = three_count_norm.iloc[6]\n",
    "    ),\n",
    "    go.Line(\n",
    "    name = '7 <= X',\n",
    "    x = three_count_norm.columns.values,\n",
    "    y = three_count_norm.iloc[7]\n",
    "    ),\n",
    "    go.Line(\n",
    "    name = '8 <= X',\n",
    "    x = three_count_norm.columns.values,\n",
    "    y = three_count_norm.iloc[8]\n",
    "    )],\n",
    "    layout=go.Layout(\n",
    "        title=\"Rate of players with at least X 3FGA per game\",\n",
    "        xaxis_title=\"Season\",\n",
    "        template=\"plotly_dark\",\n",
    "        width=800,\n",
    "        height=600             \n",
    "                 )\n",
    ")\n",
    "\n",
    "plot.update_layout(title_x=0.5)\n",
    "\n",
    "plot.show()\n",
    "\n",
    "#save Figure as jpg image\n",
    "plot.write_image(\"images/ind_3fga_by_season.jpeg\")"
   ]
  },
  {
   "attachments": {},
   "cell_type": "markdown",
   "metadata": {},
   "source": [
    "Findings from above:\n",
    "- number of players taking less than 1 3pt attempt per game as decreased steadily since 2014\n",
    "- number of players taking >= 1, 2, or 3 3 pt attempts per game has increased since 2014/2015 but plateaued/dipped the last two seasons\n",
    "- number of players taking >= 4 or >=5 3's per game increased between 2015 and 2019, then plateaued/decreased before increasing again in 2023 season. Likely plateaued because more players are taking threes so they are spread out more between players, then in 2023 les players taking at least 1 or 2 3's per game and more are taking at least 4 or 5 per game\n",
    "\n",
    "#### Do same thing but with exclusive ranges\n"
   ]
  },
  {
   "cell_type": "code",
   "execution_count": 5,
   "metadata": {},
   "outputs": [
    {
     "name": "stderr",
     "output_type": "stream",
     "text": [
      "/Users/emmaritcey/Documents/basketball_research/usports_database/.venv/lib/python3.8/site-packages/plotly/graph_objs/_deprecations.py:378: DeprecationWarning:\n",
      "\n",
      "plotly.graph_objs.Line is deprecated.\n",
      "Please replace it with one of the following more specific types\n",
      "  - plotly.graph_objs.scatter.Line\n",
      "  - plotly.graph_objs.layout.shape.Line\n",
      "  - etc.\n",
      "\n",
      "\n"
     ]
    },
    {
     "data": {
      "application/vnd.plotly.v1+json": {
       "config": {
        "plotlyServerURL": "https://plot.ly"
       },
       "data": [
        {
         "name": "X = 0",
         "type": "scatter",
         "x": [
          2010,
          2011,
          2012,
          2013,
          2014,
          2015,
          2016,
          2017,
          2018,
          2019,
          2020,
          2022,
          2023
         ],
         "y": [
          0.133630289532294,
          0.12641083521444696,
          0.1462882096069869,
          0.14,
          0.2019607843137255,
          0.1442125237191651,
          0.17358490566037735,
          0.13372093023255813,
          0.12476007677543186,
          0.13009708737864079,
          0.11293260473588343,
          0.09591474245115453,
          0.06956521739130435
         ]
        },
        {
         "name": "0 < X <= 1",
         "type": "scatter",
         "x": [
          2010,
          2011,
          2012,
          2013,
          2014,
          2015,
          2016,
          2017,
          2018,
          2019,
          2020,
          2022,
          2023
         ],
         "y": [
          0.16926503340757237,
          0.18284424379232506,
          0.21397379912663755,
          0.156,
          0.1588235294117647,
          0.2125237191650854,
          0.17547169811320754,
          0.14534883720930233,
          0.18042226487523993,
          0.1669902912621359,
          0.16393442622950818,
          0.19715808170515098,
          0.21391304347826087
         ]
        },
        {
         "name": "1 < X <= 2",
         "type": "scatter",
         "x": [
          2010,
          2011,
          2012,
          2013,
          2014,
          2015,
          2016,
          2017,
          2018,
          2019,
          2020,
          2022,
          2023
         ],
         "y": [
          0.1091314031180401,
          0.12866817155756208,
          0.12445414847161572,
          0.126,
          0.13137254901960785,
          0.10056925996204934,
          0.14339622641509434,
          0.14147286821705427,
          0.15547024952015356,
          0.1262135922330097,
          0.16029143897996356,
          0.15808170515097691,
          0.1443478260869565
         ]
        },
        {
         "name": "2 < X <= 3",
         "type": "scatter",
         "x": [
          2010,
          2011,
          2012,
          2013,
          2014,
          2015,
          2016,
          2017,
          2018,
          2019,
          2020,
          2022,
          2023
         ],
         "y": [
          0.09131403118040089,
          0.08803611738148984,
          0.09388646288209607,
          0.094,
          0.06470588235294118,
          0.07969639468690702,
          0.10566037735849057,
          0.0872093023255814,
          0.08637236084452975,
          0.10679611650485436,
          0.1092896174863388,
          0.11012433392539965,
          0.08695652173913043
         ]
        },
        {
         "name": "3 < X <= 4",
         "type": "scatter",
         "x": [
          2010,
          2011,
          2012,
          2013,
          2014,
          2015,
          2016,
          2017,
          2018,
          2019,
          2020,
          2022,
          2023
         ],
         "y": [
          0.0334075723830735,
          0.05191873589164785,
          0.06331877729257641,
          0.058,
          0.06274509803921569,
          0.04933586337760911,
          0.04150943396226415,
          0.06201550387596899,
          0.06333973128598848,
          0.06019417475728155,
          0.06557377049180328,
          0.07104795737122557,
          0.07478260869565218
         ]
        },
        {
         "name": "4 < X <= 5",
         "type": "scatter",
         "x": [
          2010,
          2011,
          2012,
          2013,
          2014,
          2015,
          2016,
          2017,
          2018,
          2019,
          2020,
          2022,
          2023
         ],
         "y": [
          0.026726057906458798,
          0.033860045146726865,
          0.026200873362445413,
          0.036,
          0.027450980392156862,
          0.024667931688804556,
          0.03207547169811321,
          0.03875968992248062,
          0.04030710172744722,
          0.05242718446601942,
          0.03825136612021858,
          0.03374777975133215,
          0.04869565217391304
         ]
        },
        {
         "name": "5 < X <= 6",
         "type": "scatter",
         "x": [
          2010,
          2011,
          2012,
          2013,
          2014,
          2015,
          2016,
          2017,
          2018,
          2019,
          2020,
          2022,
          2023
         ],
         "y": [
          0.031180400890868598,
          0.009029345372460496,
          0.010917030567685589,
          0.02,
          0.00980392156862745,
          0.015180265654648957,
          0.018867924528301886,
          0.007751937984496124,
          0.02111324376199616,
          0.027184466019417475,
          0.03278688524590164,
          0.02664298401420959,
          0.020869565217391306
         ]
        },
        {
         "name": "6 < X <= 7",
         "type": "scatter",
         "x": [
          2010,
          2011,
          2012,
          2013,
          2014,
          2015,
          2016,
          2017,
          2018,
          2019,
          2020,
          2022,
          2023
         ],
         "y": [
          0.004454342984409799,
          0.009029345372460496,
          0.004366812227074236,
          0.002,
          0.00392156862745098,
          0.009487666034155597,
          0.009433962264150943,
          0.01744186046511628,
          0.013435700575815739,
          0.015533980582524271,
          0.009107468123861567,
          0.014209591474245116,
          0.019130434782608695
         ]
        },
        {
         "name": "7 < X <= 8",
         "type": "scatter",
         "x": [
          2010,
          2011,
          2012,
          2013,
          2014,
          2015,
          2016,
          2017,
          2018,
          2019,
          2020,
          2022,
          2023
         ],
         "y": [
          0.0022271714922048997,
          null,
          null,
          0.004,
          0.00392156862745098,
          null,
          0.005660377358490566,
          null,
          null,
          0.003883495145631068,
          0.0018214936247723133,
          0.0053285968028419185,
          0.0052173913043478265
         ]
        },
        {
         "name": "8 < X <= 9",
         "type": "scatter",
         "x": [
          2010,
          2011,
          2012,
          2013,
          2014,
          2015,
          2016,
          2017,
          2018,
          2019,
          2020,
          2022,
          2023
         ],
         "y": [
          null,
          null,
          null,
          null,
          0.00196078431372549,
          null,
          null,
          null,
          null,
          null,
          0.0036429872495446266,
          null,
          0.0017391304347826088
         ]
        }
       ],
       "layout": {
        "height": 600,
        "template": {
         "data": {
          "bar": [
           {
            "error_x": {
             "color": "#f2f5fa"
            },
            "error_y": {
             "color": "#f2f5fa"
            },
            "marker": {
             "line": {
              "color": "rgb(17,17,17)",
              "width": 0.5
             },
             "pattern": {
              "fillmode": "overlay",
              "size": 10,
              "solidity": 0.2
             }
            },
            "type": "bar"
           }
          ],
          "barpolar": [
           {
            "marker": {
             "line": {
              "color": "rgb(17,17,17)",
              "width": 0.5
             },
             "pattern": {
              "fillmode": "overlay",
              "size": 10,
              "solidity": 0.2
             }
            },
            "type": "barpolar"
           }
          ],
          "carpet": [
           {
            "aaxis": {
             "endlinecolor": "#A2B1C6",
             "gridcolor": "#506784",
             "linecolor": "#506784",
             "minorgridcolor": "#506784",
             "startlinecolor": "#A2B1C6"
            },
            "baxis": {
             "endlinecolor": "#A2B1C6",
             "gridcolor": "#506784",
             "linecolor": "#506784",
             "minorgridcolor": "#506784",
             "startlinecolor": "#A2B1C6"
            },
            "type": "carpet"
           }
          ],
          "choropleth": [
           {
            "colorbar": {
             "outlinewidth": 0,
             "ticks": ""
            },
            "type": "choropleth"
           }
          ],
          "contour": [
           {
            "colorbar": {
             "outlinewidth": 0,
             "ticks": ""
            },
            "colorscale": [
             [
              0,
              "#0d0887"
             ],
             [
              0.1111111111111111,
              "#46039f"
             ],
             [
              0.2222222222222222,
              "#7201a8"
             ],
             [
              0.3333333333333333,
              "#9c179e"
             ],
             [
              0.4444444444444444,
              "#bd3786"
             ],
             [
              0.5555555555555556,
              "#d8576b"
             ],
             [
              0.6666666666666666,
              "#ed7953"
             ],
             [
              0.7777777777777778,
              "#fb9f3a"
             ],
             [
              0.8888888888888888,
              "#fdca26"
             ],
             [
              1,
              "#f0f921"
             ]
            ],
            "type": "contour"
           }
          ],
          "contourcarpet": [
           {
            "colorbar": {
             "outlinewidth": 0,
             "ticks": ""
            },
            "type": "contourcarpet"
           }
          ],
          "heatmap": [
           {
            "colorbar": {
             "outlinewidth": 0,
             "ticks": ""
            },
            "colorscale": [
             [
              0,
              "#0d0887"
             ],
             [
              0.1111111111111111,
              "#46039f"
             ],
             [
              0.2222222222222222,
              "#7201a8"
             ],
             [
              0.3333333333333333,
              "#9c179e"
             ],
             [
              0.4444444444444444,
              "#bd3786"
             ],
             [
              0.5555555555555556,
              "#d8576b"
             ],
             [
              0.6666666666666666,
              "#ed7953"
             ],
             [
              0.7777777777777778,
              "#fb9f3a"
             ],
             [
              0.8888888888888888,
              "#fdca26"
             ],
             [
              1,
              "#f0f921"
             ]
            ],
            "type": "heatmap"
           }
          ],
          "heatmapgl": [
           {
            "colorbar": {
             "outlinewidth": 0,
             "ticks": ""
            },
            "colorscale": [
             [
              0,
              "#0d0887"
             ],
             [
              0.1111111111111111,
              "#46039f"
             ],
             [
              0.2222222222222222,
              "#7201a8"
             ],
             [
              0.3333333333333333,
              "#9c179e"
             ],
             [
              0.4444444444444444,
              "#bd3786"
             ],
             [
              0.5555555555555556,
              "#d8576b"
             ],
             [
              0.6666666666666666,
              "#ed7953"
             ],
             [
              0.7777777777777778,
              "#fb9f3a"
             ],
             [
              0.8888888888888888,
              "#fdca26"
             ],
             [
              1,
              "#f0f921"
             ]
            ],
            "type": "heatmapgl"
           }
          ],
          "histogram": [
           {
            "marker": {
             "pattern": {
              "fillmode": "overlay",
              "size": 10,
              "solidity": 0.2
             }
            },
            "type": "histogram"
           }
          ],
          "histogram2d": [
           {
            "colorbar": {
             "outlinewidth": 0,
             "ticks": ""
            },
            "colorscale": [
             [
              0,
              "#0d0887"
             ],
             [
              0.1111111111111111,
              "#46039f"
             ],
             [
              0.2222222222222222,
              "#7201a8"
             ],
             [
              0.3333333333333333,
              "#9c179e"
             ],
             [
              0.4444444444444444,
              "#bd3786"
             ],
             [
              0.5555555555555556,
              "#d8576b"
             ],
             [
              0.6666666666666666,
              "#ed7953"
             ],
             [
              0.7777777777777778,
              "#fb9f3a"
             ],
             [
              0.8888888888888888,
              "#fdca26"
             ],
             [
              1,
              "#f0f921"
             ]
            ],
            "type": "histogram2d"
           }
          ],
          "histogram2dcontour": [
           {
            "colorbar": {
             "outlinewidth": 0,
             "ticks": ""
            },
            "colorscale": [
             [
              0,
              "#0d0887"
             ],
             [
              0.1111111111111111,
              "#46039f"
             ],
             [
              0.2222222222222222,
              "#7201a8"
             ],
             [
              0.3333333333333333,
              "#9c179e"
             ],
             [
              0.4444444444444444,
              "#bd3786"
             ],
             [
              0.5555555555555556,
              "#d8576b"
             ],
             [
              0.6666666666666666,
              "#ed7953"
             ],
             [
              0.7777777777777778,
              "#fb9f3a"
             ],
             [
              0.8888888888888888,
              "#fdca26"
             ],
             [
              1,
              "#f0f921"
             ]
            ],
            "type": "histogram2dcontour"
           }
          ],
          "mesh3d": [
           {
            "colorbar": {
             "outlinewidth": 0,
             "ticks": ""
            },
            "type": "mesh3d"
           }
          ],
          "parcoords": [
           {
            "line": {
             "colorbar": {
              "outlinewidth": 0,
              "ticks": ""
             }
            },
            "type": "parcoords"
           }
          ],
          "pie": [
           {
            "automargin": true,
            "type": "pie"
           }
          ],
          "scatter": [
           {
            "marker": {
             "line": {
              "color": "#283442"
             }
            },
            "type": "scatter"
           }
          ],
          "scatter3d": [
           {
            "line": {
             "colorbar": {
              "outlinewidth": 0,
              "ticks": ""
             }
            },
            "marker": {
             "colorbar": {
              "outlinewidth": 0,
              "ticks": ""
             }
            },
            "type": "scatter3d"
           }
          ],
          "scattercarpet": [
           {
            "marker": {
             "colorbar": {
              "outlinewidth": 0,
              "ticks": ""
             }
            },
            "type": "scattercarpet"
           }
          ],
          "scattergeo": [
           {
            "marker": {
             "colorbar": {
              "outlinewidth": 0,
              "ticks": ""
             }
            },
            "type": "scattergeo"
           }
          ],
          "scattergl": [
           {
            "marker": {
             "line": {
              "color": "#283442"
             }
            },
            "type": "scattergl"
           }
          ],
          "scattermapbox": [
           {
            "marker": {
             "colorbar": {
              "outlinewidth": 0,
              "ticks": ""
             }
            },
            "type": "scattermapbox"
           }
          ],
          "scatterpolar": [
           {
            "marker": {
             "colorbar": {
              "outlinewidth": 0,
              "ticks": ""
             }
            },
            "type": "scatterpolar"
           }
          ],
          "scatterpolargl": [
           {
            "marker": {
             "colorbar": {
              "outlinewidth": 0,
              "ticks": ""
             }
            },
            "type": "scatterpolargl"
           }
          ],
          "scatterternary": [
           {
            "marker": {
             "colorbar": {
              "outlinewidth": 0,
              "ticks": ""
             }
            },
            "type": "scatterternary"
           }
          ],
          "surface": [
           {
            "colorbar": {
             "outlinewidth": 0,
             "ticks": ""
            },
            "colorscale": [
             [
              0,
              "#0d0887"
             ],
             [
              0.1111111111111111,
              "#46039f"
             ],
             [
              0.2222222222222222,
              "#7201a8"
             ],
             [
              0.3333333333333333,
              "#9c179e"
             ],
             [
              0.4444444444444444,
              "#bd3786"
             ],
             [
              0.5555555555555556,
              "#d8576b"
             ],
             [
              0.6666666666666666,
              "#ed7953"
             ],
             [
              0.7777777777777778,
              "#fb9f3a"
             ],
             [
              0.8888888888888888,
              "#fdca26"
             ],
             [
              1,
              "#f0f921"
             ]
            ],
            "type": "surface"
           }
          ],
          "table": [
           {
            "cells": {
             "fill": {
              "color": "#506784"
             },
             "line": {
              "color": "rgb(17,17,17)"
             }
            },
            "header": {
             "fill": {
              "color": "#2a3f5f"
             },
             "line": {
              "color": "rgb(17,17,17)"
             }
            },
            "type": "table"
           }
          ]
         },
         "layout": {
          "annotationdefaults": {
           "arrowcolor": "#f2f5fa",
           "arrowhead": 0,
           "arrowwidth": 1
          },
          "autotypenumbers": "strict",
          "coloraxis": {
           "colorbar": {
            "outlinewidth": 0,
            "ticks": ""
           }
          },
          "colorscale": {
           "diverging": [
            [
             0,
             "#8e0152"
            ],
            [
             0.1,
             "#c51b7d"
            ],
            [
             0.2,
             "#de77ae"
            ],
            [
             0.3,
             "#f1b6da"
            ],
            [
             0.4,
             "#fde0ef"
            ],
            [
             0.5,
             "#f7f7f7"
            ],
            [
             0.6,
             "#e6f5d0"
            ],
            [
             0.7,
             "#b8e186"
            ],
            [
             0.8,
             "#7fbc41"
            ],
            [
             0.9,
             "#4d9221"
            ],
            [
             1,
             "#276419"
            ]
           ],
           "sequential": [
            [
             0,
             "#0d0887"
            ],
            [
             0.1111111111111111,
             "#46039f"
            ],
            [
             0.2222222222222222,
             "#7201a8"
            ],
            [
             0.3333333333333333,
             "#9c179e"
            ],
            [
             0.4444444444444444,
             "#bd3786"
            ],
            [
             0.5555555555555556,
             "#d8576b"
            ],
            [
             0.6666666666666666,
             "#ed7953"
            ],
            [
             0.7777777777777778,
             "#fb9f3a"
            ],
            [
             0.8888888888888888,
             "#fdca26"
            ],
            [
             1,
             "#f0f921"
            ]
           ],
           "sequentialminus": [
            [
             0,
             "#0d0887"
            ],
            [
             0.1111111111111111,
             "#46039f"
            ],
            [
             0.2222222222222222,
             "#7201a8"
            ],
            [
             0.3333333333333333,
             "#9c179e"
            ],
            [
             0.4444444444444444,
             "#bd3786"
            ],
            [
             0.5555555555555556,
             "#d8576b"
            ],
            [
             0.6666666666666666,
             "#ed7953"
            ],
            [
             0.7777777777777778,
             "#fb9f3a"
            ],
            [
             0.8888888888888888,
             "#fdca26"
            ],
            [
             1,
             "#f0f921"
            ]
           ]
          },
          "colorway": [
           "#636efa",
           "#EF553B",
           "#00cc96",
           "#ab63fa",
           "#FFA15A",
           "#19d3f3",
           "#FF6692",
           "#B6E880",
           "#FF97FF",
           "#FECB52"
          ],
          "font": {
           "color": "#f2f5fa"
          },
          "geo": {
           "bgcolor": "rgb(17,17,17)",
           "lakecolor": "rgb(17,17,17)",
           "landcolor": "rgb(17,17,17)",
           "showlakes": true,
           "showland": true,
           "subunitcolor": "#506784"
          },
          "hoverlabel": {
           "align": "left"
          },
          "hovermode": "closest",
          "mapbox": {
           "style": "dark"
          },
          "paper_bgcolor": "rgb(17,17,17)",
          "plot_bgcolor": "rgb(17,17,17)",
          "polar": {
           "angularaxis": {
            "gridcolor": "#506784",
            "linecolor": "#506784",
            "ticks": ""
           },
           "bgcolor": "rgb(17,17,17)",
           "radialaxis": {
            "gridcolor": "#506784",
            "linecolor": "#506784",
            "ticks": ""
           }
          },
          "scene": {
           "xaxis": {
            "backgroundcolor": "rgb(17,17,17)",
            "gridcolor": "#506784",
            "gridwidth": 2,
            "linecolor": "#506784",
            "showbackground": true,
            "ticks": "",
            "zerolinecolor": "#C8D4E3"
           },
           "yaxis": {
            "backgroundcolor": "rgb(17,17,17)",
            "gridcolor": "#506784",
            "gridwidth": 2,
            "linecolor": "#506784",
            "showbackground": true,
            "ticks": "",
            "zerolinecolor": "#C8D4E3"
           },
           "zaxis": {
            "backgroundcolor": "rgb(17,17,17)",
            "gridcolor": "#506784",
            "gridwidth": 2,
            "linecolor": "#506784",
            "showbackground": true,
            "ticks": "",
            "zerolinecolor": "#C8D4E3"
           }
          },
          "shapedefaults": {
           "line": {
            "color": "#f2f5fa"
           }
          },
          "sliderdefaults": {
           "bgcolor": "#C8D4E3",
           "bordercolor": "rgb(17,17,17)",
           "borderwidth": 1,
           "tickwidth": 0
          },
          "ternary": {
           "aaxis": {
            "gridcolor": "#506784",
            "linecolor": "#506784",
            "ticks": ""
           },
           "baxis": {
            "gridcolor": "#506784",
            "linecolor": "#506784",
            "ticks": ""
           },
           "bgcolor": "rgb(17,17,17)",
           "caxis": {
            "gridcolor": "#506784",
            "linecolor": "#506784",
            "ticks": ""
           }
          },
          "title": {
           "x": 0.05
          },
          "updatemenudefaults": {
           "bgcolor": "#506784",
           "borderwidth": 0
          },
          "xaxis": {
           "automargin": true,
           "gridcolor": "#283442",
           "linecolor": "#506784",
           "ticks": "",
           "title": {
            "standoff": 15
           },
           "zerolinecolor": "#283442",
           "zerolinewidth": 2
          },
          "yaxis": {
           "automargin": true,
           "gridcolor": "#283442",
           "linecolor": "#506784",
           "ticks": "",
           "title": {
            "standoff": 15
           },
           "zerolinecolor": "#283442",
           "zerolinewidth": 2
          }
         }
        },
        "title": {
         "text": "Rate of players with at between X and Y 3FGA per game"
        },
        "width": 800,
        "xaxis": {
         "title": {
          "text": "Season"
         }
        }
       }
      }
     },
     "metadata": {},
     "output_type": "display_data"
    }
   ],
   "source": [
    "\n",
    "#count number of players who took greater than X threes each season\n",
    "for num_threes in range(0,10):\n",
    "    #count the number of players in each season who meet criteria above and also took at least num_threes 3pt shots per game\n",
    "    if num_threes == 0:\n",
    "        q = \"\"\"\n",
    "        SELECT season, count(name)\n",
    "        FROM players\n",
    "        NATURAL JOIN player_shooting\n",
    "        NATURAL JOIN player_info\n",
    "        WHERE games_played > 0 AND minutes_pgame >= 5 AND fga3 = 0\n",
    "        GROUP BY season\n",
    "        ORDER BY season;\n",
    "        \"\"\"\n",
    "        result_threes = read_query(connection, q, None)\n",
    "    \n",
    "    else:\n",
    "        q = \"\"\"\n",
    "            SELECT season, count(name)\n",
    "            FROM players\n",
    "            NATURAL JOIN player_shooting\n",
    "            NATURAL JOIN player_info\n",
    "            WHERE games_played > 0 AND minutes_pgame >= 5 AND fga3 > %s AND fga3 <= %s\n",
    "            GROUP BY season\n",
    "            ORDER BY season;\n",
    "            \"\"\"\n",
    "        \n",
    "        result_threes = read_query(connection, q, [num_threes, num_threes+1])\n",
    "        \n",
    "    new_df = pd.DataFrame(result_threes, columns=['Season', num_threes])\n",
    "    if num_threes == 0:\n",
    "       df = new_df\n",
    "    if num_threes > 0:\n",
    "       df = df.join(new_df.set_index('Season'), on='Season', how='left')\n",
    "       \n",
    "    \n",
    "#count number of players who played in at least 1 game and averaged at least 5 minutes per game\n",
    "q2 = \"\"\"\n",
    "    SELECT season, count(name)\n",
    "    FROM players\n",
    "    NATURAL JOIN player_info\n",
    "    WHERE games_played > 0 AND minutes_pgame >= 5\n",
    "    GROUP BY season\n",
    "    ORDER BY season;\n",
    "    \"\"\"\n",
    "\n",
    "result_players = read_query(connection, q2, None)\n",
    "df_numPlayers = pd.DataFrame(result_players, columns=['Season', 'Count'])\n",
    "\n",
    "three_count_norm = df[[0,1,2,3,4,5,6,7,8,9]].transpose()/df_numPlayers['Count'].values\n",
    "three_count_norm.columns = [2010, 2011, 2012, 2013, 2014, 2015, 2016, 2017, 2018, 2019, 2020, 2022, 2023]\n",
    "\n",
    "plot = go.Figure(data=[\n",
    "    go.Line(\n",
    "    name = 'X = 0',\n",
    "    x = three_count_norm.columns.values,\n",
    "    y = three_count_norm.iloc[0]\n",
    "    ),\n",
    "    go.Line(\n",
    "    name = '0 < X <= 1',\n",
    "    x = three_count_norm.columns.values,\n",
    "    y = three_count_norm.iloc[1]\n",
    "    ),\n",
    "    go.Line(\n",
    "    name = '1 < X <= 2',\n",
    "    x = three_count_norm.columns.values,\n",
    "    y = three_count_norm.iloc[2]\n",
    "    ),\n",
    "    go.Line(\n",
    "    name = '2 < X <= 3',\n",
    "    x = three_count_norm.columns.values,\n",
    "    y = three_count_norm.iloc[3]\n",
    "    ),\n",
    "    go.Line(\n",
    "    name = '3 < X <= 4',\n",
    "    x = three_count_norm.columns.values,\n",
    "    y = three_count_norm.iloc[4]\n",
    "    ),\n",
    "    go.Line(\n",
    "    name = '4 < X <= 5',\n",
    "    x = three_count_norm.columns.values,\n",
    "    y = three_count_norm.iloc[5]\n",
    "    ),\n",
    "    go.Line(\n",
    "    name = '5 < X <= 6',\n",
    "    x = three_count_norm.columns.values,\n",
    "    y = three_count_norm.iloc[6]\n",
    "    ),\n",
    "    go.Line(\n",
    "    name = '6 < X <= 7',\n",
    "    x = three_count_norm.columns.values,\n",
    "    y = three_count_norm.iloc[7]\n",
    "    ),\n",
    "    go.Line(\n",
    "    name = '7 < X <= 8',\n",
    "    x = three_count_norm.columns.values,\n",
    "    y = three_count_norm.iloc[8]\n",
    "    ),\n",
    "    go.Line(\n",
    "    name = '8 < X <= 9',\n",
    "    x = three_count_norm.columns.values,\n",
    "    y = three_count_norm.iloc[9]\n",
    "    )],\n",
    "    layout=go.Layout(\n",
    "        title=\"Rate of players with at between X and Y 3FGA per game\",\n",
    "        xaxis_title=\"Season\",\n",
    "        template=\"plotly_dark\",\n",
    "        width=800,\n",
    "        height=600             \n",
    "                 ))\n",
    "plot.show()\n",
    "#save Figure as jpg image\n",
    "plot.write_image(\"images/ind_3fga_by_season_excRanges.jpeg\")\n"
   ]
  },
  {
   "attachments": {},
   "cell_type": "markdown",
   "metadata": {},
   "source": [
    "Findings from above:\n",
    "- number of players taking zero 3's per game has decreased almost every year since 2014 (rate of ~0.07 compared to 0.2 in 2014) and was the lowest it's ever been (for what we have data for)\n",
    "- number of players taking between 0 and 1 has varied but increased in each of the last two seasons\n",
    "- number of players taking between 1 and 2 has been higher in 6 of the last 7 seasons compared to from 2010-2015\n",
    "- number of players taking between 3 and 4 has increased in each of the last 3 seasons and in 2023 was the highest its ever been (for what we have data for) - a rate of ~0.075 compared to ~0.033\n",
    "- number of players taking between 1 and 3 threes decreased a lot in 2023. This correlates with an increase in players shooting between 4 and 5 per game and increase in players shooting between 0 and 1 per game \n",
    "- number of players shooting between 8 and 9 per game doesn't seem to have changed much, but the rate of players in 2023 is approx 0.019 compared to 0.004 in 2020 (almost 5x as common)"
   ]
  },
  {
   "attachments": {},
   "cell_type": "markdown",
   "metadata": {},
   "source": [
    "### Individual 3 point field goal percentage\n",
    "- Find the number of players who shot 3 point attempts with an accuracy between X% and Y% who played in at least 1 game and averaged at least 5 minutes per game\n",
    "- Normalize by the number of players who played in at least 1 game and averaged at least 5 minutes per game\n"
   ]
  },
  {
   "cell_type": "code",
   "execution_count": 6,
   "metadata": {},
   "outputs": [],
   "source": [
    "pcts = [0, 15, 20, 25, 30, 35, 40, 45, 50]\n",
    "\n",
    "for idx in range(0,len(pcts)-1):\n",
    "    lower_bound = pcts[idx]\n",
    "    upper_bound = pcts[idx+1]\n",
    "    \n",
    "    q = \"\"\"\n",
    "        SELECT season, count(player_id)\n",
    "        FROM player_shooting\n",
    "        NATURAL JOIN player_info\n",
    "        WHERE fg3_percent >= %s AND fg3_percent < %s AND games_played > 0 AND minutes_pgame >= 5\n",
    "        GROUP BY season\n",
    "        ORDER BY season\n",
    "        \"\"\"\n",
    "    result = read_query(connection, q,[lower_bound, upper_bound])\n",
    "    \n",
    "    new_df = pd.DataFrame(result, columns=['Season', lower_bound])\n",
    "    if lower_bound == 0:\n",
    "       df = new_df\n",
    "    if lower_bound != 0:\n",
    "       df = df.join(new_df.set_index('Season'), on='Season', how='left')\n",
    "     \n",
    "     \n",
    "#count number of players who played in at least 1 game and averaged at least 5 minutes per game\n",
    "q2 = \"\"\"\n",
    "    SELECT season, count(player_id)\n",
    "    FROM player_info\n",
    "    WHERE games_played > 0 AND minutes_pgame >= 5\n",
    "    GROUP BY season\n",
    "    ORDER BY season;\n",
    "    \"\"\"\n",
    "\n",
    "result_players = read_query(connection, q2, None)\n",
    "df_numPlayers = pd.DataFrame(result_players, columns=['Season', 'Count'])\n",
    "\n",
    "three_pct_norm = df[[0, 15, 20, 25, 30, 35, 40, 45]].transpose()/df_numPlayers['Count'].values\n",
    "three_pct_norm.columns = [2010, 2011, 2012, 2013, 2014, 2015, 2016, 2017, 2018, 2019, 2020, 2022, 2023]"
   ]
  },
  {
   "cell_type": "code",
   "execution_count": 7,
   "metadata": {},
   "outputs": [
    {
     "name": "stderr",
     "output_type": "stream",
     "text": [
      "/Users/emmaritcey/Documents/basketball_research/usports_database/.venv/lib/python3.8/site-packages/plotly/graph_objs/_deprecations.py:378: DeprecationWarning:\n",
      "\n",
      "plotly.graph_objs.Line is deprecated.\n",
      "Please replace it with one of the following more specific types\n",
      "  - plotly.graph_objs.scatter.Line\n",
      "  - plotly.graph_objs.layout.shape.Line\n",
      "  - etc.\n",
      "\n",
      "\n"
     ]
    },
    {
     "data": {
      "application/vnd.plotly.v1+json": {
       "config": {
        "plotlyServerURL": "https://plot.ly"
       },
       "data": [
        {
         "name": "0-15%",
         "type": "scatter",
         "x": [
          2010,
          2011,
          2012,
          2013,
          2014,
          2015,
          2016,
          2017,
          2018,
          2019,
          2020,
          2022,
          2023
         ],
         "y": [
          0.3363028953229399,
          0.3115124153498871,
          0.3406113537117904,
          0.324,
          0.4,
          0.3984819734345351,
          0.37169811320754714,
          0.3643410852713178,
          0.3416506717850288,
          0.31844660194174756,
          0.30965391621129323,
          0.30905861456483125,
          0.27304347826086955
         ]
        },
        {
         "name": "15-20%",
         "type": "scatter",
         "x": [
          2010,
          2011,
          2012,
          2013,
          2014,
          2015,
          2016,
          2017,
          2018,
          2019,
          2020,
          2022,
          2023
         ],
         "y": [
          0.044543429844097995,
          0.08126410835214447,
          0.0611353711790393,
          0.056,
          0.07254901960784314,
          0.06072106261859583,
          0.06415094339622641,
          0.060077519379844964,
          0.05950095969289827,
          0.08349514563106795,
          0.07468123861566485,
          0.0674955595026643,
          0.10956521739130434
         ]
        },
        {
         "name": "20-25%",
         "type": "scatter",
         "x": [
          2010,
          2011,
          2012,
          2013,
          2014,
          2015,
          2016,
          2017,
          2018,
          2019,
          2020,
          2022,
          2023
         ],
         "y": [
          0.10244988864142539,
          0.08803611738148984,
          0.09388646288209607,
          0.118,
          0.10784313725490197,
          0.1366223908918406,
          0.10566037735849057,
          0.10852713178294573,
          0.10940499040307101,
          0.11262135922330097,
          0.1366120218579235,
          0.12433392539964476,
          0.12347826086956522
         ]
        },
        {
         "name": "25-30%",
         "type": "scatter",
         "x": [
          2010,
          2011,
          2012,
          2013,
          2014,
          2015,
          2016,
          2017,
          2018,
          2019,
          2020,
          2022,
          2023
         ],
         "y": [
          0.15812917594654788,
          0.16252821670428894,
          0.12882096069868995,
          0.154,
          0.14901960784313725,
          0.12903225806451613,
          0.1811320754716981,
          0.16666666666666666,
          0.18809980806142035,
          0.14951456310679612,
          0.22404371584699453,
          0.18294849023090587,
          0.19130434782608696
         ]
        },
        {
         "name": "30-35%",
         "type": "scatter",
         "x": [
          2010,
          2011,
          2012,
          2013,
          2014,
          2015,
          2016,
          2017,
          2018,
          2019,
          2020,
          2022,
          2023
         ],
         "y": [
          0.15812917594654788,
          0.13769751693002258,
          0.15065502183406113,
          0.194,
          0.14313725490196078,
          0.11954459203036052,
          0.1490566037735849,
          0.16472868217054262,
          0.14587332053742802,
          0.1669902912621359,
          0.12750455373406194,
          0.1669626998223801,
          0.1408695652173913
         ]
        },
        {
         "name": "35-40%",
         "type": "scatter",
         "x": [
          2010,
          2011,
          2012,
          2013,
          2014,
          2015,
          2016,
          2017,
          2018,
          2019,
          2020,
          2022,
          2023
         ],
         "y": [
          0.07349665924276169,
          0.0835214446952596,
          0.09388646288209607,
          0.07,
          0.06470588235294118,
          0.07020872865275142,
          0.04905660377358491,
          0.06976744186046512,
          0.09788867562380038,
          0.08155339805825243,
          0.07468123861566485,
          0.06039076376554174,
          0.07652173913043478
         ]
        },
        {
         "name": "40-45%",
         "type": "scatter",
         "x": [
          2010,
          2011,
          2012,
          2013,
          2014,
          2015,
          2016,
          2017,
          2018,
          2019,
          2020,
          2022,
          2023
         ],
         "y": [
          0.07349665924276169,
          0.056433408577878104,
          0.06550218340611354,
          0.042,
          0.021568627450980392,
          0.03415559772296015,
          0.05471698113207547,
          0.023255813953488372,
          0.02495201535508637,
          0.04660194174757282,
          0.02185792349726776,
          0.047957371225577264,
          0.04
         ]
        },
        {
         "name": "45-50%",
         "type": "scatter",
         "x": [
          2010,
          2011,
          2012,
          2013,
          2014,
          2015,
          2016,
          2017,
          2018,
          2019,
          2020,
          2022,
          2023
         ],
         "y": [
          0.004454342984409799,
          0.01805869074492099,
          0.021834061135371178,
          0.008,
          0.00392156862745098,
          0.0056925996204933585,
          0.005660377358490566,
          0.013565891472868217,
          0.003838771593090211,
          0.003883495145631068,
          0.007285974499089253,
          0.007104795737122558,
          0.01217391304347826
         ]
        }
       ],
       "layout": {
        "height": 600,
        "template": {
         "data": {
          "bar": [
           {
            "error_x": {
             "color": "#f2f5fa"
            },
            "error_y": {
             "color": "#f2f5fa"
            },
            "marker": {
             "line": {
              "color": "rgb(17,17,17)",
              "width": 0.5
             },
             "pattern": {
              "fillmode": "overlay",
              "size": 10,
              "solidity": 0.2
             }
            },
            "type": "bar"
           }
          ],
          "barpolar": [
           {
            "marker": {
             "line": {
              "color": "rgb(17,17,17)",
              "width": 0.5
             },
             "pattern": {
              "fillmode": "overlay",
              "size": 10,
              "solidity": 0.2
             }
            },
            "type": "barpolar"
           }
          ],
          "carpet": [
           {
            "aaxis": {
             "endlinecolor": "#A2B1C6",
             "gridcolor": "#506784",
             "linecolor": "#506784",
             "minorgridcolor": "#506784",
             "startlinecolor": "#A2B1C6"
            },
            "baxis": {
             "endlinecolor": "#A2B1C6",
             "gridcolor": "#506784",
             "linecolor": "#506784",
             "minorgridcolor": "#506784",
             "startlinecolor": "#A2B1C6"
            },
            "type": "carpet"
           }
          ],
          "choropleth": [
           {
            "colorbar": {
             "outlinewidth": 0,
             "ticks": ""
            },
            "type": "choropleth"
           }
          ],
          "contour": [
           {
            "colorbar": {
             "outlinewidth": 0,
             "ticks": ""
            },
            "colorscale": [
             [
              0,
              "#0d0887"
             ],
             [
              0.1111111111111111,
              "#46039f"
             ],
             [
              0.2222222222222222,
              "#7201a8"
             ],
             [
              0.3333333333333333,
              "#9c179e"
             ],
             [
              0.4444444444444444,
              "#bd3786"
             ],
             [
              0.5555555555555556,
              "#d8576b"
             ],
             [
              0.6666666666666666,
              "#ed7953"
             ],
             [
              0.7777777777777778,
              "#fb9f3a"
             ],
             [
              0.8888888888888888,
              "#fdca26"
             ],
             [
              1,
              "#f0f921"
             ]
            ],
            "type": "contour"
           }
          ],
          "contourcarpet": [
           {
            "colorbar": {
             "outlinewidth": 0,
             "ticks": ""
            },
            "type": "contourcarpet"
           }
          ],
          "heatmap": [
           {
            "colorbar": {
             "outlinewidth": 0,
             "ticks": ""
            },
            "colorscale": [
             [
              0,
              "#0d0887"
             ],
             [
              0.1111111111111111,
              "#46039f"
             ],
             [
              0.2222222222222222,
              "#7201a8"
             ],
             [
              0.3333333333333333,
              "#9c179e"
             ],
             [
              0.4444444444444444,
              "#bd3786"
             ],
             [
              0.5555555555555556,
              "#d8576b"
             ],
             [
              0.6666666666666666,
              "#ed7953"
             ],
             [
              0.7777777777777778,
              "#fb9f3a"
             ],
             [
              0.8888888888888888,
              "#fdca26"
             ],
             [
              1,
              "#f0f921"
             ]
            ],
            "type": "heatmap"
           }
          ],
          "heatmapgl": [
           {
            "colorbar": {
             "outlinewidth": 0,
             "ticks": ""
            },
            "colorscale": [
             [
              0,
              "#0d0887"
             ],
             [
              0.1111111111111111,
              "#46039f"
             ],
             [
              0.2222222222222222,
              "#7201a8"
             ],
             [
              0.3333333333333333,
              "#9c179e"
             ],
             [
              0.4444444444444444,
              "#bd3786"
             ],
             [
              0.5555555555555556,
              "#d8576b"
             ],
             [
              0.6666666666666666,
              "#ed7953"
             ],
             [
              0.7777777777777778,
              "#fb9f3a"
             ],
             [
              0.8888888888888888,
              "#fdca26"
             ],
             [
              1,
              "#f0f921"
             ]
            ],
            "type": "heatmapgl"
           }
          ],
          "histogram": [
           {
            "marker": {
             "pattern": {
              "fillmode": "overlay",
              "size": 10,
              "solidity": 0.2
             }
            },
            "type": "histogram"
           }
          ],
          "histogram2d": [
           {
            "colorbar": {
             "outlinewidth": 0,
             "ticks": ""
            },
            "colorscale": [
             [
              0,
              "#0d0887"
             ],
             [
              0.1111111111111111,
              "#46039f"
             ],
             [
              0.2222222222222222,
              "#7201a8"
             ],
             [
              0.3333333333333333,
              "#9c179e"
             ],
             [
              0.4444444444444444,
              "#bd3786"
             ],
             [
              0.5555555555555556,
              "#d8576b"
             ],
             [
              0.6666666666666666,
              "#ed7953"
             ],
             [
              0.7777777777777778,
              "#fb9f3a"
             ],
             [
              0.8888888888888888,
              "#fdca26"
             ],
             [
              1,
              "#f0f921"
             ]
            ],
            "type": "histogram2d"
           }
          ],
          "histogram2dcontour": [
           {
            "colorbar": {
             "outlinewidth": 0,
             "ticks": ""
            },
            "colorscale": [
             [
              0,
              "#0d0887"
             ],
             [
              0.1111111111111111,
              "#46039f"
             ],
             [
              0.2222222222222222,
              "#7201a8"
             ],
             [
              0.3333333333333333,
              "#9c179e"
             ],
             [
              0.4444444444444444,
              "#bd3786"
             ],
             [
              0.5555555555555556,
              "#d8576b"
             ],
             [
              0.6666666666666666,
              "#ed7953"
             ],
             [
              0.7777777777777778,
              "#fb9f3a"
             ],
             [
              0.8888888888888888,
              "#fdca26"
             ],
             [
              1,
              "#f0f921"
             ]
            ],
            "type": "histogram2dcontour"
           }
          ],
          "mesh3d": [
           {
            "colorbar": {
             "outlinewidth": 0,
             "ticks": ""
            },
            "type": "mesh3d"
           }
          ],
          "parcoords": [
           {
            "line": {
             "colorbar": {
              "outlinewidth": 0,
              "ticks": ""
             }
            },
            "type": "parcoords"
           }
          ],
          "pie": [
           {
            "automargin": true,
            "type": "pie"
           }
          ],
          "scatter": [
           {
            "marker": {
             "line": {
              "color": "#283442"
             }
            },
            "type": "scatter"
           }
          ],
          "scatter3d": [
           {
            "line": {
             "colorbar": {
              "outlinewidth": 0,
              "ticks": ""
             }
            },
            "marker": {
             "colorbar": {
              "outlinewidth": 0,
              "ticks": ""
             }
            },
            "type": "scatter3d"
           }
          ],
          "scattercarpet": [
           {
            "marker": {
             "colorbar": {
              "outlinewidth": 0,
              "ticks": ""
             }
            },
            "type": "scattercarpet"
           }
          ],
          "scattergeo": [
           {
            "marker": {
             "colorbar": {
              "outlinewidth": 0,
              "ticks": ""
             }
            },
            "type": "scattergeo"
           }
          ],
          "scattergl": [
           {
            "marker": {
             "line": {
              "color": "#283442"
             }
            },
            "type": "scattergl"
           }
          ],
          "scattermapbox": [
           {
            "marker": {
             "colorbar": {
              "outlinewidth": 0,
              "ticks": ""
             }
            },
            "type": "scattermapbox"
           }
          ],
          "scatterpolar": [
           {
            "marker": {
             "colorbar": {
              "outlinewidth": 0,
              "ticks": ""
             }
            },
            "type": "scatterpolar"
           }
          ],
          "scatterpolargl": [
           {
            "marker": {
             "colorbar": {
              "outlinewidth": 0,
              "ticks": ""
             }
            },
            "type": "scatterpolargl"
           }
          ],
          "scatterternary": [
           {
            "marker": {
             "colorbar": {
              "outlinewidth": 0,
              "ticks": ""
             }
            },
            "type": "scatterternary"
           }
          ],
          "surface": [
           {
            "colorbar": {
             "outlinewidth": 0,
             "ticks": ""
            },
            "colorscale": [
             [
              0,
              "#0d0887"
             ],
             [
              0.1111111111111111,
              "#46039f"
             ],
             [
              0.2222222222222222,
              "#7201a8"
             ],
             [
              0.3333333333333333,
              "#9c179e"
             ],
             [
              0.4444444444444444,
              "#bd3786"
             ],
             [
              0.5555555555555556,
              "#d8576b"
             ],
             [
              0.6666666666666666,
              "#ed7953"
             ],
             [
              0.7777777777777778,
              "#fb9f3a"
             ],
             [
              0.8888888888888888,
              "#fdca26"
             ],
             [
              1,
              "#f0f921"
             ]
            ],
            "type": "surface"
           }
          ],
          "table": [
           {
            "cells": {
             "fill": {
              "color": "#506784"
             },
             "line": {
              "color": "rgb(17,17,17)"
             }
            },
            "header": {
             "fill": {
              "color": "#2a3f5f"
             },
             "line": {
              "color": "rgb(17,17,17)"
             }
            },
            "type": "table"
           }
          ]
         },
         "layout": {
          "annotationdefaults": {
           "arrowcolor": "#f2f5fa",
           "arrowhead": 0,
           "arrowwidth": 1
          },
          "autotypenumbers": "strict",
          "coloraxis": {
           "colorbar": {
            "outlinewidth": 0,
            "ticks": ""
           }
          },
          "colorscale": {
           "diverging": [
            [
             0,
             "#8e0152"
            ],
            [
             0.1,
             "#c51b7d"
            ],
            [
             0.2,
             "#de77ae"
            ],
            [
             0.3,
             "#f1b6da"
            ],
            [
             0.4,
             "#fde0ef"
            ],
            [
             0.5,
             "#f7f7f7"
            ],
            [
             0.6,
             "#e6f5d0"
            ],
            [
             0.7,
             "#b8e186"
            ],
            [
             0.8,
             "#7fbc41"
            ],
            [
             0.9,
             "#4d9221"
            ],
            [
             1,
             "#276419"
            ]
           ],
           "sequential": [
            [
             0,
             "#0d0887"
            ],
            [
             0.1111111111111111,
             "#46039f"
            ],
            [
             0.2222222222222222,
             "#7201a8"
            ],
            [
             0.3333333333333333,
             "#9c179e"
            ],
            [
             0.4444444444444444,
             "#bd3786"
            ],
            [
             0.5555555555555556,
             "#d8576b"
            ],
            [
             0.6666666666666666,
             "#ed7953"
            ],
            [
             0.7777777777777778,
             "#fb9f3a"
            ],
            [
             0.8888888888888888,
             "#fdca26"
            ],
            [
             1,
             "#f0f921"
            ]
           ],
           "sequentialminus": [
            [
             0,
             "#0d0887"
            ],
            [
             0.1111111111111111,
             "#46039f"
            ],
            [
             0.2222222222222222,
             "#7201a8"
            ],
            [
             0.3333333333333333,
             "#9c179e"
            ],
            [
             0.4444444444444444,
             "#bd3786"
            ],
            [
             0.5555555555555556,
             "#d8576b"
            ],
            [
             0.6666666666666666,
             "#ed7953"
            ],
            [
             0.7777777777777778,
             "#fb9f3a"
            ],
            [
             0.8888888888888888,
             "#fdca26"
            ],
            [
             1,
             "#f0f921"
            ]
           ]
          },
          "colorway": [
           "#636efa",
           "#EF553B",
           "#00cc96",
           "#ab63fa",
           "#FFA15A",
           "#19d3f3",
           "#FF6692",
           "#B6E880",
           "#FF97FF",
           "#FECB52"
          ],
          "font": {
           "color": "#f2f5fa"
          },
          "geo": {
           "bgcolor": "rgb(17,17,17)",
           "lakecolor": "rgb(17,17,17)",
           "landcolor": "rgb(17,17,17)",
           "showlakes": true,
           "showland": true,
           "subunitcolor": "#506784"
          },
          "hoverlabel": {
           "align": "left"
          },
          "hovermode": "closest",
          "mapbox": {
           "style": "dark"
          },
          "paper_bgcolor": "rgb(17,17,17)",
          "plot_bgcolor": "rgb(17,17,17)",
          "polar": {
           "angularaxis": {
            "gridcolor": "#506784",
            "linecolor": "#506784",
            "ticks": ""
           },
           "bgcolor": "rgb(17,17,17)",
           "radialaxis": {
            "gridcolor": "#506784",
            "linecolor": "#506784",
            "ticks": ""
           }
          },
          "scene": {
           "xaxis": {
            "backgroundcolor": "rgb(17,17,17)",
            "gridcolor": "#506784",
            "gridwidth": 2,
            "linecolor": "#506784",
            "showbackground": true,
            "ticks": "",
            "zerolinecolor": "#C8D4E3"
           },
           "yaxis": {
            "backgroundcolor": "rgb(17,17,17)",
            "gridcolor": "#506784",
            "gridwidth": 2,
            "linecolor": "#506784",
            "showbackground": true,
            "ticks": "",
            "zerolinecolor": "#C8D4E3"
           },
           "zaxis": {
            "backgroundcolor": "rgb(17,17,17)",
            "gridcolor": "#506784",
            "gridwidth": 2,
            "linecolor": "#506784",
            "showbackground": true,
            "ticks": "",
            "zerolinecolor": "#C8D4E3"
           }
          },
          "shapedefaults": {
           "line": {
            "color": "#f2f5fa"
           }
          },
          "sliderdefaults": {
           "bgcolor": "#C8D4E3",
           "bordercolor": "rgb(17,17,17)",
           "borderwidth": 1,
           "tickwidth": 0
          },
          "ternary": {
           "aaxis": {
            "gridcolor": "#506784",
            "linecolor": "#506784",
            "ticks": ""
           },
           "baxis": {
            "gridcolor": "#506784",
            "linecolor": "#506784",
            "ticks": ""
           },
           "bgcolor": "rgb(17,17,17)",
           "caxis": {
            "gridcolor": "#506784",
            "linecolor": "#506784",
            "ticks": ""
           }
          },
          "title": {
           "x": 0.05
          },
          "updatemenudefaults": {
           "bgcolor": "#506784",
           "borderwidth": 0
          },
          "xaxis": {
           "automargin": true,
           "gridcolor": "#283442",
           "linecolor": "#506784",
           "ticks": "",
           "title": {
            "standoff": 15
           },
           "zerolinecolor": "#283442",
           "zerolinewidth": 2
          },
          "yaxis": {
           "automargin": true,
           "gridcolor": "#283442",
           "linecolor": "#506784",
           "ticks": "",
           "title": {
            "standoff": 15
           },
           "zerolinecolor": "#283442",
           "zerolinewidth": 2
          }
         }
        },
        "title": {
         "text": "Rate of Players Shooting 3FGA Between X% and Y%",
         "x": 0.5
        },
        "width": 800,
        "xaxis": {
         "title": {
          "text": "Season"
         }
        }
       }
      }
     },
     "metadata": {},
     "output_type": "display_data"
    }
   ],
   "source": [
    "plot = go.Figure(data=[\n",
    "    go.Line(\n",
    "    name = '0-15%',\n",
    "    x = three_pct_norm.columns.values,\n",
    "    y = three_pct_norm.iloc[0]\n",
    "    ),\n",
    "    go.Line(\n",
    "    name = '15-20%',\n",
    "    x = three_pct_norm.columns.values,\n",
    "    y = three_pct_norm.iloc[1]\n",
    "    ),\n",
    "    go.Line(\n",
    "    name = '20-25%',\n",
    "    x = three_pct_norm.columns.values,\n",
    "    y = three_pct_norm.iloc[2]\n",
    "    ),\n",
    "    go.Line(\n",
    "    name = '25-30%',\n",
    "    x = three_pct_norm.columns.values,\n",
    "    y = three_pct_norm.iloc[3]\n",
    "    ),\n",
    "    go.Line(\n",
    "    name = '30-35%',\n",
    "    x = three_pct_norm.columns.values,\n",
    "    y = three_pct_norm.iloc[4]\n",
    "    ),\n",
    "    go.Line(\n",
    "    name = '35-40%',\n",
    "    x = three_pct_norm.columns.values,\n",
    "    y = three_pct_norm.iloc[5]\n",
    "    ),\n",
    "    go.Line(\n",
    "    name = '40-45%',\n",
    "    x = three_pct_norm.columns.values,\n",
    "    y = three_pct_norm.iloc[6]\n",
    "    ),\n",
    "    go.Line(\n",
    "    name = '45-50%',\n",
    "    x = three_pct_norm.columns.values,\n",
    "    y = three_pct_norm.iloc[7]\n",
    "    )],\n",
    "    layout=go.Layout(\n",
    "        title=\"Rate of Players Shooting 3FGA Between X% and Y%\",\n",
    "        xaxis_title=\"Season\",\n",
    "        template=\"plotly_dark\",\n",
    "        width=800,\n",
    "        height=600            \n",
    "                 )\n",
    "    )\n",
    "plot.update_layout(title_x=0.5)\n",
    "\n",
    "plot.show()\n",
    "\n",
    "#save Figure as jpg image\n",
    "plot.write_image(\"images/ind_3fg_pct_by_season.jpeg\")"
   ]
  },
  {
   "attachments": {},
   "cell_type": "markdown",
   "metadata": {},
   "source": [
    "#### Key Findings from above:\n",
    "- number of players shooting between 0% and 15 % has decreased 2014 and in 2023 was loweset it's ever been (for what we have data for) - rate of ~0.27 compared to 0.4 in 2014\n",
    "- number of players shooting between 25% and 30% has slightly increased since 2015\n",
    "- more players are shooting more 3's but overall, across the league the 3pt% hasn't changed much/no consistent trends here - the main takeaway is that there are much fewer \"very poor\" 3 point shooters, even though there may not be significantly more \"very good\" 3 point shooters, more players are shooting in a range where teams may respect their shot more\n",
    "\n",
    "#### Now same thing but only looking at players who take at least 2 3FGA per game"
   ]
  },
  {
   "cell_type": "code",
   "execution_count": 8,
   "metadata": {},
   "outputs": [],
   "source": [
    "pcts = [0, 15, 20, 25, 30, 35, 40, 45, 50]\n",
    "\n",
    "for idx in range(0,len(pcts)-1):\n",
    "    lower_bound = pcts[idx]\n",
    "    upper_bound = pcts[idx+1]\n",
    "    \n",
    "    q = \"\"\"\n",
    "        SELECT season, count(player_id)\n",
    "        FROM player_shooting\n",
    "        NATURAL JOIN player_info\n",
    "        WHERE fg3_percent >= %s AND fg3_percent < %s AND fga3 >= 2 AND games_played > 0 AND minutes_pgame >= 5\n",
    "        GROUP BY season\n",
    "        ORDER BY season\n",
    "        \"\"\"\n",
    "    result = read_query(connection, q,[lower_bound, upper_bound])\n",
    "    \n",
    "    new_df = pd.DataFrame(result, columns=['Season', lower_bound])\n",
    "\n",
    "    if lower_bound == 0:\n",
    "       df = new_df\n",
    "    if lower_bound != 0:\n",
    "       df = df.join(new_df.set_index('Season'), on='Season', how='outer')\n",
    "     \n",
    "     \n",
    "#count number of players who took at least 2 3 point attempts per game and played in at least 1 game and averaged at least 5 minutes per game\n",
    "q2 = \"\"\"\n",
    "    SELECT season, count(player_id)\n",
    "    FROM player_info\n",
    "    NATURAL JOIN player_shooting\n",
    "    WHERE fga3 >= 2 AND games_played > 0 AND minutes_pgame >= 5\n",
    "    GROUP BY season\n",
    "    ORDER BY season;\n",
    "    \"\"\"\n",
    "\n",
    "result_players = read_query(connection, q2, None)\n",
    "df_numPlayers = pd.DataFrame(result_players, columns=['Season', 'Count'])\n",
    "\n"
   ]
  },
  {
   "cell_type": "code",
   "execution_count": 9,
   "metadata": {},
   "outputs": [
    {
     "name": "stderr",
     "output_type": "stream",
     "text": [
      "/Users/emmaritcey/Documents/basketball_research/usports_database/.venv/lib/python3.8/site-packages/plotly/graph_objs/_deprecations.py:378: DeprecationWarning:\n",
      "\n",
      "plotly.graph_objs.Line is deprecated.\n",
      "Please replace it with one of the following more specific types\n",
      "  - plotly.graph_objs.scatter.Line\n",
      "  - plotly.graph_objs.layout.shape.Line\n",
      "  - etc.\n",
      "\n",
      "\n"
     ]
    },
    {
     "data": {
      "application/vnd.plotly.v1+json": {
       "config": {
        "plotlyServerURL": "https://plot.ly"
       },
       "data": [
        {
         "name": "0-15%",
         "type": "scatter",
         "x": [
          2010,
          2011,
          2012,
          2013,
          2014,
          2015,
          2016,
          2017,
          2018,
          2019,
          2020,
          2022,
          2023
         ],
         "y": [
          0.014084507042253521,
          0.013333333333333334,
          0.006493506493506494,
          0.00558659217877095,
          0.03125,
          0.04430379746835443,
          0.05102040816326531,
          0.02127659574468085,
          0.03255813953488372,
          0.019230769230769232,
          0.0375,
          0.0326530612244898,
          0.02092050209205021
         ]
        },
        {
         "name": "15-20%",
         "type": "scatter",
         "x": [
          2010,
          2011,
          2012,
          2013,
          2014,
          2015,
          2016,
          2017,
          2018,
          2019,
          2020,
          2022,
          2023
         ],
         "y": [
          0.04929577464788732,
          0.09333333333333334,
          0.03896103896103896,
          0.055865921787709494,
          0.06875,
          0.05063291139240506,
          0.04081632653061224,
          0.05319148936170213,
          0.06511627906976744,
          0.08173076923076923,
          0.058333333333333334,
          0.08571428571428572,
          0.09205020920502092
         ]
        },
        {
         "name": "20-25%",
         "type": "scatter",
         "x": [
          2010,
          2011,
          2012,
          2013,
          2014,
          2015,
          2016,
          2017,
          2018,
          2019,
          2020,
          2022,
          2023
         ],
         "y": [
          0.1267605633802817,
          0.08666666666666667,
          0.1038961038961039,
          0.1452513966480447,
          0.16875,
          0.22784810126582278,
          0.1989795918367347,
          0.13829787234042554,
          0.14418604651162792,
          0.13942307692307693,
          0.17083333333333334,
          0.17142857142857143,
          0.17573221757322174
         ]
        },
        {
         "name": "25-30%",
         "type": "scatter",
         "x": [
          2010,
          2011,
          2012,
          2013,
          2014,
          2015,
          2016,
          2017,
          2018,
          2019,
          2020,
          2022,
          2023
         ],
         "y": [
          0.23943661971830985,
          0.26,
          0.2662337662337662,
          0.2122905027932961,
          0.2625,
          0.1962025316455696,
          0.2602040816326531,
          0.2553191489361702,
          0.2837209302325581,
          0.2548076923076923,
          0.35,
          0.27755102040816326,
          0.3054393305439331
         ]
        },
        {
         "name": "30-35%",
         "type": "scatter",
         "x": [
          2010,
          2011,
          2012,
          2013,
          2014,
          2015,
          2016,
          2017,
          2018,
          2019,
          2020,
          2022,
          2023
         ],
         "y": [
          0.2605633802816901,
          0.25333333333333335,
          0.2662337662337662,
          0.36312849162011174,
          0.29375,
          0.2468354430379747,
          0.2602040816326531,
          0.3404255319148936,
          0.24186046511627907,
          0.28846153846153844,
          0.2125,
          0.2612244897959184,
          0.2175732217573222
         ]
        },
        {
         "name": "35-40%",
         "type": "scatter",
         "x": [
          2010,
          2011,
          2012,
          2013,
          2014,
          2015,
          2016,
          2017,
          2018,
          2019,
          2020,
          2022,
          2023
         ],
         "y": [
          0.16901408450704225,
          0.16666666666666666,
          0.18831168831168832,
          0.12849162011173185,
          0.13125,
          0.17721518987341772,
          0.10714285714285714,
          0.1276595744680851,
          0.18604651162790697,
          0.15384615384615385,
          0.12916666666666668,
          0.08979591836734693,
          0.1297071129707113
         ]
        },
        {
         "name": "40-45%",
         "type": "scatter",
         "x": [
          2010,
          2011,
          2012,
          2013,
          2014,
          2015,
          2016,
          2017,
          2018,
          2019,
          2020,
          2022,
          2023
         ],
         "y": [
          0.11971830985915492,
          0.09333333333333334,
          0.09090909090909091,
          0.0782122905027933,
          0.03125,
          0.04430379746835443,
          0.07142857142857142,
          0.03723404255319149,
          0.027906976744186046,
          0.057692307692307696,
          0.03333333333333333,
          0.0653061224489796,
          0.04602510460251046
         ]
        },
        {
         "name": "45-50%",
         "type": "scatter",
         "x": [
          2010,
          2011,
          2012,
          2013,
          2014,
          2015,
          2016,
          2017,
          2018,
          2019,
          2020,
          2022,
          2023
         ],
         "y": [
          0.007042253521126761,
          0.02666666666666667,
          0.012987012987012988,
          0.0111731843575419,
          0.0125,
          0.012658227848101266,
          0.01020408163265306,
          0.015957446808510637,
          0.009302325581395349,
          0.004807692307692308,
          0.008333333333333333,
          0.012244897959183673,
          0.008368200836820083
         ]
        }
       ],
       "layout": {
        "height": 600,
        "template": {
         "data": {
          "bar": [
           {
            "error_x": {
             "color": "#f2f5fa"
            },
            "error_y": {
             "color": "#f2f5fa"
            },
            "marker": {
             "line": {
              "color": "rgb(17,17,17)",
              "width": 0.5
             },
             "pattern": {
              "fillmode": "overlay",
              "size": 10,
              "solidity": 0.2
             }
            },
            "type": "bar"
           }
          ],
          "barpolar": [
           {
            "marker": {
             "line": {
              "color": "rgb(17,17,17)",
              "width": 0.5
             },
             "pattern": {
              "fillmode": "overlay",
              "size": 10,
              "solidity": 0.2
             }
            },
            "type": "barpolar"
           }
          ],
          "carpet": [
           {
            "aaxis": {
             "endlinecolor": "#A2B1C6",
             "gridcolor": "#506784",
             "linecolor": "#506784",
             "minorgridcolor": "#506784",
             "startlinecolor": "#A2B1C6"
            },
            "baxis": {
             "endlinecolor": "#A2B1C6",
             "gridcolor": "#506784",
             "linecolor": "#506784",
             "minorgridcolor": "#506784",
             "startlinecolor": "#A2B1C6"
            },
            "type": "carpet"
           }
          ],
          "choropleth": [
           {
            "colorbar": {
             "outlinewidth": 0,
             "ticks": ""
            },
            "type": "choropleth"
           }
          ],
          "contour": [
           {
            "colorbar": {
             "outlinewidth": 0,
             "ticks": ""
            },
            "colorscale": [
             [
              0,
              "#0d0887"
             ],
             [
              0.1111111111111111,
              "#46039f"
             ],
             [
              0.2222222222222222,
              "#7201a8"
             ],
             [
              0.3333333333333333,
              "#9c179e"
             ],
             [
              0.4444444444444444,
              "#bd3786"
             ],
             [
              0.5555555555555556,
              "#d8576b"
             ],
             [
              0.6666666666666666,
              "#ed7953"
             ],
             [
              0.7777777777777778,
              "#fb9f3a"
             ],
             [
              0.8888888888888888,
              "#fdca26"
             ],
             [
              1,
              "#f0f921"
             ]
            ],
            "type": "contour"
           }
          ],
          "contourcarpet": [
           {
            "colorbar": {
             "outlinewidth": 0,
             "ticks": ""
            },
            "type": "contourcarpet"
           }
          ],
          "heatmap": [
           {
            "colorbar": {
             "outlinewidth": 0,
             "ticks": ""
            },
            "colorscale": [
             [
              0,
              "#0d0887"
             ],
             [
              0.1111111111111111,
              "#46039f"
             ],
             [
              0.2222222222222222,
              "#7201a8"
             ],
             [
              0.3333333333333333,
              "#9c179e"
             ],
             [
              0.4444444444444444,
              "#bd3786"
             ],
             [
              0.5555555555555556,
              "#d8576b"
             ],
             [
              0.6666666666666666,
              "#ed7953"
             ],
             [
              0.7777777777777778,
              "#fb9f3a"
             ],
             [
              0.8888888888888888,
              "#fdca26"
             ],
             [
              1,
              "#f0f921"
             ]
            ],
            "type": "heatmap"
           }
          ],
          "heatmapgl": [
           {
            "colorbar": {
             "outlinewidth": 0,
             "ticks": ""
            },
            "colorscale": [
             [
              0,
              "#0d0887"
             ],
             [
              0.1111111111111111,
              "#46039f"
             ],
             [
              0.2222222222222222,
              "#7201a8"
             ],
             [
              0.3333333333333333,
              "#9c179e"
             ],
             [
              0.4444444444444444,
              "#bd3786"
             ],
             [
              0.5555555555555556,
              "#d8576b"
             ],
             [
              0.6666666666666666,
              "#ed7953"
             ],
             [
              0.7777777777777778,
              "#fb9f3a"
             ],
             [
              0.8888888888888888,
              "#fdca26"
             ],
             [
              1,
              "#f0f921"
             ]
            ],
            "type": "heatmapgl"
           }
          ],
          "histogram": [
           {
            "marker": {
             "pattern": {
              "fillmode": "overlay",
              "size": 10,
              "solidity": 0.2
             }
            },
            "type": "histogram"
           }
          ],
          "histogram2d": [
           {
            "colorbar": {
             "outlinewidth": 0,
             "ticks": ""
            },
            "colorscale": [
             [
              0,
              "#0d0887"
             ],
             [
              0.1111111111111111,
              "#46039f"
             ],
             [
              0.2222222222222222,
              "#7201a8"
             ],
             [
              0.3333333333333333,
              "#9c179e"
             ],
             [
              0.4444444444444444,
              "#bd3786"
             ],
             [
              0.5555555555555556,
              "#d8576b"
             ],
             [
              0.6666666666666666,
              "#ed7953"
             ],
             [
              0.7777777777777778,
              "#fb9f3a"
             ],
             [
              0.8888888888888888,
              "#fdca26"
             ],
             [
              1,
              "#f0f921"
             ]
            ],
            "type": "histogram2d"
           }
          ],
          "histogram2dcontour": [
           {
            "colorbar": {
             "outlinewidth": 0,
             "ticks": ""
            },
            "colorscale": [
             [
              0,
              "#0d0887"
             ],
             [
              0.1111111111111111,
              "#46039f"
             ],
             [
              0.2222222222222222,
              "#7201a8"
             ],
             [
              0.3333333333333333,
              "#9c179e"
             ],
             [
              0.4444444444444444,
              "#bd3786"
             ],
             [
              0.5555555555555556,
              "#d8576b"
             ],
             [
              0.6666666666666666,
              "#ed7953"
             ],
             [
              0.7777777777777778,
              "#fb9f3a"
             ],
             [
              0.8888888888888888,
              "#fdca26"
             ],
             [
              1,
              "#f0f921"
             ]
            ],
            "type": "histogram2dcontour"
           }
          ],
          "mesh3d": [
           {
            "colorbar": {
             "outlinewidth": 0,
             "ticks": ""
            },
            "type": "mesh3d"
           }
          ],
          "parcoords": [
           {
            "line": {
             "colorbar": {
              "outlinewidth": 0,
              "ticks": ""
             }
            },
            "type": "parcoords"
           }
          ],
          "pie": [
           {
            "automargin": true,
            "type": "pie"
           }
          ],
          "scatter": [
           {
            "marker": {
             "line": {
              "color": "#283442"
             }
            },
            "type": "scatter"
           }
          ],
          "scatter3d": [
           {
            "line": {
             "colorbar": {
              "outlinewidth": 0,
              "ticks": ""
             }
            },
            "marker": {
             "colorbar": {
              "outlinewidth": 0,
              "ticks": ""
             }
            },
            "type": "scatter3d"
           }
          ],
          "scattercarpet": [
           {
            "marker": {
             "colorbar": {
              "outlinewidth": 0,
              "ticks": ""
             }
            },
            "type": "scattercarpet"
           }
          ],
          "scattergeo": [
           {
            "marker": {
             "colorbar": {
              "outlinewidth": 0,
              "ticks": ""
             }
            },
            "type": "scattergeo"
           }
          ],
          "scattergl": [
           {
            "marker": {
             "line": {
              "color": "#283442"
             }
            },
            "type": "scattergl"
           }
          ],
          "scattermapbox": [
           {
            "marker": {
             "colorbar": {
              "outlinewidth": 0,
              "ticks": ""
             }
            },
            "type": "scattermapbox"
           }
          ],
          "scatterpolar": [
           {
            "marker": {
             "colorbar": {
              "outlinewidth": 0,
              "ticks": ""
             }
            },
            "type": "scatterpolar"
           }
          ],
          "scatterpolargl": [
           {
            "marker": {
             "colorbar": {
              "outlinewidth": 0,
              "ticks": ""
             }
            },
            "type": "scatterpolargl"
           }
          ],
          "scatterternary": [
           {
            "marker": {
             "colorbar": {
              "outlinewidth": 0,
              "ticks": ""
             }
            },
            "type": "scatterternary"
           }
          ],
          "surface": [
           {
            "colorbar": {
             "outlinewidth": 0,
             "ticks": ""
            },
            "colorscale": [
             [
              0,
              "#0d0887"
             ],
             [
              0.1111111111111111,
              "#46039f"
             ],
             [
              0.2222222222222222,
              "#7201a8"
             ],
             [
              0.3333333333333333,
              "#9c179e"
             ],
             [
              0.4444444444444444,
              "#bd3786"
             ],
             [
              0.5555555555555556,
              "#d8576b"
             ],
             [
              0.6666666666666666,
              "#ed7953"
             ],
             [
              0.7777777777777778,
              "#fb9f3a"
             ],
             [
              0.8888888888888888,
              "#fdca26"
             ],
             [
              1,
              "#f0f921"
             ]
            ],
            "type": "surface"
           }
          ],
          "table": [
           {
            "cells": {
             "fill": {
              "color": "#506784"
             },
             "line": {
              "color": "rgb(17,17,17)"
             }
            },
            "header": {
             "fill": {
              "color": "#2a3f5f"
             },
             "line": {
              "color": "rgb(17,17,17)"
             }
            },
            "type": "table"
           }
          ]
         },
         "layout": {
          "annotationdefaults": {
           "arrowcolor": "#f2f5fa",
           "arrowhead": 0,
           "arrowwidth": 1
          },
          "autotypenumbers": "strict",
          "coloraxis": {
           "colorbar": {
            "outlinewidth": 0,
            "ticks": ""
           }
          },
          "colorscale": {
           "diverging": [
            [
             0,
             "#8e0152"
            ],
            [
             0.1,
             "#c51b7d"
            ],
            [
             0.2,
             "#de77ae"
            ],
            [
             0.3,
             "#f1b6da"
            ],
            [
             0.4,
             "#fde0ef"
            ],
            [
             0.5,
             "#f7f7f7"
            ],
            [
             0.6,
             "#e6f5d0"
            ],
            [
             0.7,
             "#b8e186"
            ],
            [
             0.8,
             "#7fbc41"
            ],
            [
             0.9,
             "#4d9221"
            ],
            [
             1,
             "#276419"
            ]
           ],
           "sequential": [
            [
             0,
             "#0d0887"
            ],
            [
             0.1111111111111111,
             "#46039f"
            ],
            [
             0.2222222222222222,
             "#7201a8"
            ],
            [
             0.3333333333333333,
             "#9c179e"
            ],
            [
             0.4444444444444444,
             "#bd3786"
            ],
            [
             0.5555555555555556,
             "#d8576b"
            ],
            [
             0.6666666666666666,
             "#ed7953"
            ],
            [
             0.7777777777777778,
             "#fb9f3a"
            ],
            [
             0.8888888888888888,
             "#fdca26"
            ],
            [
             1,
             "#f0f921"
            ]
           ],
           "sequentialminus": [
            [
             0,
             "#0d0887"
            ],
            [
             0.1111111111111111,
             "#46039f"
            ],
            [
             0.2222222222222222,
             "#7201a8"
            ],
            [
             0.3333333333333333,
             "#9c179e"
            ],
            [
             0.4444444444444444,
             "#bd3786"
            ],
            [
             0.5555555555555556,
             "#d8576b"
            ],
            [
             0.6666666666666666,
             "#ed7953"
            ],
            [
             0.7777777777777778,
             "#fb9f3a"
            ],
            [
             0.8888888888888888,
             "#fdca26"
            ],
            [
             1,
             "#f0f921"
            ]
           ]
          },
          "colorway": [
           "#636efa",
           "#EF553B",
           "#00cc96",
           "#ab63fa",
           "#FFA15A",
           "#19d3f3",
           "#FF6692",
           "#B6E880",
           "#FF97FF",
           "#FECB52"
          ],
          "font": {
           "color": "#f2f5fa"
          },
          "geo": {
           "bgcolor": "rgb(17,17,17)",
           "lakecolor": "rgb(17,17,17)",
           "landcolor": "rgb(17,17,17)",
           "showlakes": true,
           "showland": true,
           "subunitcolor": "#506784"
          },
          "hoverlabel": {
           "align": "left"
          },
          "hovermode": "closest",
          "mapbox": {
           "style": "dark"
          },
          "paper_bgcolor": "rgb(17,17,17)",
          "plot_bgcolor": "rgb(17,17,17)",
          "polar": {
           "angularaxis": {
            "gridcolor": "#506784",
            "linecolor": "#506784",
            "ticks": ""
           },
           "bgcolor": "rgb(17,17,17)",
           "radialaxis": {
            "gridcolor": "#506784",
            "linecolor": "#506784",
            "ticks": ""
           }
          },
          "scene": {
           "xaxis": {
            "backgroundcolor": "rgb(17,17,17)",
            "gridcolor": "#506784",
            "gridwidth": 2,
            "linecolor": "#506784",
            "showbackground": true,
            "ticks": "",
            "zerolinecolor": "#C8D4E3"
           },
           "yaxis": {
            "backgroundcolor": "rgb(17,17,17)",
            "gridcolor": "#506784",
            "gridwidth": 2,
            "linecolor": "#506784",
            "showbackground": true,
            "ticks": "",
            "zerolinecolor": "#C8D4E3"
           },
           "zaxis": {
            "backgroundcolor": "rgb(17,17,17)",
            "gridcolor": "#506784",
            "gridwidth": 2,
            "linecolor": "#506784",
            "showbackground": true,
            "ticks": "",
            "zerolinecolor": "#C8D4E3"
           }
          },
          "shapedefaults": {
           "line": {
            "color": "#f2f5fa"
           }
          },
          "sliderdefaults": {
           "bgcolor": "#C8D4E3",
           "bordercolor": "rgb(17,17,17)",
           "borderwidth": 1,
           "tickwidth": 0
          },
          "ternary": {
           "aaxis": {
            "gridcolor": "#506784",
            "linecolor": "#506784",
            "ticks": ""
           },
           "baxis": {
            "gridcolor": "#506784",
            "linecolor": "#506784",
            "ticks": ""
           },
           "bgcolor": "rgb(17,17,17)",
           "caxis": {
            "gridcolor": "#506784",
            "linecolor": "#506784",
            "ticks": ""
           }
          },
          "title": {
           "x": 0.05
          },
          "updatemenudefaults": {
           "bgcolor": "#506784",
           "borderwidth": 0
          },
          "xaxis": {
           "automargin": true,
           "gridcolor": "#283442",
           "linecolor": "#506784",
           "ticks": "",
           "title": {
            "standoff": 15
           },
           "zerolinecolor": "#283442",
           "zerolinewidth": 2
          },
          "yaxis": {
           "automargin": true,
           "gridcolor": "#283442",
           "linecolor": "#506784",
           "ticks": "",
           "title": {
            "standoff": 15
           },
           "zerolinecolor": "#283442",
           "zerolinewidth": 2
          }
         }
        },
        "title": {
         "text": "Rate of Players Who Shot At least 2 3FGA Between X% and Y%",
         "x": 0.5
        },
        "width": 800,
        "xaxis": {
         "title": {
          "text": "Season"
         }
        }
       }
      }
     },
     "metadata": {},
     "output_type": "display_data"
    }
   ],
   "source": [
    "three_pct_norm = df[[0, 15, 20, 25, 30, 35, 40, 45]].transpose()/df_numPlayers['Count'].values\n",
    "three_pct_norm.columns = [2010, 2011, 2012, 2013, 2014, 2015, 2016, 2017, 2018, 2019, 2020, 2022, 2023]\n",
    "\n",
    "plot = go.Figure(data=[\n",
    "    go.Line(\n",
    "    name = '0-15%',\n",
    "    x = three_pct_norm.columns.values,\n",
    "    y = three_pct_norm.iloc[0]\n",
    "    ),\n",
    "    go.Line(\n",
    "    name = '15-20%',\n",
    "    x = three_pct_norm.columns.values,\n",
    "    y = three_pct_norm.iloc[1]\n",
    "    ),\n",
    "    go.Line(\n",
    "    name = '20-25%',\n",
    "    x = three_pct_norm.columns.values,\n",
    "    y = three_pct_norm.iloc[2]\n",
    "    ),\n",
    "    go.Line(\n",
    "    name = '25-30%',\n",
    "    x = three_pct_norm.columns.values,\n",
    "    y = three_pct_norm.iloc[3]\n",
    "    ),\n",
    "    go.Line(\n",
    "    name = '30-35%',\n",
    "    x = three_pct_norm.columns.values,\n",
    "    y = three_pct_norm.iloc[4]\n",
    "    ),\n",
    "    go.Line(\n",
    "    name = '35-40%',\n",
    "    x = three_pct_norm.columns.values,\n",
    "    y = three_pct_norm.iloc[5]\n",
    "    ),\n",
    "    go.Line(\n",
    "    name = '40-45%',\n",
    "    x = three_pct_norm.columns.values,\n",
    "    y = three_pct_norm.iloc[6]\n",
    "    ),\n",
    "    go.Line(\n",
    "    name = '45-50%',\n",
    "    x = three_pct_norm.columns.values,\n",
    "    y = three_pct_norm.iloc[7]\n",
    "    )],\n",
    "    layout=go.Layout(\n",
    "        title=\"Rate of Players Who Shot At least 2 3FGA Between X% and Y%\",\n",
    "        xaxis_title=\"Season\",\n",
    "        template=\"plotly_dark\",\n",
    "        width=800,\n",
    "        height=600            \n",
    "                 )\n",
    "    )\n",
    "plot.update_layout(title_x=0.5)\n",
    "\n",
    "plot.show()\n",
    "\n",
    "#save Figure as jpg image\n",
    "plot.write_image(\"images/ind_3fg_pct_by_season_>=2attempts.jpeg\")"
   ]
  },
  {
   "attachments": {},
   "cell_type": "markdown",
   "metadata": {},
   "source": [
    "Takeaways from above:\n",
    "- the rate of \"excellent\" shooters (40-45%) has decreased over the years\n",
    "- the rate of \"decent\" shooters (25-30%) has increased\n",
    "- even though more threes are being taken, the percentage at which they're made doesn't show consistent trends"
   ]
  },
  {
   "attachments": {},
   "cell_type": "markdown",
   "metadata": {},
   "source": [
    "### Top individual 3 point %'s Each season\n",
    "- select the top 25 3 point field goal percentages for each season\n",
    "- create scatter plot with:\n",
    "    - x-axis as the season\n",
    "    - y-axis as 3FG%\n",
    "    - size of data points represents # of 3FG attempts, bigger = more attempts per game (for stronger visualization, squared it)\n",
    "    - color of data points represents the rank (1-25) of the 3FG% for that year"
   ]
  },
  {
   "cell_type": "code",
   "execution_count": 10,
   "metadata": {},
   "outputs": [
    {
     "data": {
      "application/vnd.plotly.v1+json": {
       "config": {
        "plotlyServerURL": "https://plot.ly"
       },
       "data": [
        {
         "hovertemplate": "Season=%{x}<br>3fg%=%{y}<br>size=%{marker.size}<br>season rank=%{marker.color}<extra></extra>",
         "legendgroup": "",
         "marker": {
          "color": [
           1,
           2,
           3,
           4,
           5,
           6,
           7,
           8,
           9,
           10,
           11,
           12,
           13,
           14,
           15,
           16,
           17,
           18,
           19,
           20,
           21,
           22,
           23,
           24,
           25,
           1,
           2,
           3,
           4,
           5,
           6,
           7,
           8,
           9,
           10,
           11,
           12,
           13,
           14,
           15,
           16,
           17,
           18,
           19,
           20,
           21,
           22,
           23,
           24,
           25,
           1,
           2,
           3,
           4,
           5,
           6,
           7,
           8,
           9,
           10,
           11,
           12,
           13,
           14,
           15,
           16,
           17,
           18,
           19,
           20,
           21,
           22,
           23,
           24,
           25,
           1,
           2,
           3,
           4,
           5,
           6,
           7,
           8,
           9,
           10,
           11,
           12,
           13,
           14,
           15,
           16,
           17,
           18,
           19,
           20,
           21,
           22,
           23,
           24,
           25,
           1,
           2,
           3,
           4,
           5,
           6,
           7,
           8,
           9,
           10,
           11,
           12,
           13,
           14,
           15,
           16,
           17,
           18,
           19,
           20,
           21,
           22,
           23,
           24,
           25,
           1,
           2,
           3,
           4,
           5,
           6,
           7,
           8,
           9,
           10,
           11,
           12,
           13,
           14,
           15,
           16,
           17,
           18,
           19,
           20,
           21,
           22,
           23,
           24,
           25,
           1,
           2,
           3,
           4,
           5,
           6,
           7,
           8,
           9,
           10,
           11,
           12,
           13,
           14,
           15,
           16,
           17,
           18,
           19,
           20,
           21,
           22,
           23,
           24,
           25,
           1,
           2,
           3,
           4,
           5,
           6,
           7,
           8,
           9,
           10,
           11,
           12,
           13,
           14,
           15,
           16,
           17,
           18,
           19,
           20,
           21,
           22,
           23,
           24,
           25,
           1,
           2,
           3,
           4,
           5,
           6,
           7,
           8,
           9,
           10,
           11,
           12,
           13,
           14,
           15,
           16,
           17,
           18,
           19,
           20,
           21,
           22,
           23,
           24,
           25,
           1,
           2,
           3,
           4,
           5,
           6,
           7,
           8,
           9,
           10,
           11,
           12,
           13,
           14,
           15,
           16,
           17,
           18,
           19,
           20,
           21,
           22,
           23,
           24,
           25,
           1,
           2,
           3,
           4,
           5,
           6,
           7,
           8,
           9,
           10,
           11,
           12,
           13,
           14,
           15,
           16,
           17,
           18,
           19,
           20,
           21,
           22,
           23,
           24,
           25,
           1,
           2,
           3,
           4,
           5,
           6,
           7,
           8,
           9,
           10,
           11,
           12,
           13,
           14,
           15,
           16,
           17,
           18,
           19,
           20,
           21,
           22,
           23,
           24,
           25,
           1,
           2,
           3,
           4,
           5,
           6,
           7,
           8,
           9,
           10,
           11,
           12,
           13,
           14,
           15,
           16,
           17,
           18,
           19,
           20,
           21,
           22,
           23,
           24,
           25
          ],
          "coloraxis": "coloraxis",
          "size": [
           5.76,
           5.289999999999999,
           9.610000000000001,
           12.25,
           14.44,
           10.240000000000002,
           16,
           12.25,
           27.040000000000003,
           29.160000000000004,
           10.889999999999999,
           49,
           9,
           10.889999999999999,
           39.69,
           30.25,
           20.25,
           29.160000000000004,
           6.760000000000001,
           37.209999999999994,
           42.25,
           18.49,
           10.889999999999999,
           26.009999999999998,
           43.559999999999995,
           4,
           30.25,
           21.159999999999997,
           11.559999999999999,
           19.360000000000003,
           16,
           15.209999999999999,
           18.49,
           57.76,
           10.889999999999999,
           5.76,
           38.440000000000005,
           16,
           27.040000000000003,
           26.009999999999998,
           25,
           31.359999999999996,
           60.839999999999996,
           31.359999999999996,
           16,
           6.760000000000001,
           16,
           7.290000000000001,
           12.96,
           25,
           6.25,
           17.64,
           10.889999999999999,
           4.840000000000001,
           12.25,
           12.25,
           33.64,
           25,
           6.760000000000001,
           9,
           8.41,
           9.610000000000001,
           13.690000000000001,
           26.009999999999998,
           7.290000000000001,
           16,
           12.96,
           15.209999999999999,
           6.25,
           12.96,
           10.240000000000002,
           49,
           19.360000000000003,
           12.25,
           38.440000000000005,
           39.69,
           5.76,
           17.64,
           6.760000000000001,
           7.290000000000001,
           18.49,
           5.76,
           9.610000000000001,
           30.25,
           47.61000000000001,
           29.160000000000004,
           10.889999999999999,
           21.159999999999997,
           7.839999999999999,
           17.64,
           9.610000000000001,
           20.25,
           10.240000000000002,
           37.209999999999994,
           17.64,
           16,
           15.209999999999999,
           16,
           28.09,
           25,
           8.41,
           36,
           33.64,
           8.41,
           27.040000000000003,
           43.559999999999995,
           20.25,
           5.76,
           28.09,
           29.160000000000004,
           9.610000000000001,
           12.25,
           28.09,
           8.41,
           7.839999999999999,
           12.25,
           25,
           16,
           15.209999999999999,
           32.49,
           11.559999999999999,
           15.209999999999999,
           39.69,
           21.159999999999997,
           26.009999999999998,
           12.96,
           16,
           4.840000000000001,
           17.64,
           17.64,
           10.240000000000002,
           18.49,
           30.25,
           18.49,
           6.760000000000001,
           10.240000000000002,
           60.839999999999996,
           17.64,
           7.839999999999999,
           10.240000000000002,
           10.240000000000002,
           42.25,
           9,
           25,
           16,
           62.410000000000004,
           9,
           9.610000000000001,
           18.49,
           7.839999999999999,
           16,
           7.839999999999999,
           39.69,
           15.209999999999999,
           10.240000000000002,
           24.010000000000005,
           12.25,
           27.040000000000003,
           18.49,
           6.760000000000001,
           28.09,
           39.69,
           16,
           7.839999999999999,
           10.240000000000002,
           6.25,
           8.41,
           24.010000000000005,
           15.209999999999999,
           36,
           16,
           54.760000000000005,
           64,
           8.41,
           38.440000000000005,
           27.040000000000003,
           5.289999999999999,
           33.64,
           19.360000000000003,
           51.84,
           6.25,
           12.25,
           56.25,
           46.239999999999995,
           10.240000000000002,
           33.64,
           24.010000000000005,
           51.84,
           10.889999999999999,
           10.240000000000002,
           12.96,
           36,
           7.290000000000001,
           59.290000000000006,
           17.64,
           23.04,
           15.209999999999999,
           18.49,
           21.159999999999997,
           28.09,
           11.559999999999999,
           31.359999999999996,
           10.240000000000002,
           53.29,
           32.49,
           51.84,
           28.09,
           19.360000000000003,
           15.209999999999999,
           19.360000000000003,
           18.49,
           31.359999999999996,
           5.76,
           10.240000000000002,
           6.760000000000001,
           12.96,
           38.440000000000005,
           14.44,
           9.610000000000001,
           7.839999999999999,
           11.559999999999999,
           17.64,
           15.209999999999999,
           23.04,
           39.69,
           12.96,
           28.09,
           12.96,
           60.839999999999996,
           8.41,
           16,
           14.44,
           26.009999999999998,
           23.04,
           10.240000000000002,
           14.44,
           10.889999999999999,
           7.290000000000001,
           12.25,
           26.009999999999998,
           29.160000000000004,
           25,
           6.25,
           49,
           11.559999999999999,
           31.359999999999996,
           31.359999999999996,
           14.44,
           17.64,
           54.760000000000005,
           10.889999999999999,
           17.64,
           30.25,
           23.04,
           43.559999999999995,
           16.81,
           22.090000000000003,
           24.010000000000005,
           14.44,
           56.25,
           24.010000000000005,
           12.96,
           25,
           36,
           23.04,
           17.64,
           46.239999999999995,
           12.25,
           12.25,
           11.559999999999999,
           9.610000000000001,
           27.040000000000003,
           36,
           16,
           38.440000000000005,
           7.290000000000001,
           14.44,
           6.760000000000001,
           24.010000000000005,
           77.44000000000001,
           27.040000000000003,
           7.839999999999999,
           14.44,
           6.25,
           38.440000000000005,
           11.559999999999999,
           25,
           22.090000000000003,
           31.359999999999996,
           24.010000000000005,
           23.04,
           11.559999999999999,
           11.559999999999999,
           37.209999999999994,
           6.760000000000001,
           15.209999999999999,
           27.040000000000003,
           38.440000000000005,
           14.44,
           36,
           17.64,
           9,
           15.209999999999999,
           13.690000000000001,
           40.96000000000001,
           30.25,
           38.440000000000005,
           30.25,
           20.25,
           26.009999999999998,
           27.040000000000003,
           49,
           32.49,
           7.839999999999999,
           28.09,
           54.760000000000005,
           53.29,
           12.96,
           14.44,
           7.839999999999999,
           32.49,
           12.96,
           42.25,
           9,
           28.09
          ],
          "sizemode": "area",
          "sizeref": 0.19360000000000002,
          "symbol": "circle"
         },
         "mode": "markers",
         "name": "",
         "orientation": "v",
         "showlegend": false,
         "type": "scatter",
         "x": [
          2010,
          2010,
          2010,
          2010,
          2010,
          2010,
          2010,
          2010,
          2010,
          2010,
          2010,
          2010,
          2010,
          2010,
          2010,
          2010,
          2010,
          2010,
          2010,
          2010,
          2010,
          2010,
          2010,
          2010,
          2010,
          2011,
          2011,
          2011,
          2011,
          2011,
          2011,
          2011,
          2011,
          2011,
          2011,
          2011,
          2011,
          2011,
          2011,
          2011,
          2011,
          2011,
          2011,
          2011,
          2011,
          2011,
          2011,
          2011,
          2011,
          2011,
          2012,
          2012,
          2012,
          2012,
          2012,
          2012,
          2012,
          2012,
          2012,
          2012,
          2012,
          2012,
          2012,
          2012,
          2012,
          2012,
          2012,
          2012,
          2012,
          2012,
          2012,
          2012,
          2012,
          2012,
          2012,
          2013,
          2013,
          2013,
          2013,
          2013,
          2013,
          2013,
          2013,
          2013,
          2013,
          2013,
          2013,
          2013,
          2013,
          2013,
          2013,
          2013,
          2013,
          2013,
          2013,
          2013,
          2013,
          2013,
          2013,
          2013,
          2014,
          2014,
          2014,
          2014,
          2014,
          2014,
          2014,
          2014,
          2014,
          2014,
          2014,
          2014,
          2014,
          2014,
          2014,
          2014,
          2014,
          2014,
          2014,
          2014,
          2014,
          2014,
          2014,
          2014,
          2014,
          2015,
          2015,
          2015,
          2015,
          2015,
          2015,
          2015,
          2015,
          2015,
          2015,
          2015,
          2015,
          2015,
          2015,
          2015,
          2015,
          2015,
          2015,
          2015,
          2015,
          2015,
          2015,
          2015,
          2015,
          2015,
          2016,
          2016,
          2016,
          2016,
          2016,
          2016,
          2016,
          2016,
          2016,
          2016,
          2016,
          2016,
          2016,
          2016,
          2016,
          2016,
          2016,
          2016,
          2016,
          2016,
          2016,
          2016,
          2016,
          2016,
          2016,
          2017,
          2017,
          2017,
          2017,
          2017,
          2017,
          2017,
          2017,
          2017,
          2017,
          2017,
          2017,
          2017,
          2017,
          2017,
          2017,
          2017,
          2017,
          2017,
          2017,
          2017,
          2017,
          2017,
          2017,
          2017,
          2018,
          2018,
          2018,
          2018,
          2018,
          2018,
          2018,
          2018,
          2018,
          2018,
          2018,
          2018,
          2018,
          2018,
          2018,
          2018,
          2018,
          2018,
          2018,
          2018,
          2018,
          2018,
          2018,
          2018,
          2018,
          2019,
          2019,
          2019,
          2019,
          2019,
          2019,
          2019,
          2019,
          2019,
          2019,
          2019,
          2019,
          2019,
          2019,
          2019,
          2019,
          2019,
          2019,
          2019,
          2019,
          2019,
          2019,
          2019,
          2019,
          2019,
          2020,
          2020,
          2020,
          2020,
          2020,
          2020,
          2020,
          2020,
          2020,
          2020,
          2020,
          2020,
          2020,
          2020,
          2020,
          2020,
          2020,
          2020,
          2020,
          2020,
          2020,
          2020,
          2020,
          2020,
          2020,
          2022,
          2022,
          2022,
          2022,
          2022,
          2022,
          2022,
          2022,
          2022,
          2022,
          2022,
          2022,
          2022,
          2022,
          2022,
          2022,
          2022,
          2022,
          2022,
          2022,
          2022,
          2022,
          2022,
          2022,
          2022,
          2023,
          2023,
          2023,
          2023,
          2023,
          2023,
          2023,
          2023,
          2023,
          2023,
          2023,
          2023,
          2023,
          2023,
          2023,
          2023,
          2023,
          2023,
          2023,
          2023,
          2023,
          2023,
          2023,
          2023,
          2023
         ],
         "xaxis": "x",
         "y": [
          50,
          50,
          46.6,
          43.7,
          43.5,
          43.3,
          43,
          42.9,
          42.3,
          41.4,
          40.9,
          40.8,
          40.7,
          40.6,
          40.5,
          40.4,
          40.4,
          40.4,
          39.7,
          39.6,
          37.8,
          37.7,
          36.4,
          36.3,
          36.3,
          52.5,
          48.4,
          46.4,
          46.3,
          45.5,
          44.3,
          43.5,
          43.3,
          43.1,
          42.9,
          42.2,
          41.9,
          41.7,
          41.6,
          41.2,
          41.1,
          40.6,
          40.3,
          40.3,
          39.8,
          39.6,
          39.2,
          38.9,
          38.9,
          38.8,
          51.8,
          51.5,
          51,
          50,
          49.3,
          43.7,
          43.6,
          43.4,
          42.6,
          42.4,
          42.2,
          41.3,
          40.7,
          40.7,
          40.7,
          40.5,
          40.3,
          40.3,
          40,
          39.7,
          39.6,
          39.3,
          39.2,
          39.1,
          39,
          46.4,
          46.2,
          44.8,
          44.7,
          44.4,
          44.4,
          44.1,
          41.9,
          41.7,
          41.1,
          40.7,
          40.3,
          40.2,
          40,
          39.8,
          39.7,
          39.6,
          39.2,
          39.2,
          39.1,
          39.1,
          39,
          38.3,
          38.3,
          38.1,
          46.8,
          46.2,
          43.5,
          41.4,
          40.4,
          40.2,
          39.8,
          39.2,
          39.1,
          37.8,
          36.8,
          36.4,
          36.2,
          36.2,
          36.2,
          35.9,
          35.8,
          35.6,
          35.3,
          35.2,
          35.1,
          35.1,
          34.5,
          34.4,
          34.3,
          47.2,
          45.3,
          44.8,
          43.4,
          42.9,
          42.2,
          41.9,
          40.5,
          39.7,
          39.6,
          39.3,
          38.9,
          38.8,
          38.6,
          38.5,
          38.3,
          38,
          37.7,
          37.6,
          37.5,
          37.3,
          36.7,
          36.7,
          36.6,
          36.4,
          47.4,
          45.8,
          44.2,
          43.6,
          42.6,
          42.3,
          41.8,
          41.7,
          41.4,
          41.3,
          41.1,
          40.9,
          40.7,
          40,
          39.7,
          39.6,
          39.1,
          38.8,
          38.7,
          38.1,
          37.5,
          37.2,
          36.9,
          36.8,
          36.6,
          47.6,
          45.7,
          42.6,
          42.3,
          42.1,
          41.2,
          40.7,
          39.3,
          39.2,
          39.1,
          39.1,
          39,
          38.9,
          38.7,
          37.3,
          37,
          37,
          36.7,
          36.4,
          36,
          35.9,
          35.9,
          35.6,
          35.6,
          35.5,
          46.2,
          45.8,
          43.3,
          41.8,
          41.3,
          40.3,
          40.2,
          39.8,
          39.7,
          39.6,
          39.3,
          39.3,
          39.2,
          39.1,
          38.9,
          38.4,
          38.2,
          38,
          37.9,
          37.7,
          37.3,
          37.3,
          37.1,
          37.1,
          37,
          45.2,
          43.4,
          43.1,
          42.7,
          42.1,
          41.3,
          41,
          41,
          40,
          40,
          39.5,
          39.4,
          39.2,
          39.1,
          39,
          38.9,
          38.8,
          38.6,
          38.3,
          38.2,
          38.1,
          37.9,
          37.7,
          37.3,
          37.2,
          47,
          44.4,
          43.6,
          43,
          40.2,
          40.2,
          39.8,
          39.8,
          39.5,
          39.3,
          39.3,
          39.3,
          38.7,
          38.3,
          38.1,
          38.1,
          37.8,
          37.7,
          37.7,
          37.3,
          37.1,
          37.1,
          37,
          37,
          36.8,
          46.7,
          45.2,
          44.1,
          44.1,
          44,
          43.4,
          43.2,
          42.6,
          42.5,
          41.9,
          41.8,
          41.5,
          41.3,
          41,
          40.6,
          39.7,
          39,
          38.9,
          38.8,
          38.7,
          38.3,
          38.1,
          38,
          38,
          37.5,
          48.4,
          47.6,
          44.9,
          44.6,
          44.5,
          44,
          42.4,
          41.7,
          41.6,
          40.2,
          40,
          39.8,
          39.5,
          39.4,
          39,
          38.7,
          38.5,
          38.4,
          38.2,
          38.2,
          37.7,
          37.5,
          37.1,
          37,
          37
         ],
         "yaxis": "y"
        }
       ],
       "layout": {
        "coloraxis": {
         "colorbar": {
          "title": {
           "text": "season rank"
          }
         },
         "colorscale": [
          [
           0,
           "#0d0887"
          ],
          [
           0.1111111111111111,
           "#46039f"
          ],
          [
           0.2222222222222222,
           "#7201a8"
          ],
          [
           0.3333333333333333,
           "#9c179e"
          ],
          [
           0.4444444444444444,
           "#bd3786"
          ],
          [
           0.5555555555555556,
           "#d8576b"
          ],
          [
           0.6666666666666666,
           "#ed7953"
          ],
          [
           0.7777777777777778,
           "#fb9f3a"
          ],
          [
           0.8888888888888888,
           "#fdca26"
          ],
          [
           1,
           "#f0f921"
          ]
         ]
        },
        "height": 600,
        "legend": {
         "itemsizing": "constant",
         "tracegroupgap": 0
        },
        "margin": {
         "t": 60
        },
        "template": {
         "data": {
          "bar": [
           {
            "error_x": {
             "color": "#f2f5fa"
            },
            "error_y": {
             "color": "#f2f5fa"
            },
            "marker": {
             "line": {
              "color": "rgb(17,17,17)",
              "width": 0.5
             },
             "pattern": {
              "fillmode": "overlay",
              "size": 10,
              "solidity": 0.2
             }
            },
            "type": "bar"
           }
          ],
          "barpolar": [
           {
            "marker": {
             "line": {
              "color": "rgb(17,17,17)",
              "width": 0.5
             },
             "pattern": {
              "fillmode": "overlay",
              "size": 10,
              "solidity": 0.2
             }
            },
            "type": "barpolar"
           }
          ],
          "carpet": [
           {
            "aaxis": {
             "endlinecolor": "#A2B1C6",
             "gridcolor": "#506784",
             "linecolor": "#506784",
             "minorgridcolor": "#506784",
             "startlinecolor": "#A2B1C6"
            },
            "baxis": {
             "endlinecolor": "#A2B1C6",
             "gridcolor": "#506784",
             "linecolor": "#506784",
             "minorgridcolor": "#506784",
             "startlinecolor": "#A2B1C6"
            },
            "type": "carpet"
           }
          ],
          "choropleth": [
           {
            "colorbar": {
             "outlinewidth": 0,
             "ticks": ""
            },
            "type": "choropleth"
           }
          ],
          "contour": [
           {
            "colorbar": {
             "outlinewidth": 0,
             "ticks": ""
            },
            "colorscale": [
             [
              0,
              "#0d0887"
             ],
             [
              0.1111111111111111,
              "#46039f"
             ],
             [
              0.2222222222222222,
              "#7201a8"
             ],
             [
              0.3333333333333333,
              "#9c179e"
             ],
             [
              0.4444444444444444,
              "#bd3786"
             ],
             [
              0.5555555555555556,
              "#d8576b"
             ],
             [
              0.6666666666666666,
              "#ed7953"
             ],
             [
              0.7777777777777778,
              "#fb9f3a"
             ],
             [
              0.8888888888888888,
              "#fdca26"
             ],
             [
              1,
              "#f0f921"
             ]
            ],
            "type": "contour"
           }
          ],
          "contourcarpet": [
           {
            "colorbar": {
             "outlinewidth": 0,
             "ticks": ""
            },
            "type": "contourcarpet"
           }
          ],
          "heatmap": [
           {
            "colorbar": {
             "outlinewidth": 0,
             "ticks": ""
            },
            "colorscale": [
             [
              0,
              "#0d0887"
             ],
             [
              0.1111111111111111,
              "#46039f"
             ],
             [
              0.2222222222222222,
              "#7201a8"
             ],
             [
              0.3333333333333333,
              "#9c179e"
             ],
             [
              0.4444444444444444,
              "#bd3786"
             ],
             [
              0.5555555555555556,
              "#d8576b"
             ],
             [
              0.6666666666666666,
              "#ed7953"
             ],
             [
              0.7777777777777778,
              "#fb9f3a"
             ],
             [
              0.8888888888888888,
              "#fdca26"
             ],
             [
              1,
              "#f0f921"
             ]
            ],
            "type": "heatmap"
           }
          ],
          "heatmapgl": [
           {
            "colorbar": {
             "outlinewidth": 0,
             "ticks": ""
            },
            "colorscale": [
             [
              0,
              "#0d0887"
             ],
             [
              0.1111111111111111,
              "#46039f"
             ],
             [
              0.2222222222222222,
              "#7201a8"
             ],
             [
              0.3333333333333333,
              "#9c179e"
             ],
             [
              0.4444444444444444,
              "#bd3786"
             ],
             [
              0.5555555555555556,
              "#d8576b"
             ],
             [
              0.6666666666666666,
              "#ed7953"
             ],
             [
              0.7777777777777778,
              "#fb9f3a"
             ],
             [
              0.8888888888888888,
              "#fdca26"
             ],
             [
              1,
              "#f0f921"
             ]
            ],
            "type": "heatmapgl"
           }
          ],
          "histogram": [
           {
            "marker": {
             "pattern": {
              "fillmode": "overlay",
              "size": 10,
              "solidity": 0.2
             }
            },
            "type": "histogram"
           }
          ],
          "histogram2d": [
           {
            "colorbar": {
             "outlinewidth": 0,
             "ticks": ""
            },
            "colorscale": [
             [
              0,
              "#0d0887"
             ],
             [
              0.1111111111111111,
              "#46039f"
             ],
             [
              0.2222222222222222,
              "#7201a8"
             ],
             [
              0.3333333333333333,
              "#9c179e"
             ],
             [
              0.4444444444444444,
              "#bd3786"
             ],
             [
              0.5555555555555556,
              "#d8576b"
             ],
             [
              0.6666666666666666,
              "#ed7953"
             ],
             [
              0.7777777777777778,
              "#fb9f3a"
             ],
             [
              0.8888888888888888,
              "#fdca26"
             ],
             [
              1,
              "#f0f921"
             ]
            ],
            "type": "histogram2d"
           }
          ],
          "histogram2dcontour": [
           {
            "colorbar": {
             "outlinewidth": 0,
             "ticks": ""
            },
            "colorscale": [
             [
              0,
              "#0d0887"
             ],
             [
              0.1111111111111111,
              "#46039f"
             ],
             [
              0.2222222222222222,
              "#7201a8"
             ],
             [
              0.3333333333333333,
              "#9c179e"
             ],
             [
              0.4444444444444444,
              "#bd3786"
             ],
             [
              0.5555555555555556,
              "#d8576b"
             ],
             [
              0.6666666666666666,
              "#ed7953"
             ],
             [
              0.7777777777777778,
              "#fb9f3a"
             ],
             [
              0.8888888888888888,
              "#fdca26"
             ],
             [
              1,
              "#f0f921"
             ]
            ],
            "type": "histogram2dcontour"
           }
          ],
          "mesh3d": [
           {
            "colorbar": {
             "outlinewidth": 0,
             "ticks": ""
            },
            "type": "mesh3d"
           }
          ],
          "parcoords": [
           {
            "line": {
             "colorbar": {
              "outlinewidth": 0,
              "ticks": ""
             }
            },
            "type": "parcoords"
           }
          ],
          "pie": [
           {
            "automargin": true,
            "type": "pie"
           }
          ],
          "scatter": [
           {
            "marker": {
             "line": {
              "color": "#283442"
             }
            },
            "type": "scatter"
           }
          ],
          "scatter3d": [
           {
            "line": {
             "colorbar": {
              "outlinewidth": 0,
              "ticks": ""
             }
            },
            "marker": {
             "colorbar": {
              "outlinewidth": 0,
              "ticks": ""
             }
            },
            "type": "scatter3d"
           }
          ],
          "scattercarpet": [
           {
            "marker": {
             "colorbar": {
              "outlinewidth": 0,
              "ticks": ""
             }
            },
            "type": "scattercarpet"
           }
          ],
          "scattergeo": [
           {
            "marker": {
             "colorbar": {
              "outlinewidth": 0,
              "ticks": ""
             }
            },
            "type": "scattergeo"
           }
          ],
          "scattergl": [
           {
            "marker": {
             "line": {
              "color": "#283442"
             }
            },
            "type": "scattergl"
           }
          ],
          "scattermapbox": [
           {
            "marker": {
             "colorbar": {
              "outlinewidth": 0,
              "ticks": ""
             }
            },
            "type": "scattermapbox"
           }
          ],
          "scatterpolar": [
           {
            "marker": {
             "colorbar": {
              "outlinewidth": 0,
              "ticks": ""
             }
            },
            "type": "scatterpolar"
           }
          ],
          "scatterpolargl": [
           {
            "marker": {
             "colorbar": {
              "outlinewidth": 0,
              "ticks": ""
             }
            },
            "type": "scatterpolargl"
           }
          ],
          "scatterternary": [
           {
            "marker": {
             "colorbar": {
              "outlinewidth": 0,
              "ticks": ""
             }
            },
            "type": "scatterternary"
           }
          ],
          "surface": [
           {
            "colorbar": {
             "outlinewidth": 0,
             "ticks": ""
            },
            "colorscale": [
             [
              0,
              "#0d0887"
             ],
             [
              0.1111111111111111,
              "#46039f"
             ],
             [
              0.2222222222222222,
              "#7201a8"
             ],
             [
              0.3333333333333333,
              "#9c179e"
             ],
             [
              0.4444444444444444,
              "#bd3786"
             ],
             [
              0.5555555555555556,
              "#d8576b"
             ],
             [
              0.6666666666666666,
              "#ed7953"
             ],
             [
              0.7777777777777778,
              "#fb9f3a"
             ],
             [
              0.8888888888888888,
              "#fdca26"
             ],
             [
              1,
              "#f0f921"
             ]
            ],
            "type": "surface"
           }
          ],
          "table": [
           {
            "cells": {
             "fill": {
              "color": "#506784"
             },
             "line": {
              "color": "rgb(17,17,17)"
             }
            },
            "header": {
             "fill": {
              "color": "#2a3f5f"
             },
             "line": {
              "color": "rgb(17,17,17)"
             }
            },
            "type": "table"
           }
          ]
         },
         "layout": {
          "annotationdefaults": {
           "arrowcolor": "#f2f5fa",
           "arrowhead": 0,
           "arrowwidth": 1
          },
          "autotypenumbers": "strict",
          "coloraxis": {
           "colorbar": {
            "outlinewidth": 0,
            "ticks": ""
           }
          },
          "colorscale": {
           "diverging": [
            [
             0,
             "#8e0152"
            ],
            [
             0.1,
             "#c51b7d"
            ],
            [
             0.2,
             "#de77ae"
            ],
            [
             0.3,
             "#f1b6da"
            ],
            [
             0.4,
             "#fde0ef"
            ],
            [
             0.5,
             "#f7f7f7"
            ],
            [
             0.6,
             "#e6f5d0"
            ],
            [
             0.7,
             "#b8e186"
            ],
            [
             0.8,
             "#7fbc41"
            ],
            [
             0.9,
             "#4d9221"
            ],
            [
             1,
             "#276419"
            ]
           ],
           "sequential": [
            [
             0,
             "#0d0887"
            ],
            [
             0.1111111111111111,
             "#46039f"
            ],
            [
             0.2222222222222222,
             "#7201a8"
            ],
            [
             0.3333333333333333,
             "#9c179e"
            ],
            [
             0.4444444444444444,
             "#bd3786"
            ],
            [
             0.5555555555555556,
             "#d8576b"
            ],
            [
             0.6666666666666666,
             "#ed7953"
            ],
            [
             0.7777777777777778,
             "#fb9f3a"
            ],
            [
             0.8888888888888888,
             "#fdca26"
            ],
            [
             1,
             "#f0f921"
            ]
           ],
           "sequentialminus": [
            [
             0,
             "#0d0887"
            ],
            [
             0.1111111111111111,
             "#46039f"
            ],
            [
             0.2222222222222222,
             "#7201a8"
            ],
            [
             0.3333333333333333,
             "#9c179e"
            ],
            [
             0.4444444444444444,
             "#bd3786"
            ],
            [
             0.5555555555555556,
             "#d8576b"
            ],
            [
             0.6666666666666666,
             "#ed7953"
            ],
            [
             0.7777777777777778,
             "#fb9f3a"
            ],
            [
             0.8888888888888888,
             "#fdca26"
            ],
            [
             1,
             "#f0f921"
            ]
           ]
          },
          "colorway": [
           "#636efa",
           "#EF553B",
           "#00cc96",
           "#ab63fa",
           "#FFA15A",
           "#19d3f3",
           "#FF6692",
           "#B6E880",
           "#FF97FF",
           "#FECB52"
          ],
          "font": {
           "color": "#f2f5fa"
          },
          "geo": {
           "bgcolor": "rgb(17,17,17)",
           "lakecolor": "rgb(17,17,17)",
           "landcolor": "rgb(17,17,17)",
           "showlakes": true,
           "showland": true,
           "subunitcolor": "#506784"
          },
          "hoverlabel": {
           "align": "left"
          },
          "hovermode": "closest",
          "mapbox": {
           "style": "dark"
          },
          "paper_bgcolor": "rgb(17,17,17)",
          "plot_bgcolor": "rgb(17,17,17)",
          "polar": {
           "angularaxis": {
            "gridcolor": "#506784",
            "linecolor": "#506784",
            "ticks": ""
           },
           "bgcolor": "rgb(17,17,17)",
           "radialaxis": {
            "gridcolor": "#506784",
            "linecolor": "#506784",
            "ticks": ""
           }
          },
          "scene": {
           "xaxis": {
            "backgroundcolor": "rgb(17,17,17)",
            "gridcolor": "#506784",
            "gridwidth": 2,
            "linecolor": "#506784",
            "showbackground": true,
            "ticks": "",
            "zerolinecolor": "#C8D4E3"
           },
           "yaxis": {
            "backgroundcolor": "rgb(17,17,17)",
            "gridcolor": "#506784",
            "gridwidth": 2,
            "linecolor": "#506784",
            "showbackground": true,
            "ticks": "",
            "zerolinecolor": "#C8D4E3"
           },
           "zaxis": {
            "backgroundcolor": "rgb(17,17,17)",
            "gridcolor": "#506784",
            "gridwidth": 2,
            "linecolor": "#506784",
            "showbackground": true,
            "ticks": "",
            "zerolinecolor": "#C8D4E3"
           }
          },
          "shapedefaults": {
           "line": {
            "color": "#f2f5fa"
           }
          },
          "sliderdefaults": {
           "bgcolor": "#C8D4E3",
           "bordercolor": "rgb(17,17,17)",
           "borderwidth": 1,
           "tickwidth": 0
          },
          "ternary": {
           "aaxis": {
            "gridcolor": "#506784",
            "linecolor": "#506784",
            "ticks": ""
           },
           "baxis": {
            "gridcolor": "#506784",
            "linecolor": "#506784",
            "ticks": ""
           },
           "bgcolor": "rgb(17,17,17)",
           "caxis": {
            "gridcolor": "#506784",
            "linecolor": "#506784",
            "ticks": ""
           }
          },
          "title": {
           "x": 0.05
          },
          "updatemenudefaults": {
           "bgcolor": "#506784",
           "borderwidth": 0
          },
          "xaxis": {
           "automargin": true,
           "gridcolor": "#283442",
           "linecolor": "#506784",
           "ticks": "",
           "title": {
            "standoff": 15
           },
           "zerolinecolor": "#283442",
           "zerolinewidth": 2
          },
          "yaxis": {
           "automargin": true,
           "gridcolor": "#283442",
           "linecolor": "#506784",
           "ticks": "",
           "title": {
            "standoff": 15
           },
           "zerolinecolor": "#283442",
           "zerolinewidth": 2
          }
         }
        },
        "title": {
         "text": "Top 25 3 point shooting percentages by season",
         "x": 0.5
        },
        "width": 900,
        "xaxis": {
         "anchor": "y",
         "domain": [
          0,
          1
         ],
         "title": {
          "text": "Season"
         }
        },
        "yaxis": {
         "anchor": "x",
         "domain": [
          0,
          1
         ],
         "title": {
          "text": "3FG%"
         }
        }
       }
      }
     },
     "metadata": {},
     "output_type": "display_data"
    }
   ],
   "source": [
    "q = \"\"\"\n",
    "    SELECT season, fga3, fg3_percent, season_rank\n",
    "    FROM (  SELECT player_shooting.*,\n",
    "                row_number() OVER (PARTITION BY season ORDER BY fg3_percent DESC) AS season_rank\n",
    "            FROM player_shooting \n",
    "            NATURAL JOIN player_info\n",
    "            WHERE games_played > 10 AND fgm3 >= 1\n",
    "          ) player_shooting\n",
    "    WHERE season_rank >= 1 AND season_rank <= 25\n",
    "\"\"\"\n",
    "\n",
    "\n",
    "result = read_query(connection, q, None)\n",
    "df = pd.DataFrame(result, columns=['Season', '3fga', '3fg%', 'season rank'])\n",
    "\n",
    "\n",
    "fig = px.scatter(df, 'Season', '3fg%', size=df['3fga']**2, color='season rank')\n",
    "fig.update_layout(template=\"plotly_dark\",\n",
    "                  width=900,\n",
    "                  height=600,\n",
    "                  title='Top 25 3 point shooting percentages by season',\n",
    "                  xaxis_title='Season',\n",
    "                  yaxis_title='3FG%',\n",
    "                  title_x=0.5)\n",
    "fig.show()\n",
    "\n",
    "#save Figure as jpg image\n",
    "fig.write_image(\"images/ind_top25_3fg_pct_by_season.jpeg\")\n"
   ]
  },
  {
   "attachments": {},
   "cell_type": "markdown",
   "metadata": {},
   "source": [
    "Key take aways from above:\n",
    "- 2010 - 2012 contain the highest percentages, but mainly achieved on fewer attempts per game (smaller dot sizes)\n",
    "- 2014 - poor shooting season, top 10 vary between ~47% and ~38%, only season to have those shooting below 35% make the top 25\n",
    "- comparing 2022 and 2023 to 2012, more of the top shooters are taking more attempts\n",
    "- number of players shooting > 40% from three decreased between 2014 and 2020 (with the exception of 2016) but increased in 2022\n"
   ]
  },
  {
   "cell_type": "code",
   "execution_count": 11,
   "metadata": {},
   "outputs": [
    {
     "data": {
      "application/vnd.plotly.v1+json": {
       "config": {
        "plotlyServerURL": "https://plot.ly"
       },
       "data": [
        {
         "alignmentgroup": "True",
         "box": {
          "visible": true
         },
         "customdata": [
          [
           2.4,
           1
          ],
          [
           2.3,
           2
          ],
          [
           3.1,
           3
          ],
          [
           3.5,
           4
          ],
          [
           3.8,
           5
          ],
          [
           3.2,
           6
          ],
          [
           4,
           7
          ],
          [
           3.5,
           8
          ],
          [
           5.2,
           9
          ],
          [
           5.4,
           10
          ],
          [
           3.3,
           11
          ],
          [
           7,
           12
          ],
          [
           3,
           13
          ],
          [
           3.3,
           14
          ],
          [
           6.3,
           15
          ],
          [
           5.5,
           16
          ],
          [
           4.5,
           17
          ],
          [
           5.4,
           18
          ],
          [
           2.6,
           19
          ],
          [
           6.1,
           20
          ],
          [
           6.5,
           21
          ],
          [
           4.3,
           22
          ],
          [
           3.3,
           23
          ],
          [
           5.1,
           24
          ],
          [
           6.6,
           25
          ],
          [
           2,
           1
          ],
          [
           5.5,
           2
          ],
          [
           4.6,
           3
          ],
          [
           3.4,
           4
          ],
          [
           4.4,
           5
          ],
          [
           4,
           6
          ],
          [
           3.9,
           7
          ],
          [
           4.3,
           8
          ],
          [
           7.6,
           9
          ],
          [
           3.3,
           10
          ],
          [
           2.4,
           11
          ],
          [
           6.2,
           12
          ],
          [
           4,
           13
          ],
          [
           5.2,
           14
          ],
          [
           5.1,
           15
          ],
          [
           5,
           16
          ],
          [
           5.6,
           17
          ],
          [
           7.8,
           18
          ],
          [
           5.6,
           19
          ],
          [
           4,
           20
          ],
          [
           2.6,
           21
          ],
          [
           4,
           22
          ],
          [
           2.7,
           23
          ],
          [
           3.6,
           24
          ],
          [
           5,
           25
          ],
          [
           2.5,
           1
          ],
          [
           4.2,
           2
          ],
          [
           3.3,
           3
          ],
          [
           2.2,
           4
          ],
          [
           3.5,
           5
          ],
          [
           3.5,
           6
          ],
          [
           5.8,
           7
          ],
          [
           5,
           8
          ],
          [
           2.6,
           9
          ],
          [
           3,
           10
          ],
          [
           2.9,
           11
          ],
          [
           3.1,
           12
          ],
          [
           3.7,
           13
          ],
          [
           5.1,
           14
          ],
          [
           2.7,
           15
          ],
          [
           4,
           16
          ],
          [
           3.6,
           17
          ],
          [
           3.9,
           18
          ],
          [
           2.5,
           19
          ],
          [
           3.6,
           20
          ],
          [
           3.2,
           21
          ],
          [
           7,
           22
          ],
          [
           4.4,
           23
          ],
          [
           3.5,
           24
          ],
          [
           6.2,
           25
          ],
          [
           6.3,
           1
          ],
          [
           2.4,
           2
          ],
          [
           4.2,
           3
          ],
          [
           2.6,
           4
          ],
          [
           2.7,
           5
          ],
          [
           4.3,
           6
          ],
          [
           2.4,
           7
          ],
          [
           3.1,
           8
          ],
          [
           5.5,
           9
          ],
          [
           6.9,
           10
          ],
          [
           5.4,
           11
          ],
          [
           3.3,
           12
          ],
          [
           4.6,
           13
          ],
          [
           2.8,
           14
          ],
          [
           4.2,
           15
          ],
          [
           3.1,
           16
          ],
          [
           4.5,
           17
          ],
          [
           3.2,
           18
          ],
          [
           6.1,
           19
          ],
          [
           4.2,
           20
          ],
          [
           4,
           21
          ],
          [
           3.9,
           22
          ],
          [
           4,
           23
          ],
          [
           5.3,
           24
          ],
          [
           5,
           25
          ],
          [
           2.9,
           1
          ],
          [
           6,
           2
          ],
          [
           5.8,
           3
          ],
          [
           2.9,
           4
          ],
          [
           5.2,
           5
          ],
          [
           6.6,
           6
          ],
          [
           4.5,
           7
          ],
          [
           2.4,
           8
          ],
          [
           5.3,
           9
          ],
          [
           5.4,
           10
          ],
          [
           3.1,
           11
          ],
          [
           3.5,
           12
          ],
          [
           5.3,
           13
          ],
          [
           2.9,
           14
          ],
          [
           2.8,
           15
          ],
          [
           3.5,
           16
          ],
          [
           5,
           17
          ],
          [
           4,
           18
          ],
          [
           3.9,
           19
          ],
          [
           5.7,
           20
          ],
          [
           3.4,
           21
          ],
          [
           3.9,
           22
          ],
          [
           6.3,
           23
          ],
          [
           4.6,
           24
          ],
          [
           5.1,
           25
          ],
          [
           3.6,
           1
          ],
          [
           4,
           2
          ],
          [
           2.2,
           3
          ],
          [
           4.2,
           4
          ],
          [
           4.2,
           5
          ],
          [
           3.2,
           6
          ],
          [
           4.3,
           7
          ],
          [
           5.5,
           8
          ],
          [
           4.3,
           9
          ],
          [
           2.6,
           10
          ],
          [
           3.2,
           11
          ],
          [
           7.8,
           12
          ],
          [
           4.2,
           13
          ],
          [
           2.8,
           14
          ],
          [
           3.2,
           15
          ],
          [
           3.2,
           16
          ],
          [
           6.5,
           17
          ],
          [
           3,
           18
          ],
          [
           5,
           19
          ],
          [
           4,
           20
          ],
          [
           7.9,
           21
          ],
          [
           3,
           22
          ],
          [
           3.1,
           23
          ],
          [
           4.3,
           24
          ],
          [
           2.8,
           25
          ],
          [
           4,
           1
          ],
          [
           2.8,
           2
          ],
          [
           6.3,
           3
          ],
          [
           3.9,
           4
          ],
          [
           3.2,
           5
          ],
          [
           4.9,
           6
          ],
          [
           3.5,
           7
          ],
          [
           5.2,
           8
          ],
          [
           4.3,
           9
          ],
          [
           2.6,
           10
          ],
          [
           5.3,
           11
          ],
          [
           6.3,
           12
          ],
          [
           4,
           13
          ],
          [
           2.8,
           14
          ],
          [
           3.2,
           15
          ],
          [
           2.5,
           16
          ],
          [
           2.9,
           17
          ],
          [
           4.9,
           18
          ],
          [
           3.9,
           19
          ],
          [
           6,
           20
          ],
          [
           4,
           21
          ],
          [
           7.4,
           22
          ],
          [
           8,
           23
          ],
          [
           2.9,
           24
          ],
          [
           6.2,
           25
          ],
          [
           5.2,
           1
          ],
          [
           2.3,
           2
          ],
          [
           5.8,
           3
          ],
          [
           4.4,
           4
          ],
          [
           7.2,
           5
          ],
          [
           2.5,
           6
          ],
          [
           3.5,
           7
          ],
          [
           7.5,
           8
          ],
          [
           6.8,
           9
          ],
          [
           3.2,
           10
          ],
          [
           5.8,
           11
          ],
          [
           4.9,
           12
          ],
          [
           7.2,
           13
          ],
          [
           3.3,
           14
          ],
          [
           3.2,
           15
          ],
          [
           3.6,
           16
          ],
          [
           6,
           17
          ],
          [
           2.7,
           18
          ],
          [
           7.7,
           19
          ],
          [
           4.2,
           20
          ],
          [
           4.8,
           21
          ],
          [
           3.9,
           22
          ],
          [
           4.3,
           23
          ],
          [
           4.6,
           24
          ],
          [
           5.3,
           25
          ],
          [
           3.4,
           1
          ],
          [
           5.6,
           2
          ],
          [
           3.2,
           3
          ],
          [
           7.3,
           4
          ],
          [
           5.7,
           5
          ],
          [
           7.2,
           6
          ],
          [
           5.3,
           7
          ],
          [
           4.4,
           8
          ],
          [
           3.9,
           9
          ],
          [
           4.4,
           10
          ],
          [
           4.3,
           11
          ],
          [
           5.6,
           12
          ],
          [
           2.4,
           13
          ],
          [
           3.2,
           14
          ],
          [
           2.6,
           15
          ],
          [
           3.6,
           16
          ],
          [
           6.2,
           17
          ],
          [
           3.8,
           18
          ],
          [
           3.1,
           19
          ],
          [
           2.8,
           20
          ],
          [
           3.4,
           21
          ],
          [
           4.2,
           22
          ],
          [
           3.9,
           23
          ],
          [
           4.8,
           24
          ],
          [
           6.3,
           25
          ],
          [
           3.6,
           1
          ],
          [
           5.3,
           2
          ],
          [
           3.6,
           3
          ],
          [
           7.8,
           4
          ],
          [
           2.9,
           5
          ],
          [
           4,
           6
          ],
          [
           3.8,
           7
          ],
          [
           5.1,
           8
          ],
          [
           4.8,
           9
          ],
          [
           3.2,
           10
          ],
          [
           3.8,
           11
          ],
          [
           3.3,
           12
          ],
          [
           2.7,
           13
          ],
          [
           3.5,
           14
          ],
          [
           5.1,
           15
          ],
          [
           5.4,
           16
          ],
          [
           5,
           17
          ],
          [
           2.5,
           18
          ],
          [
           7,
           19
          ],
          [
           3.4,
           20
          ],
          [
           5.6,
           21
          ],
          [
           5.6,
           22
          ],
          [
           3.8,
           23
          ],
          [
           4.2,
           24
          ],
          [
           7.4,
           25
          ],
          [
           3.3,
           1
          ],
          [
           4.2,
           2
          ],
          [
           5.5,
           3
          ],
          [
           4.8,
           4
          ],
          [
           6.6,
           5
          ],
          [
           4.1,
           6
          ],
          [
           4.7,
           7
          ],
          [
           4.9,
           8
          ],
          [
           3.8,
           9
          ],
          [
           7.5,
           10
          ],
          [
           4.9,
           11
          ],
          [
           3.6,
           12
          ],
          [
           5,
           13
          ],
          [
           6,
           14
          ],
          [
           4.8,
           15
          ],
          [
           4.2,
           16
          ],
          [
           6.8,
           17
          ],
          [
           3.5,
           18
          ],
          [
           3.5,
           19
          ],
          [
           3.4,
           20
          ],
          [
           3.1,
           21
          ],
          [
           5.2,
           22
          ],
          [
           6,
           23
          ],
          [
           4,
           24
          ],
          [
           6.2,
           25
          ],
          [
           2.7,
           1
          ],
          [
           3.8,
           2
          ],
          [
           2.6,
           3
          ],
          [
           4.9,
           4
          ],
          [
           8.8,
           5
          ],
          [
           5.2,
           6
          ],
          [
           2.8,
           7
          ],
          [
           3.8,
           8
          ],
          [
           2.5,
           9
          ],
          [
           6.2,
           10
          ],
          [
           3.4,
           11
          ],
          [
           5,
           12
          ],
          [
           4.7,
           13
          ],
          [
           5.6,
           14
          ],
          [
           4.9,
           15
          ],
          [
           4.8,
           16
          ],
          [
           3.4,
           17
          ],
          [
           3.4,
           18
          ],
          [
           6.1,
           19
          ],
          [
           2.6,
           20
          ],
          [
           3.9,
           21
          ],
          [
           5.2,
           22
          ],
          [
           6.2,
           23
          ],
          [
           3.8,
           24
          ],
          [
           6,
           25
          ],
          [
           4.2,
           1
          ],
          [
           3,
           2
          ],
          [
           3.9,
           3
          ],
          [
           3.7,
           4
          ],
          [
           6.4,
           5
          ],
          [
           5.5,
           6
          ],
          [
           6.2,
           7
          ],
          [
           5.5,
           8
          ],
          [
           4.5,
           9
          ],
          [
           5.1,
           10
          ],
          [
           5.2,
           11
          ],
          [
           7,
           12
          ],
          [
           5.7,
           13
          ],
          [
           2.8,
           14
          ],
          [
           5.3,
           15
          ],
          [
           7.4,
           16
          ],
          [
           7.3,
           17
          ],
          [
           3.6,
           18
          ],
          [
           3.8,
           19
          ],
          [
           2.8,
           20
          ],
          [
           5.7,
           21
          ],
          [
           3.6,
           22
          ],
          [
           6.5,
           23
          ],
          [
           3,
           24
          ],
          [
           5.3,
           25
          ]
         ],
         "hovertemplate": "Season=%{x}<br>3fg%=%{y}<br>3fga=%{customdata[0]}<br>season rank=%{customdata[1]}<extra></extra>",
         "legendgroup": "",
         "marker": {
          "color": "#636efa"
         },
         "name": "",
         "offsetgroup": "",
         "orientation": "v",
         "points": "all",
         "scalegroup": "True",
         "showlegend": false,
         "type": "violin",
         "x": [
          2010,
          2010,
          2010,
          2010,
          2010,
          2010,
          2010,
          2010,
          2010,
          2010,
          2010,
          2010,
          2010,
          2010,
          2010,
          2010,
          2010,
          2010,
          2010,
          2010,
          2010,
          2010,
          2010,
          2010,
          2010,
          2011,
          2011,
          2011,
          2011,
          2011,
          2011,
          2011,
          2011,
          2011,
          2011,
          2011,
          2011,
          2011,
          2011,
          2011,
          2011,
          2011,
          2011,
          2011,
          2011,
          2011,
          2011,
          2011,
          2011,
          2011,
          2012,
          2012,
          2012,
          2012,
          2012,
          2012,
          2012,
          2012,
          2012,
          2012,
          2012,
          2012,
          2012,
          2012,
          2012,
          2012,
          2012,
          2012,
          2012,
          2012,
          2012,
          2012,
          2012,
          2012,
          2012,
          2013,
          2013,
          2013,
          2013,
          2013,
          2013,
          2013,
          2013,
          2013,
          2013,
          2013,
          2013,
          2013,
          2013,
          2013,
          2013,
          2013,
          2013,
          2013,
          2013,
          2013,
          2013,
          2013,
          2013,
          2013,
          2014,
          2014,
          2014,
          2014,
          2014,
          2014,
          2014,
          2014,
          2014,
          2014,
          2014,
          2014,
          2014,
          2014,
          2014,
          2014,
          2014,
          2014,
          2014,
          2014,
          2014,
          2014,
          2014,
          2014,
          2014,
          2015,
          2015,
          2015,
          2015,
          2015,
          2015,
          2015,
          2015,
          2015,
          2015,
          2015,
          2015,
          2015,
          2015,
          2015,
          2015,
          2015,
          2015,
          2015,
          2015,
          2015,
          2015,
          2015,
          2015,
          2015,
          2016,
          2016,
          2016,
          2016,
          2016,
          2016,
          2016,
          2016,
          2016,
          2016,
          2016,
          2016,
          2016,
          2016,
          2016,
          2016,
          2016,
          2016,
          2016,
          2016,
          2016,
          2016,
          2016,
          2016,
          2016,
          2017,
          2017,
          2017,
          2017,
          2017,
          2017,
          2017,
          2017,
          2017,
          2017,
          2017,
          2017,
          2017,
          2017,
          2017,
          2017,
          2017,
          2017,
          2017,
          2017,
          2017,
          2017,
          2017,
          2017,
          2017,
          2018,
          2018,
          2018,
          2018,
          2018,
          2018,
          2018,
          2018,
          2018,
          2018,
          2018,
          2018,
          2018,
          2018,
          2018,
          2018,
          2018,
          2018,
          2018,
          2018,
          2018,
          2018,
          2018,
          2018,
          2018,
          2019,
          2019,
          2019,
          2019,
          2019,
          2019,
          2019,
          2019,
          2019,
          2019,
          2019,
          2019,
          2019,
          2019,
          2019,
          2019,
          2019,
          2019,
          2019,
          2019,
          2019,
          2019,
          2019,
          2019,
          2019,
          2020,
          2020,
          2020,
          2020,
          2020,
          2020,
          2020,
          2020,
          2020,
          2020,
          2020,
          2020,
          2020,
          2020,
          2020,
          2020,
          2020,
          2020,
          2020,
          2020,
          2020,
          2020,
          2020,
          2020,
          2020,
          2022,
          2022,
          2022,
          2022,
          2022,
          2022,
          2022,
          2022,
          2022,
          2022,
          2022,
          2022,
          2022,
          2022,
          2022,
          2022,
          2022,
          2022,
          2022,
          2022,
          2022,
          2022,
          2022,
          2022,
          2022,
          2023,
          2023,
          2023,
          2023,
          2023,
          2023,
          2023,
          2023,
          2023,
          2023,
          2023,
          2023,
          2023,
          2023,
          2023,
          2023,
          2023,
          2023,
          2023,
          2023,
          2023,
          2023,
          2023,
          2023,
          2023
         ],
         "x0": " ",
         "xaxis": "x",
         "y": [
          50,
          50,
          46.6,
          43.7,
          43.5,
          43.3,
          43,
          42.9,
          42.3,
          41.4,
          40.9,
          40.8,
          40.7,
          40.6,
          40.5,
          40.4,
          40.4,
          40.4,
          39.7,
          39.6,
          37.8,
          37.7,
          36.4,
          36.3,
          36.3,
          52.5,
          48.4,
          46.4,
          46.3,
          45.5,
          44.3,
          43.5,
          43.3,
          43.1,
          42.9,
          42.2,
          41.9,
          41.7,
          41.6,
          41.2,
          41.1,
          40.6,
          40.3,
          40.3,
          39.8,
          39.6,
          39.2,
          38.9,
          38.9,
          38.8,
          51.8,
          51.5,
          51,
          50,
          49.3,
          43.7,
          43.6,
          43.4,
          42.6,
          42.4,
          42.2,
          41.3,
          40.7,
          40.7,
          40.7,
          40.5,
          40.3,
          40.3,
          40,
          39.7,
          39.6,
          39.3,
          39.2,
          39.1,
          39,
          46.4,
          46.2,
          44.8,
          44.7,
          44.4,
          44.4,
          44.1,
          41.9,
          41.7,
          41.1,
          40.7,
          40.3,
          40.2,
          40,
          39.8,
          39.7,
          39.6,
          39.2,
          39.2,
          39.1,
          39.1,
          39,
          38.3,
          38.3,
          38.1,
          46.8,
          46.2,
          43.5,
          41.4,
          40.4,
          40.2,
          39.8,
          39.2,
          39.1,
          37.8,
          36.8,
          36.4,
          36.2,
          36.2,
          36.2,
          35.9,
          35.8,
          35.6,
          35.3,
          35.2,
          35.1,
          35.1,
          34.5,
          34.4,
          34.3,
          47.2,
          45.3,
          44.8,
          43.4,
          42.9,
          42.2,
          41.9,
          40.5,
          39.7,
          39.6,
          39.3,
          38.9,
          38.8,
          38.6,
          38.5,
          38.3,
          38,
          37.7,
          37.6,
          37.5,
          37.3,
          36.7,
          36.7,
          36.6,
          36.4,
          47.4,
          45.8,
          44.2,
          43.6,
          42.6,
          42.3,
          41.8,
          41.7,
          41.4,
          41.3,
          41.1,
          40.9,
          40.7,
          40,
          39.7,
          39.6,
          39.1,
          38.8,
          38.7,
          38.1,
          37.5,
          37.2,
          36.9,
          36.8,
          36.6,
          47.6,
          45.7,
          42.6,
          42.3,
          42.1,
          41.2,
          40.7,
          39.3,
          39.2,
          39.1,
          39.1,
          39,
          38.9,
          38.7,
          37.3,
          37,
          37,
          36.7,
          36.4,
          36,
          35.9,
          35.9,
          35.6,
          35.6,
          35.5,
          46.2,
          45.8,
          43.3,
          41.8,
          41.3,
          40.3,
          40.2,
          39.8,
          39.7,
          39.6,
          39.3,
          39.3,
          39.2,
          39.1,
          38.9,
          38.4,
          38.2,
          38,
          37.9,
          37.7,
          37.3,
          37.3,
          37.1,
          37.1,
          37,
          45.2,
          43.4,
          43.1,
          42.7,
          42.1,
          41.3,
          41,
          41,
          40,
          40,
          39.5,
          39.4,
          39.2,
          39.1,
          39,
          38.9,
          38.8,
          38.6,
          38.3,
          38.2,
          38.1,
          37.9,
          37.7,
          37.3,
          37.2,
          47,
          44.4,
          43.6,
          43,
          40.2,
          40.2,
          39.8,
          39.8,
          39.5,
          39.3,
          39.3,
          39.3,
          38.7,
          38.3,
          38.1,
          38.1,
          37.8,
          37.7,
          37.7,
          37.3,
          37.1,
          37.1,
          37,
          37,
          36.8,
          46.7,
          45.2,
          44.1,
          44.1,
          44,
          43.4,
          43.2,
          42.6,
          42.5,
          41.9,
          41.8,
          41.5,
          41.3,
          41,
          40.6,
          39.7,
          39,
          38.9,
          38.8,
          38.7,
          38.3,
          38.1,
          38,
          38,
          37.5,
          48.4,
          47.6,
          44.9,
          44.6,
          44.5,
          44,
          42.4,
          41.7,
          41.6,
          40.2,
          40,
          39.8,
          39.5,
          39.4,
          39,
          38.7,
          38.5,
          38.4,
          38.2,
          38.2,
          37.7,
          37.5,
          37.1,
          37,
          37
         ],
         "y0": " ",
         "yaxis": "y"
        }
       ],
       "layout": {
        "legend": {
         "tracegroupgap": 0
        },
        "margin": {
         "t": 60
        },
        "template": {
         "data": {
          "bar": [
           {
            "error_x": {
             "color": "#f2f5fa"
            },
            "error_y": {
             "color": "#f2f5fa"
            },
            "marker": {
             "line": {
              "color": "rgb(17,17,17)",
              "width": 0.5
             },
             "pattern": {
              "fillmode": "overlay",
              "size": 10,
              "solidity": 0.2
             }
            },
            "type": "bar"
           }
          ],
          "barpolar": [
           {
            "marker": {
             "line": {
              "color": "rgb(17,17,17)",
              "width": 0.5
             },
             "pattern": {
              "fillmode": "overlay",
              "size": 10,
              "solidity": 0.2
             }
            },
            "type": "barpolar"
           }
          ],
          "carpet": [
           {
            "aaxis": {
             "endlinecolor": "#A2B1C6",
             "gridcolor": "#506784",
             "linecolor": "#506784",
             "minorgridcolor": "#506784",
             "startlinecolor": "#A2B1C6"
            },
            "baxis": {
             "endlinecolor": "#A2B1C6",
             "gridcolor": "#506784",
             "linecolor": "#506784",
             "minorgridcolor": "#506784",
             "startlinecolor": "#A2B1C6"
            },
            "type": "carpet"
           }
          ],
          "choropleth": [
           {
            "colorbar": {
             "outlinewidth": 0,
             "ticks": ""
            },
            "type": "choropleth"
           }
          ],
          "contour": [
           {
            "colorbar": {
             "outlinewidth": 0,
             "ticks": ""
            },
            "colorscale": [
             [
              0,
              "#0d0887"
             ],
             [
              0.1111111111111111,
              "#46039f"
             ],
             [
              0.2222222222222222,
              "#7201a8"
             ],
             [
              0.3333333333333333,
              "#9c179e"
             ],
             [
              0.4444444444444444,
              "#bd3786"
             ],
             [
              0.5555555555555556,
              "#d8576b"
             ],
             [
              0.6666666666666666,
              "#ed7953"
             ],
             [
              0.7777777777777778,
              "#fb9f3a"
             ],
             [
              0.8888888888888888,
              "#fdca26"
             ],
             [
              1,
              "#f0f921"
             ]
            ],
            "type": "contour"
           }
          ],
          "contourcarpet": [
           {
            "colorbar": {
             "outlinewidth": 0,
             "ticks": ""
            },
            "type": "contourcarpet"
           }
          ],
          "heatmap": [
           {
            "colorbar": {
             "outlinewidth": 0,
             "ticks": ""
            },
            "colorscale": [
             [
              0,
              "#0d0887"
             ],
             [
              0.1111111111111111,
              "#46039f"
             ],
             [
              0.2222222222222222,
              "#7201a8"
             ],
             [
              0.3333333333333333,
              "#9c179e"
             ],
             [
              0.4444444444444444,
              "#bd3786"
             ],
             [
              0.5555555555555556,
              "#d8576b"
             ],
             [
              0.6666666666666666,
              "#ed7953"
             ],
             [
              0.7777777777777778,
              "#fb9f3a"
             ],
             [
              0.8888888888888888,
              "#fdca26"
             ],
             [
              1,
              "#f0f921"
             ]
            ],
            "type": "heatmap"
           }
          ],
          "heatmapgl": [
           {
            "colorbar": {
             "outlinewidth": 0,
             "ticks": ""
            },
            "colorscale": [
             [
              0,
              "#0d0887"
             ],
             [
              0.1111111111111111,
              "#46039f"
             ],
             [
              0.2222222222222222,
              "#7201a8"
             ],
             [
              0.3333333333333333,
              "#9c179e"
             ],
             [
              0.4444444444444444,
              "#bd3786"
             ],
             [
              0.5555555555555556,
              "#d8576b"
             ],
             [
              0.6666666666666666,
              "#ed7953"
             ],
             [
              0.7777777777777778,
              "#fb9f3a"
             ],
             [
              0.8888888888888888,
              "#fdca26"
             ],
             [
              1,
              "#f0f921"
             ]
            ],
            "type": "heatmapgl"
           }
          ],
          "histogram": [
           {
            "marker": {
             "pattern": {
              "fillmode": "overlay",
              "size": 10,
              "solidity": 0.2
             }
            },
            "type": "histogram"
           }
          ],
          "histogram2d": [
           {
            "colorbar": {
             "outlinewidth": 0,
             "ticks": ""
            },
            "colorscale": [
             [
              0,
              "#0d0887"
             ],
             [
              0.1111111111111111,
              "#46039f"
             ],
             [
              0.2222222222222222,
              "#7201a8"
             ],
             [
              0.3333333333333333,
              "#9c179e"
             ],
             [
              0.4444444444444444,
              "#bd3786"
             ],
             [
              0.5555555555555556,
              "#d8576b"
             ],
             [
              0.6666666666666666,
              "#ed7953"
             ],
             [
              0.7777777777777778,
              "#fb9f3a"
             ],
             [
              0.8888888888888888,
              "#fdca26"
             ],
             [
              1,
              "#f0f921"
             ]
            ],
            "type": "histogram2d"
           }
          ],
          "histogram2dcontour": [
           {
            "colorbar": {
             "outlinewidth": 0,
             "ticks": ""
            },
            "colorscale": [
             [
              0,
              "#0d0887"
             ],
             [
              0.1111111111111111,
              "#46039f"
             ],
             [
              0.2222222222222222,
              "#7201a8"
             ],
             [
              0.3333333333333333,
              "#9c179e"
             ],
             [
              0.4444444444444444,
              "#bd3786"
             ],
             [
              0.5555555555555556,
              "#d8576b"
             ],
             [
              0.6666666666666666,
              "#ed7953"
             ],
             [
              0.7777777777777778,
              "#fb9f3a"
             ],
             [
              0.8888888888888888,
              "#fdca26"
             ],
             [
              1,
              "#f0f921"
             ]
            ],
            "type": "histogram2dcontour"
           }
          ],
          "mesh3d": [
           {
            "colorbar": {
             "outlinewidth": 0,
             "ticks": ""
            },
            "type": "mesh3d"
           }
          ],
          "parcoords": [
           {
            "line": {
             "colorbar": {
              "outlinewidth": 0,
              "ticks": ""
             }
            },
            "type": "parcoords"
           }
          ],
          "pie": [
           {
            "automargin": true,
            "type": "pie"
           }
          ],
          "scatter": [
           {
            "marker": {
             "line": {
              "color": "#283442"
             }
            },
            "type": "scatter"
           }
          ],
          "scatter3d": [
           {
            "line": {
             "colorbar": {
              "outlinewidth": 0,
              "ticks": ""
             }
            },
            "marker": {
             "colorbar": {
              "outlinewidth": 0,
              "ticks": ""
             }
            },
            "type": "scatter3d"
           }
          ],
          "scattercarpet": [
           {
            "marker": {
             "colorbar": {
              "outlinewidth": 0,
              "ticks": ""
             }
            },
            "type": "scattercarpet"
           }
          ],
          "scattergeo": [
           {
            "marker": {
             "colorbar": {
              "outlinewidth": 0,
              "ticks": ""
             }
            },
            "type": "scattergeo"
           }
          ],
          "scattergl": [
           {
            "marker": {
             "line": {
              "color": "#283442"
             }
            },
            "type": "scattergl"
           }
          ],
          "scattermapbox": [
           {
            "marker": {
             "colorbar": {
              "outlinewidth": 0,
              "ticks": ""
             }
            },
            "type": "scattermapbox"
           }
          ],
          "scatterpolar": [
           {
            "marker": {
             "colorbar": {
              "outlinewidth": 0,
              "ticks": ""
             }
            },
            "type": "scatterpolar"
           }
          ],
          "scatterpolargl": [
           {
            "marker": {
             "colorbar": {
              "outlinewidth": 0,
              "ticks": ""
             }
            },
            "type": "scatterpolargl"
           }
          ],
          "scatterternary": [
           {
            "marker": {
             "colorbar": {
              "outlinewidth": 0,
              "ticks": ""
             }
            },
            "type": "scatterternary"
           }
          ],
          "surface": [
           {
            "colorbar": {
             "outlinewidth": 0,
             "ticks": ""
            },
            "colorscale": [
             [
              0,
              "#0d0887"
             ],
             [
              0.1111111111111111,
              "#46039f"
             ],
             [
              0.2222222222222222,
              "#7201a8"
             ],
             [
              0.3333333333333333,
              "#9c179e"
             ],
             [
              0.4444444444444444,
              "#bd3786"
             ],
             [
              0.5555555555555556,
              "#d8576b"
             ],
             [
              0.6666666666666666,
              "#ed7953"
             ],
             [
              0.7777777777777778,
              "#fb9f3a"
             ],
             [
              0.8888888888888888,
              "#fdca26"
             ],
             [
              1,
              "#f0f921"
             ]
            ],
            "type": "surface"
           }
          ],
          "table": [
           {
            "cells": {
             "fill": {
              "color": "#506784"
             },
             "line": {
              "color": "rgb(17,17,17)"
             }
            },
            "header": {
             "fill": {
              "color": "#2a3f5f"
             },
             "line": {
              "color": "rgb(17,17,17)"
             }
            },
            "type": "table"
           }
          ]
         },
         "layout": {
          "annotationdefaults": {
           "arrowcolor": "#f2f5fa",
           "arrowhead": 0,
           "arrowwidth": 1
          },
          "autotypenumbers": "strict",
          "coloraxis": {
           "colorbar": {
            "outlinewidth": 0,
            "ticks": ""
           }
          },
          "colorscale": {
           "diverging": [
            [
             0,
             "#8e0152"
            ],
            [
             0.1,
             "#c51b7d"
            ],
            [
             0.2,
             "#de77ae"
            ],
            [
             0.3,
             "#f1b6da"
            ],
            [
             0.4,
             "#fde0ef"
            ],
            [
             0.5,
             "#f7f7f7"
            ],
            [
             0.6,
             "#e6f5d0"
            ],
            [
             0.7,
             "#b8e186"
            ],
            [
             0.8,
             "#7fbc41"
            ],
            [
             0.9,
             "#4d9221"
            ],
            [
             1,
             "#276419"
            ]
           ],
           "sequential": [
            [
             0,
             "#0d0887"
            ],
            [
             0.1111111111111111,
             "#46039f"
            ],
            [
             0.2222222222222222,
             "#7201a8"
            ],
            [
             0.3333333333333333,
             "#9c179e"
            ],
            [
             0.4444444444444444,
             "#bd3786"
            ],
            [
             0.5555555555555556,
             "#d8576b"
            ],
            [
             0.6666666666666666,
             "#ed7953"
            ],
            [
             0.7777777777777778,
             "#fb9f3a"
            ],
            [
             0.8888888888888888,
             "#fdca26"
            ],
            [
             1,
             "#f0f921"
            ]
           ],
           "sequentialminus": [
            [
             0,
             "#0d0887"
            ],
            [
             0.1111111111111111,
             "#46039f"
            ],
            [
             0.2222222222222222,
             "#7201a8"
            ],
            [
             0.3333333333333333,
             "#9c179e"
            ],
            [
             0.4444444444444444,
             "#bd3786"
            ],
            [
             0.5555555555555556,
             "#d8576b"
            ],
            [
             0.6666666666666666,
             "#ed7953"
            ],
            [
             0.7777777777777778,
             "#fb9f3a"
            ],
            [
             0.8888888888888888,
             "#fdca26"
            ],
            [
             1,
             "#f0f921"
            ]
           ]
          },
          "colorway": [
           "#636efa",
           "#EF553B",
           "#00cc96",
           "#ab63fa",
           "#FFA15A",
           "#19d3f3",
           "#FF6692",
           "#B6E880",
           "#FF97FF",
           "#FECB52"
          ],
          "font": {
           "color": "#f2f5fa"
          },
          "geo": {
           "bgcolor": "rgb(17,17,17)",
           "lakecolor": "rgb(17,17,17)",
           "landcolor": "rgb(17,17,17)",
           "showlakes": true,
           "showland": true,
           "subunitcolor": "#506784"
          },
          "hoverlabel": {
           "align": "left"
          },
          "hovermode": "closest",
          "mapbox": {
           "style": "dark"
          },
          "paper_bgcolor": "rgb(17,17,17)",
          "plot_bgcolor": "rgb(17,17,17)",
          "polar": {
           "angularaxis": {
            "gridcolor": "#506784",
            "linecolor": "#506784",
            "ticks": ""
           },
           "bgcolor": "rgb(17,17,17)",
           "radialaxis": {
            "gridcolor": "#506784",
            "linecolor": "#506784",
            "ticks": ""
           }
          },
          "scene": {
           "xaxis": {
            "backgroundcolor": "rgb(17,17,17)",
            "gridcolor": "#506784",
            "gridwidth": 2,
            "linecolor": "#506784",
            "showbackground": true,
            "ticks": "",
            "zerolinecolor": "#C8D4E3"
           },
           "yaxis": {
            "backgroundcolor": "rgb(17,17,17)",
            "gridcolor": "#506784",
            "gridwidth": 2,
            "linecolor": "#506784",
            "showbackground": true,
            "ticks": "",
            "zerolinecolor": "#C8D4E3"
           },
           "zaxis": {
            "backgroundcolor": "rgb(17,17,17)",
            "gridcolor": "#506784",
            "gridwidth": 2,
            "linecolor": "#506784",
            "showbackground": true,
            "ticks": "",
            "zerolinecolor": "#C8D4E3"
           }
          },
          "shapedefaults": {
           "line": {
            "color": "#f2f5fa"
           }
          },
          "sliderdefaults": {
           "bgcolor": "#C8D4E3",
           "bordercolor": "rgb(17,17,17)",
           "borderwidth": 1,
           "tickwidth": 0
          },
          "ternary": {
           "aaxis": {
            "gridcolor": "#506784",
            "linecolor": "#506784",
            "ticks": ""
           },
           "baxis": {
            "gridcolor": "#506784",
            "linecolor": "#506784",
            "ticks": ""
           },
           "bgcolor": "rgb(17,17,17)",
           "caxis": {
            "gridcolor": "#506784",
            "linecolor": "#506784",
            "ticks": ""
           }
          },
          "title": {
           "x": 0.05
          },
          "updatemenudefaults": {
           "bgcolor": "#506784",
           "borderwidth": 0
          },
          "xaxis": {
           "automargin": true,
           "gridcolor": "#283442",
           "linecolor": "#506784",
           "ticks": "",
           "title": {
            "standoff": 15
           },
           "zerolinecolor": "#283442",
           "zerolinewidth": 2
          },
          "yaxis": {
           "automargin": true,
           "gridcolor": "#283442",
           "linecolor": "#506784",
           "ticks": "",
           "title": {
            "standoff": 15
           },
           "zerolinecolor": "#283442",
           "zerolinewidth": 2
          }
         }
        },
        "title": {
         "text": "Top 25 3 point shooting percentages by season",
         "x": 0.5
        },
        "violinmode": "group",
        "xaxis": {
         "anchor": "y",
         "domain": [
          0,
          1
         ],
         "title": {
          "text": "Season"
         }
        },
        "yaxis": {
         "anchor": "x",
         "domain": [
          0,
          1
         ],
         "title": {
          "text": "3FG%"
         }
        }
       }
      }
     },
     "metadata": {},
     "output_type": "display_data"
    }
   ],
   "source": [
    "fig = px.violin(df, x=\"Season\", y=\"3fg%\", box=True, points=\"all\",\n",
    "          hover_data=df.columns)\n",
    "fig.update_layout(template=\"plotly_dark\",\n",
    "                  #width=900,\n",
    "                  #height=600,\n",
    "                  title='Top 25 3 point shooting percentages by season',\n",
    "                  xaxis_title='Season',\n",
    "                  yaxis_title='3FG%',\n",
    "                  title_x=0.5)\n",
    "fig.show()"
   ]
  },
  {
   "attachments": {},
   "cell_type": "markdown",
   "metadata": {},
   "source": [
    "### Individual Scoring Averages\n",
    "- look at what percentage of players have averaged between X and Y points in a season (having played >10 games)\n",
    "- each player/season record/instance is a separate instance "
   ]
  },
  {
   "cell_type": "code",
   "execution_count": 12,
   "metadata": {},
   "outputs": [
    {
     "data": {
      "application/vnd.plotly.v1+json": {
       "config": {
        "plotlyServerURL": "https://plot.ly"
       },
       "data": [
        {
         "domain": {
          "x": [
           0,
           1
          ],
          "y": [
           0,
           1
          ]
         },
         "hovertemplate": "label=%{label}<br>value=%{value}<extra></extra>",
         "labels": [
          "0-4.9",
          "5-9.9",
          "10-14.9",
          "15-19.9",
          "20-24.9",
          "25-29.9"
         ],
         "legendgroup": "",
         "name": "",
         "showlegend": true,
         "textinfo": "percent+value",
         "type": "pie",
         "values": [
          2888,
          1991,
          956,
          289,
          36,
          6
         ]
        }
       ],
       "layout": {
        "legend": {
         "title": {
          "text": "PPG"
         },
         "tracegroupgap": 0
        },
        "template": {
         "data": {
          "bar": [
           {
            "error_x": {
             "color": "#f2f5fa"
            },
            "error_y": {
             "color": "#f2f5fa"
            },
            "marker": {
             "line": {
              "color": "rgb(17,17,17)",
              "width": 0.5
             },
             "pattern": {
              "fillmode": "overlay",
              "size": 10,
              "solidity": 0.2
             }
            },
            "type": "bar"
           }
          ],
          "barpolar": [
           {
            "marker": {
             "line": {
              "color": "rgb(17,17,17)",
              "width": 0.5
             },
             "pattern": {
              "fillmode": "overlay",
              "size": 10,
              "solidity": 0.2
             }
            },
            "type": "barpolar"
           }
          ],
          "carpet": [
           {
            "aaxis": {
             "endlinecolor": "#A2B1C6",
             "gridcolor": "#506784",
             "linecolor": "#506784",
             "minorgridcolor": "#506784",
             "startlinecolor": "#A2B1C6"
            },
            "baxis": {
             "endlinecolor": "#A2B1C6",
             "gridcolor": "#506784",
             "linecolor": "#506784",
             "minorgridcolor": "#506784",
             "startlinecolor": "#A2B1C6"
            },
            "type": "carpet"
           }
          ],
          "choropleth": [
           {
            "colorbar": {
             "outlinewidth": 0,
             "ticks": ""
            },
            "type": "choropleth"
           }
          ],
          "contour": [
           {
            "colorbar": {
             "outlinewidth": 0,
             "ticks": ""
            },
            "colorscale": [
             [
              0,
              "#0d0887"
             ],
             [
              0.1111111111111111,
              "#46039f"
             ],
             [
              0.2222222222222222,
              "#7201a8"
             ],
             [
              0.3333333333333333,
              "#9c179e"
             ],
             [
              0.4444444444444444,
              "#bd3786"
             ],
             [
              0.5555555555555556,
              "#d8576b"
             ],
             [
              0.6666666666666666,
              "#ed7953"
             ],
             [
              0.7777777777777778,
              "#fb9f3a"
             ],
             [
              0.8888888888888888,
              "#fdca26"
             ],
             [
              1,
              "#f0f921"
             ]
            ],
            "type": "contour"
           }
          ],
          "contourcarpet": [
           {
            "colorbar": {
             "outlinewidth": 0,
             "ticks": ""
            },
            "type": "contourcarpet"
           }
          ],
          "heatmap": [
           {
            "colorbar": {
             "outlinewidth": 0,
             "ticks": ""
            },
            "colorscale": [
             [
              0,
              "#0d0887"
             ],
             [
              0.1111111111111111,
              "#46039f"
             ],
             [
              0.2222222222222222,
              "#7201a8"
             ],
             [
              0.3333333333333333,
              "#9c179e"
             ],
             [
              0.4444444444444444,
              "#bd3786"
             ],
             [
              0.5555555555555556,
              "#d8576b"
             ],
             [
              0.6666666666666666,
              "#ed7953"
             ],
             [
              0.7777777777777778,
              "#fb9f3a"
             ],
             [
              0.8888888888888888,
              "#fdca26"
             ],
             [
              1,
              "#f0f921"
             ]
            ],
            "type": "heatmap"
           }
          ],
          "heatmapgl": [
           {
            "colorbar": {
             "outlinewidth": 0,
             "ticks": ""
            },
            "colorscale": [
             [
              0,
              "#0d0887"
             ],
             [
              0.1111111111111111,
              "#46039f"
             ],
             [
              0.2222222222222222,
              "#7201a8"
             ],
             [
              0.3333333333333333,
              "#9c179e"
             ],
             [
              0.4444444444444444,
              "#bd3786"
             ],
             [
              0.5555555555555556,
              "#d8576b"
             ],
             [
              0.6666666666666666,
              "#ed7953"
             ],
             [
              0.7777777777777778,
              "#fb9f3a"
             ],
             [
              0.8888888888888888,
              "#fdca26"
             ],
             [
              1,
              "#f0f921"
             ]
            ],
            "type": "heatmapgl"
           }
          ],
          "histogram": [
           {
            "marker": {
             "pattern": {
              "fillmode": "overlay",
              "size": 10,
              "solidity": 0.2
             }
            },
            "type": "histogram"
           }
          ],
          "histogram2d": [
           {
            "colorbar": {
             "outlinewidth": 0,
             "ticks": ""
            },
            "colorscale": [
             [
              0,
              "#0d0887"
             ],
             [
              0.1111111111111111,
              "#46039f"
             ],
             [
              0.2222222222222222,
              "#7201a8"
             ],
             [
              0.3333333333333333,
              "#9c179e"
             ],
             [
              0.4444444444444444,
              "#bd3786"
             ],
             [
              0.5555555555555556,
              "#d8576b"
             ],
             [
              0.6666666666666666,
              "#ed7953"
             ],
             [
              0.7777777777777778,
              "#fb9f3a"
             ],
             [
              0.8888888888888888,
              "#fdca26"
             ],
             [
              1,
              "#f0f921"
             ]
            ],
            "type": "histogram2d"
           }
          ],
          "histogram2dcontour": [
           {
            "colorbar": {
             "outlinewidth": 0,
             "ticks": ""
            },
            "colorscale": [
             [
              0,
              "#0d0887"
             ],
             [
              0.1111111111111111,
              "#46039f"
             ],
             [
              0.2222222222222222,
              "#7201a8"
             ],
             [
              0.3333333333333333,
              "#9c179e"
             ],
             [
              0.4444444444444444,
              "#bd3786"
             ],
             [
              0.5555555555555556,
              "#d8576b"
             ],
             [
              0.6666666666666666,
              "#ed7953"
             ],
             [
              0.7777777777777778,
              "#fb9f3a"
             ],
             [
              0.8888888888888888,
              "#fdca26"
             ],
             [
              1,
              "#f0f921"
             ]
            ],
            "type": "histogram2dcontour"
           }
          ],
          "mesh3d": [
           {
            "colorbar": {
             "outlinewidth": 0,
             "ticks": ""
            },
            "type": "mesh3d"
           }
          ],
          "parcoords": [
           {
            "line": {
             "colorbar": {
              "outlinewidth": 0,
              "ticks": ""
             }
            },
            "type": "parcoords"
           }
          ],
          "pie": [
           {
            "automargin": true,
            "type": "pie"
           }
          ],
          "scatter": [
           {
            "marker": {
             "line": {
              "color": "#283442"
             }
            },
            "type": "scatter"
           }
          ],
          "scatter3d": [
           {
            "line": {
             "colorbar": {
              "outlinewidth": 0,
              "ticks": ""
             }
            },
            "marker": {
             "colorbar": {
              "outlinewidth": 0,
              "ticks": ""
             }
            },
            "type": "scatter3d"
           }
          ],
          "scattercarpet": [
           {
            "marker": {
             "colorbar": {
              "outlinewidth": 0,
              "ticks": ""
             }
            },
            "type": "scattercarpet"
           }
          ],
          "scattergeo": [
           {
            "marker": {
             "colorbar": {
              "outlinewidth": 0,
              "ticks": ""
             }
            },
            "type": "scattergeo"
           }
          ],
          "scattergl": [
           {
            "marker": {
             "line": {
              "color": "#283442"
             }
            },
            "type": "scattergl"
           }
          ],
          "scattermapbox": [
           {
            "marker": {
             "colorbar": {
              "outlinewidth": 0,
              "ticks": ""
             }
            },
            "type": "scattermapbox"
           }
          ],
          "scatterpolar": [
           {
            "marker": {
             "colorbar": {
              "outlinewidth": 0,
              "ticks": ""
             }
            },
            "type": "scatterpolar"
           }
          ],
          "scatterpolargl": [
           {
            "marker": {
             "colorbar": {
              "outlinewidth": 0,
              "ticks": ""
             }
            },
            "type": "scatterpolargl"
           }
          ],
          "scatterternary": [
           {
            "marker": {
             "colorbar": {
              "outlinewidth": 0,
              "ticks": ""
             }
            },
            "type": "scatterternary"
           }
          ],
          "surface": [
           {
            "colorbar": {
             "outlinewidth": 0,
             "ticks": ""
            },
            "colorscale": [
             [
              0,
              "#0d0887"
             ],
             [
              0.1111111111111111,
              "#46039f"
             ],
             [
              0.2222222222222222,
              "#7201a8"
             ],
             [
              0.3333333333333333,
              "#9c179e"
             ],
             [
              0.4444444444444444,
              "#bd3786"
             ],
             [
              0.5555555555555556,
              "#d8576b"
             ],
             [
              0.6666666666666666,
              "#ed7953"
             ],
             [
              0.7777777777777778,
              "#fb9f3a"
             ],
             [
              0.8888888888888888,
              "#fdca26"
             ],
             [
              1,
              "#f0f921"
             ]
            ],
            "type": "surface"
           }
          ],
          "table": [
           {
            "cells": {
             "fill": {
              "color": "#506784"
             },
             "line": {
              "color": "rgb(17,17,17)"
             }
            },
            "header": {
             "fill": {
              "color": "#2a3f5f"
             },
             "line": {
              "color": "rgb(17,17,17)"
             }
            },
            "type": "table"
           }
          ]
         },
         "layout": {
          "annotationdefaults": {
           "arrowcolor": "#f2f5fa",
           "arrowhead": 0,
           "arrowwidth": 1
          },
          "autotypenumbers": "strict",
          "coloraxis": {
           "colorbar": {
            "outlinewidth": 0,
            "ticks": ""
           }
          },
          "colorscale": {
           "diverging": [
            [
             0,
             "#8e0152"
            ],
            [
             0.1,
             "#c51b7d"
            ],
            [
             0.2,
             "#de77ae"
            ],
            [
             0.3,
             "#f1b6da"
            ],
            [
             0.4,
             "#fde0ef"
            ],
            [
             0.5,
             "#f7f7f7"
            ],
            [
             0.6,
             "#e6f5d0"
            ],
            [
             0.7,
             "#b8e186"
            ],
            [
             0.8,
             "#7fbc41"
            ],
            [
             0.9,
             "#4d9221"
            ],
            [
             1,
             "#276419"
            ]
           ],
           "sequential": [
            [
             0,
             "#0d0887"
            ],
            [
             0.1111111111111111,
             "#46039f"
            ],
            [
             0.2222222222222222,
             "#7201a8"
            ],
            [
             0.3333333333333333,
             "#9c179e"
            ],
            [
             0.4444444444444444,
             "#bd3786"
            ],
            [
             0.5555555555555556,
             "#d8576b"
            ],
            [
             0.6666666666666666,
             "#ed7953"
            ],
            [
             0.7777777777777778,
             "#fb9f3a"
            ],
            [
             0.8888888888888888,
             "#fdca26"
            ],
            [
             1,
             "#f0f921"
            ]
           ],
           "sequentialminus": [
            [
             0,
             "#0d0887"
            ],
            [
             0.1111111111111111,
             "#46039f"
            ],
            [
             0.2222222222222222,
             "#7201a8"
            ],
            [
             0.3333333333333333,
             "#9c179e"
            ],
            [
             0.4444444444444444,
             "#bd3786"
            ],
            [
             0.5555555555555556,
             "#d8576b"
            ],
            [
             0.6666666666666666,
             "#ed7953"
            ],
            [
             0.7777777777777778,
             "#fb9f3a"
            ],
            [
             0.8888888888888888,
             "#fdca26"
            ],
            [
             1,
             "#f0f921"
            ]
           ]
          },
          "colorway": [
           "#636efa",
           "#EF553B",
           "#00cc96",
           "#ab63fa",
           "#FFA15A",
           "#19d3f3",
           "#FF6692",
           "#B6E880",
           "#FF97FF",
           "#FECB52"
          ],
          "font": {
           "color": "#f2f5fa"
          },
          "geo": {
           "bgcolor": "rgb(17,17,17)",
           "lakecolor": "rgb(17,17,17)",
           "landcolor": "rgb(17,17,17)",
           "showlakes": true,
           "showland": true,
           "subunitcolor": "#506784"
          },
          "hoverlabel": {
           "align": "left"
          },
          "hovermode": "closest",
          "mapbox": {
           "style": "dark"
          },
          "paper_bgcolor": "rgb(17,17,17)",
          "plot_bgcolor": "rgb(17,17,17)",
          "polar": {
           "angularaxis": {
            "gridcolor": "#506784",
            "linecolor": "#506784",
            "ticks": ""
           },
           "bgcolor": "rgb(17,17,17)",
           "radialaxis": {
            "gridcolor": "#506784",
            "linecolor": "#506784",
            "ticks": ""
           }
          },
          "scene": {
           "xaxis": {
            "backgroundcolor": "rgb(17,17,17)",
            "gridcolor": "#506784",
            "gridwidth": 2,
            "linecolor": "#506784",
            "showbackground": true,
            "ticks": "",
            "zerolinecolor": "#C8D4E3"
           },
           "yaxis": {
            "backgroundcolor": "rgb(17,17,17)",
            "gridcolor": "#506784",
            "gridwidth": 2,
            "linecolor": "#506784",
            "showbackground": true,
            "ticks": "",
            "zerolinecolor": "#C8D4E3"
           },
           "zaxis": {
            "backgroundcolor": "rgb(17,17,17)",
            "gridcolor": "#506784",
            "gridwidth": 2,
            "linecolor": "#506784",
            "showbackground": true,
            "ticks": "",
            "zerolinecolor": "#C8D4E3"
           }
          },
          "shapedefaults": {
           "line": {
            "color": "#f2f5fa"
           }
          },
          "sliderdefaults": {
           "bgcolor": "#C8D4E3",
           "bordercolor": "rgb(17,17,17)",
           "borderwidth": 1,
           "tickwidth": 0
          },
          "ternary": {
           "aaxis": {
            "gridcolor": "#506784",
            "linecolor": "#506784",
            "ticks": ""
           },
           "baxis": {
            "gridcolor": "#506784",
            "linecolor": "#506784",
            "ticks": ""
           },
           "bgcolor": "rgb(17,17,17)",
           "caxis": {
            "gridcolor": "#506784",
            "linecolor": "#506784",
            "ticks": ""
           }
          },
          "title": {
           "x": 0.05
          },
          "updatemenudefaults": {
           "bgcolor": "#506784",
           "borderwidth": 0
          },
          "xaxis": {
           "automargin": true,
           "gridcolor": "#283442",
           "linecolor": "#506784",
           "ticks": "",
           "title": {
            "standoff": 15
           },
           "zerolinecolor": "#283442",
           "zerolinewidth": 2
          },
          "yaxis": {
           "automargin": true,
           "gridcolor": "#283442",
           "linecolor": "#506784",
           "ticks": "",
           "title": {
            "standoff": 15
           },
           "zerolinecolor": "#283442",
           "zerolinewidth": 2
          }
         }
        },
        "title": {
         "text": "Individual PPG Averages Since 2010",
         "x": 0.5
        },
        "width": 500
       }
      }
     },
     "metadata": {},
     "output_type": "display_data"
    },
    {
     "name": "stdout",
     "output_type": "stream",
     "text": [
      "[(6166,)]\n"
     ]
    }
   ],
   "source": [
    "pts = [0, 5, 10, 15, 20, 25, 30]\n",
    "df = pd.DataFrame()\n",
    "\n",
    "for idx in range(0,len(pts)-1):\n",
    "    lower_bound = pts[idx]\n",
    "    upper_bound = pts[idx+1]\n",
    "    \n",
    "    q = \"\"\"\n",
    "        SELECT count(player_id)\n",
    "        FROM player_shooting\n",
    "        NATURAL JOIN player_info\n",
    "        WHERE ppg >= %s AND ppg < %s AND games_played > 10 \n",
    "        \"\"\"\n",
    "    result = read_query(connection, q,[lower_bound, upper_bound])\n",
    "    \n",
    "    df[lower_bound] = result[0]\n",
    "     \n",
    "#count total number of players since 2010 who played in at least 10 games\n",
    "q2 = \"\"\"\n",
    "    SELECT count(player_id)\n",
    "    FROM player_info\n",
    "    WHERE games_played > 10\n",
    "    ;\n",
    "    \"\"\"\n",
    "\n",
    "num_players_total = read_query(connection, q2, None)\n",
    "\n",
    "labels = ['0-4.9','5-9.9','10-14.9','15-19.9', '20-24.9', '25-29.9']\n",
    "plot = px.pie(df, values=df.iloc[0], names=labels, title=\"Individual PPG Averages Since 2010\")\n",
    "plot.update_traces(textinfo='percent+value')\n",
    "plot.update_layout(width=500, template=\"plotly_dark\", title_x=0.5, legend=dict(title=\"PPG\"))\n",
    "plot.show()\n",
    "\n",
    "#save Figure as jpg image\n",
    "plot.write_image(\"images/ppg_ave_piechart.jpeg\")\n",
    "\n",
    "print(num_players_total)"
   ]
  },
  {
   "cell_type": "code",
   "execution_count": null,
   "metadata": {},
   "outputs": [],
   "source": [
    "num_players_total\n",
    "\n"
   ]
  },
  {
   "cell_type": "markdown",
   "metadata": {},
   "source": []
  }
 ],
 "metadata": {
  "kernelspec": {
   "display_name": ".venv",
   "language": "python",
   "name": "python3"
  },
  "language_info": {
   "codemirror_mode": {
    "name": "ipython",
    "version": 3
   },
   "file_extension": ".py",
   "mimetype": "text/x-python",
   "name": "python",
   "nbconvert_exporter": "python",
   "pygments_lexer": "ipython3",
   "version": "3.8.5"
  },
  "orig_nbformat": 4,
  "vscode": {
   "interpreter": {
    "hash": "1a6790f7a0a475825be946d18e8cf07ce8c9215b4c865963d30686fba4418063"
   }
  }
 },
 "nbformat": 4,
 "nbformat_minor": 2
}
